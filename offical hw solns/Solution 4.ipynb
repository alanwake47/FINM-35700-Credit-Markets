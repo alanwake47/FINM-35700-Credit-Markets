{
 "cells": [
  {
   "attachments": {},
   "cell_type": "markdown",
   "id": "3e013a68",
   "metadata": {},
   "source": [
    "# Homework 4\n",
    "\n",
    "## FINM 35700 - Spring 2023\n",
    "\n",
    "### UChicago Financial Mathematics\n",
    "\n",
    "* Alex Popovici\n",
    "* alex.popovici@uchicago.edu"
   ]
  },
  {
   "attachments": {},
   "cell_type": "markdown",
   "id": "97d4c3b4",
   "metadata": {},
   "source": [
    "This homework relies on multiple files (from previous weeks):\n",
    "\n",
    "- the US government bonds symbology file `govt_symbology`, \n",
    "- the \"on-the-run\" treasuries data file `govt_on_the_run`,\n",
    "- the corporate bonds symbology file `corp_symbology`,\n",
    "- the cash bond market data file `market_prices_eod`,\n",
    "- the CDS data file `cds_market_data_eod`. \n",
    "- the SOFR OIS Swap symbology file `sofr_swap_symbology`,\n",
    "- the SOFR OIS Swap market data file `sofr_swaps_market_data_eod`.\n",
    "\n"
   ]
  },
  {
   "cell_type": "code",
   "execution_count": 1,
   "id": "5079f70e",
   "metadata": {},
   "outputs": [],
   "source": [
    "import QuantLib as ql\n",
    "import numpy as np\n",
    "import pandas as pd\n",
    "import datetime as dt\n",
    "\n",
    "import matplotlib.pyplot as plt\n",
    "%matplotlib inline"
   ]
  },
  {
   "attachments": {},
   "cell_type": "markdown",
   "id": "a2df4899",
   "metadata": {},
   "source": [
    "# Collection of useful helper functions from previous homeworks"
   ]
  },
  {
   "cell_type": "code",
   "execution_count": 2,
   "id": "ee8cab5e",
   "metadata": {},
   "outputs": [],
   "source": [
    "def get_ql_date(date) -> ql.Date:\n",
    "    \"\"\"\n",
    "    convert dt.date to ql.Date\n",
    "    \"\"\"\n",
    "    if isinstance(date, dt.date):\n",
    "        return ql.Date(date.day, date.month, date.year)\n",
    "    elif isinstance(date, str):\n",
    "        date = dt.datetime.strptime(date, \"%Y-%m-%d\").date()\n",
    "        return ql.Date(date.day, date.month, date.year)\n",
    "    else:\n",
    "        raise ValueError(f\"to_qldate, {type(date)}, {date}\")\n",
    "\n",
    "\n",
    "def create_schedule_from_symbology(details: dict):\n",
    "    '''Create a QuantLib cashflow schedule from symbology details dictionary (usually one row of the symbology dataframe)\n",
    "    '''\n",
    "    # Create maturity from details['maturity']\n",
    "    maturity = get_ql_date(details['maturity'])\n",
    "    \n",
    "    # Create acc_first from details['acc_first']\n",
    "    acc_first = get_ql_date(details['acc_first'])\n",
    "    \n",
    "    # Create calendar for Corp and Govt asset classes\n",
    "    calendar = ql.UnitedStates(ql.UnitedStates.GovernmentBond)\n",
    "    \n",
    "    # define period from details['cpn_freq'] ... can be hard-coded to 2 = semi-annual frequency\n",
    "    period = ql.Period(2)\n",
    "    \n",
    "    # business_day_convention\n",
    "    business_day_convention = ql.Unadjusted\n",
    "    \n",
    "    # termination_date_convention\n",
    "    termination_date_convention = ql.Unadjusted\n",
    "    \n",
    "    # date_generation\n",
    "    date_generation=ql.DateGeneration.Backward\n",
    "    \n",
    "    # Create schedule using ql.MakeSchedule interface (with keyword arguments)\n",
    "    schedule = ql.MakeSchedule(effectiveDate=acc_first,  # this may not be the same as the bond's start date\n",
    "                            terminationDate=maturity,\n",
    "                            tenor=period,\n",
    "                            calendar=calendar,\n",
    "                            convention=business_day_convention,\n",
    "                            terminalDateConvention=termination_date_convention,\n",
    "                            rule=date_generation,\n",
    "                            endOfMonth=True,\n",
    "                            firstDate=ql.Date(),\n",
    "                            nextToLastDate=ql.Date())\n",
    "    return schedule\n",
    "\n",
    "\n",
    "def create_bond_from_symbology(details: dict):\n",
    "    '''Create a US fixed rate bond object from symbology details dictionary (usually one row of the symbology dataframe)\n",
    "    '''\n",
    "    \n",
    "     # Create day_count from details['dcc']\n",
    "     # For US Treasuries use ql.ActualActual(ql.ActualActual.ISMA)\n",
    "     # For US Corporates use ql.Thirty360(ql.Thirty360.USA)\n",
    "    if details['dcc'] == '30/360':\n",
    "        day_count = ql.Thirty360(ql.Thirty360.USA)\n",
    "    elif details['dcc'] == 'ACT/ACT':\n",
    "        day_count = ql.ActualActual(ql.ActualActual.ISMA)\n",
    "    else:\n",
    "        raise ValueError(f\"unsupported day count, {type(details['dcc'])}, {details['dcc']}\")\n",
    "    \n",
    "    # Create day_count from details['start_date']    \n",
    "    issue_date = get_ql_date(details['start_date'])\n",
    "    \n",
    "    # Create days_settle from details['days_settle']\n",
    "    days_settle = int(float(details['days_settle']))\n",
    "\n",
    "    # Create days_settle from details['coupon']\n",
    "    coupon = float(details['coupon'])/100.\n",
    "\n",
    "    # Create cashflow schedule\n",
    "    schedule = create_schedule_from_symbology(details)\n",
    "    \n",
    "    face_value = 100\n",
    "    redemption = 100\n",
    "    \n",
    "    payment_convention = ql.Unadjusted\n",
    "        \n",
    "    # Create fixed rate bond object\n",
    "    fixed_rate_bond = ql.FixedRateBond(\n",
    "        days_settle,\n",
    "        face_value,\n",
    "        schedule,\n",
    "        [coupon],\n",
    "        day_count,\n",
    "        payment_convention,\n",
    "        redemption,\n",
    "        issue_date)        \n",
    "\n",
    "    return fixed_rate_bond\n",
    "\n",
    "\n",
    "def get_bond_cashflows(bond: ql.FixedRateBond, calc_date=ql.Date):\n",
    "    '''Returns all future cashflows as of calc_date, i.e. with payment dates > calc_date.\n",
    "    '''    \n",
    "    day_counter = bond.dayCounter()    \n",
    "    \n",
    "    x = [(cf.date(), day_counter.yearFraction(calc_date, cf.date()), cf.amount()) for cf in bond.cashflows()]\n",
    "    cf_date, cf_yearFrac, cf_amount = zip(*x)\n",
    "    cashflows_df = pd.DataFrame(data={'CashFlowDate': cf_date, 'CashFlowYearFrac': cf_yearFrac, 'CashFlowAmount': cf_amount})\n",
    "\n",
    "    # filter for payment dates > calc_date\n",
    "    cashflows_df = cashflows_df[cashflows_df.CashFlowYearFrac > 0]\n",
    "    return cashflows_df\n",
    "\n",
    "\n",
    "def calibrate_yield_curve_from_frame(\n",
    "        calc_date: ql.Date,\n",
    "        treasury_details: pd.DataFrame,\n",
    "        price_quote_column: str):\n",
    "    '''Create a calibrated yield curve from a details dataframe which includes bid/ask/mid price quotes.\n",
    "    '''\n",
    "    ql.Settings.instance().evaluationDate = calc_date\n",
    "\n",
    "    # Sort dataframe by maturity\n",
    "    sorted_details_frame = treasury_details.sort_values(by='maturity')    \n",
    "    \n",
    "    # For US Treasuries use ql.ActualActual(ql.ActualActual.ISMA)\n",
    "    day_count = ql.ActualActual(ql.ActualActual.ISMA)\n",
    "\n",
    "    bond_helpers = []\n",
    "    \n",
    "    for index, row in sorted_details_frame.iterrows():\n",
    "        bond_object = create_bond_from_symbology(row)\n",
    "        \n",
    "        tsy_clean_price_quote = row[price_quote_column]\n",
    "        tsy_clean_price_handle = ql.QuoteHandle(ql.SimpleQuote(tsy_clean_price_quote))\n",
    "        \n",
    "        bond_helper = ql.BondHelper(tsy_clean_price_handle, bond_object)\n",
    "        bond_helpers.append(bond_helper)\n",
    "        \n",
    "    yield_curve = ql.PiecewiseLogCubicDiscount(calc_date, bond_helpers, day_count)\n",
    "    yield_curve.enableExtrapolation()\n",
    "    return yield_curve\n",
    "\n",
    "\n",
    "def calibrate_sofr_curve_from_frame(\n",
    "        calc_date: ql.Date,\n",
    "        sofr_details: pd.DataFrame,\n",
    "        rate_quote_column: str):\n",
    "    '''Create a calibrated yield curve from a SOFR details dataframe which includes rate quotes.\n",
    "    '''\n",
    "    ql.Settings.instance().evaluationDate = calc_date\n",
    "\n",
    "    # Sort dataframe by maturity\n",
    "    sorted_details_frame = sofr_details.sort_values(by='term')    \n",
    "    \n",
    "    # settle_days\n",
    "    settle_days = 2\n",
    "    \n",
    "    # For US SOFR OIS Swaps \n",
    "    day_count = ql.Actual360()\n",
    "\n",
    "    # For US SOFR Swaps     \n",
    "    calendar = ql.UnitedStates(ql.UnitedStates.GovernmentBond)\n",
    "    \n",
    "    sofr_helpers = []\n",
    "    \n",
    "    for index, row in sorted_details_frame.iterrows():\n",
    "        sofr_quote = row[rate_quote_column]\n",
    "        tenor_in_years = row['term']\n",
    "        sofr_tenor = ql.Period(tenor_in_years, ql.Years)\n",
    "        \n",
    "        # create sofr_rate_helper\n",
    "        sofr_helper = ql.OISRateHelper(settle_days, sofr_tenor, ql.QuoteHandle(ql.SimpleQuote(sofr_quote/100)), ql.Sofr())\n",
    "                        \n",
    "        sofr_helpers.append(sofr_helper)\n",
    "        \n",
    "    sofr_yield_curve = ql.PiecewiseLinearZero(settle_days, calendar, sofr_helpers, day_count)\n",
    "    sofr_yield_curve.enableExtrapolation()\n",
    "    \n",
    "    return sofr_yield_curve\n",
    "\n",
    "\n",
    "def calibrate_cds_hazard_rate_curve(calc_date, sofr_yield_curve_handle, cds_par_spreads_bps, cds_recovery_rate = 0.4):\n",
    "    '''Calibrate hazard rate curve from CDS Par Spreads'''\n",
    "    CDS_settle_days = 2\n",
    "\n",
    "    CDS_day_count = ql.Actual360()\n",
    "\n",
    "    # CDS standard tenors: 1Y, 2Y, 3Y, 5Y 7Y and 10Y\n",
    "    CDS_tenors = [ql.Period(y, ql.Years) for y in [1, 2, 3, 5, 7, 10]]\n",
    "              \n",
    "\n",
    "    CDS_helpers = [ql.SpreadCdsHelper((cds_par_spread / 10000.0), CDS_tenor, CDS_settle_days, ql.TARGET(),\n",
    "                                  ql.Quarterly, ql.Following, ql.DateGeneration.TwentiethIMM, CDS_day_count, cds_recovery_rate, sofr_yield_curve_handle)\n",
    "               \n",
    "    for (cds_par_spread, CDS_tenor) in zip(cds_par_spreads_bps, CDS_tenors)]\n",
    "\n",
    "    # bootstrap hazard_rate_curve\n",
    "    hazard_rate_curve = ql.PiecewiseFlatHazardRate(calc_date, CDS_helpers, CDS_day_count)\n",
    "    hazard_rate_curve.enableExtrapolation()\n",
    "\n",
    "    return(hazard_rate_curve)\n"
   ]
  },
  {
   "attachments": {},
   "cell_type": "markdown",
   "id": "27e68a4e",
   "metadata": {},
   "source": [
    "# Problem 1: Pricing risky bonds in the hazard rate model\n",
    "## This is building upon\n",
    "- Homework 2 \"Problem 2: US Treasury yield curve calibration (On-The-Runs)\",\n",
    "- Homework 3 \"Problem 3: US SOFR swap curve calibration\" and\n",
    "- Homework 3 \"Problem 4: CDS Hazard Rate calibration\"."
   ]
  },
  {
   "attachments": {},
   "cell_type": "markdown",
   "id": "e07bfd7c",
   "metadata": {},
   "source": [
    "## a. Prepare the market data\n",
    "### Load the symbology + market data dataframes. Calibrate the following curves as of 2023-04-14:\n",
    "- the \"on-the-run\" US Treasury curve,\n",
    "- the US SOFR curve and \n",
    "- the IBM CDS hazard rate curve (on the top of SOFR discount curve).\n"
   ]
  },
  {
   "cell_type": "code",
   "execution_count": 3,
   "id": "e4213f48",
   "metadata": {},
   "outputs": [],
   "source": [
    "# Use static calculation/valuation date of 2023-04-14, matching data available in the market prices EOD file\n",
    "calc_date = ql.Date(14, 4, 2023)\n",
    "ql.Settings.instance().evaluationDate = calc_date\n",
    "\n",
    "calc_date_str = '2023-04-14'"
   ]
  },
  {
   "cell_type": "code",
   "execution_count": 4,
   "id": "b15c9e90",
   "metadata": {},
   "outputs": [
    {
     "name": "stdout",
     "output_type": "stream",
     "text": [
      "           figi          security       bid       ask  bid_yield  bid_yield\n",
      "0  BBG01G14BXX2  T 3 7/8 03/31/25   99.5703   99.5820      4.105      4.105\n",
      "1  BBG01G5ZMM43  T 3 3/4 04/15/26   99.7578   99.7734      3.836      3.836\n",
      "2  BBG01G14BW91  T 3 5/8 03/31/28  100.0703  100.0859      3.609      3.609\n",
      "3  BBG01G14BV75  T 3 5/8 03/31/30  100.3750  100.4375      3.563      3.563\n",
      "4  BBG01DVKBC66  T 3 1/2 02/15/33   99.8438   99.8906      3.519      3.519\n",
      "5  BBG01F6N6GN1  T 3 7/8 02/15/43  100.2969  100.3750      3.853      3.853\n",
      "6  BBG01DVKBH56  T 3 5/8 02/15/53   97.9531   98.0313      3.739      3.739\n"
     ]
    }
   ],
   "source": [
    "###################################################\n",
    "# Prepare the \"on-the-run\" US Treasury dataframe\n",
    "###################################################\n",
    "\n",
    "# govt_symbology_df\n",
    "govt_symbology_df = pd.read_excel('../data/govt_symbology.xlsx')\n",
    "govt_symbology_df.set_index('figi',inplace=True)\n",
    "\n",
    "# govt_otr_df\n",
    "govt_otr_df = pd.read_excel('../data/govt_on_the_run.xlsx')\n",
    "govt_otr_df.set_index('ticker',inplace=True)\n",
    "\n",
    "# filter for on_the_run_tsy_tickers\n",
    "on_the_run_tsy_tickers = ['GT2 Govt', 'GT3 Govt', 'GT5 Govt', 'GT7 Govt', 'GT10 Govt', 'GT20 Govt', 'GT30 Govt']\n",
    "on_the_run_tsy_figis = govt_otr_df.loc[on_the_run_tsy_tickers]['figi']\n",
    "\n",
    "# govt_otr_symbology_df\n",
    "govt_otr_symbology_df = govt_symbology_df.loc[on_the_run_tsy_figis]\n",
    "# print(govt_otr_symbology_df)\n",
    "\n",
    "# market_prices_df\n",
    "market_prices_df = pd.read_excel('../data/market_prices_eod.xlsx')\n",
    "market_prices_df.set_index('date',inplace=True)\n",
    "\n",
    "# treasury_otr_df\n",
    "treasury_otr_df = govt_otr_symbology_df.merge(market_prices_df.loc[calc_date_str], how='left', on=['figi', 'class', 'ticker', 'isin'])\n",
    "treasury_otr_df.sort_values('maturity',inplace=True)\n",
    "print(treasury_otr_df[['figi', 'security', 'bid', 'ask', 'bid_yield', 'bid_yield']])\n"
   ]
  },
  {
   "cell_type": "code",
   "execution_count": 5,
   "id": "59fd3b03",
   "metadata": {},
   "outputs": [
    {
     "name": "stdout",
     "output_type": "stream",
     "text": [
      "           figi                      name  mid_rate\n",
      "0  BBG00KFWPJJ9   USD OIS  ANN VS SOFR 1Y   4.81290\n",
      "1  BBG00KFWPJX3   USD OIS  ANN VS SOFR 2Y   4.11450\n",
      "2  BBG00KFWPK15   USD OIS  ANN VS SOFR 3Y   3.73035\n",
      "3  BBG00KFWPK51   USD OIS  ANN VS SOFR 5Y   3.38865\n",
      "4  BBG00KFWPK79   USD OIS  ANN VS SOFR 7Y   3.26475\n",
      "5  BBG00KFWPKB4  USD OIS  ANN VS SOFR 10Y   3.21550\n",
      "6  BBG00KFWPKF0  USD OIS  ANN VS SOFR 20Y   3.20165\n",
      "7  BBG00KFWPKH8  USD OIS  ANN VS SOFR 30Y   3.02075\n"
     ]
    }
   ],
   "source": [
    "###################################################\n",
    "# Load SOFR symbology and market data quotes\n",
    "###################################################\n",
    "\n",
    "# sofr_symbology_df\n",
    "sofr_symbology_df = pd.read_excel('../data/sofr_swaps_symbology.xlsx')\n",
    "\n",
    "# sofr_market_quotes_df\n",
    "sofr_market_quotes_df = pd.read_excel('../data/sofr_swaps_market_data_eod.xlsx')\n",
    "sofr_market_quotes_df.set_index('date',inplace=True)\n",
    "sofr_market_quotes_df.columns = ['figi', 'mid_rate']\n",
    "# print(sofr_market_quotes_df.tail())\n",
    "\n",
    "# sofr_df\n",
    "sofr_df = sofr_symbology_df.merge(sofr_market_quotes_df.loc[calc_date_str], how='left', on=['figi'])\n",
    "print(sofr_df[['figi', 'name', 'mid_rate']])\n"
   ]
  },
  {
   "cell_type": "code",
   "execution_count": 6,
   "id": "17a70df5",
   "metadata": {},
   "outputs": [],
   "source": [
    "# cds_market_quotes_df\n",
    "cds_market_quotes_df = pd.read_excel('../data/cds_market_data_eod.xlsx')\n",
    "cds_market_quotes_df.set_index('date',inplace=True)\n",
    "# print(cds_market_quotes_df.head())\n",
    "\n",
    "# Create par spreads (bps) dataframe\n",
    "par_spread_col_names = [f'par_spread_{n}y' for n in [1,2,3,5,7,10]]\n",
    "cds_market_quotes_df = cds_market_quotes_df[par_spread_col_names].apply(lambda x: x*1e4)\n"
   ]
  },
  {
   "cell_type": "code",
   "execution_count": 7,
   "id": "28380123",
   "metadata": {},
   "outputs": [],
   "source": [
    "# tsy_yield_curve calibration\n",
    "tsy_yield_curve = calibrate_yield_curve_from_frame(calc_date, treasury_otr_df, 'mid_clean')\n",
    "tsy_yield_curve_handle = ql.YieldTermStructureHandle(tsy_yield_curve)\n",
    "\n",
    "\n",
    "# sofr_yield_curve calibration\n",
    "sofr_yield_curve = calibrate_sofr_curve_from_frame(calc_date, sofr_df, 'mid_rate')\n",
    "sofr_yield_curve_handle = ql.YieldTermStructureHandle(sofr_yield_curve)\n",
    "\n",
    "\n",
    "# hazard_rate_curve calibration (from IBM CDS par spreads)\n",
    "cds_par_spreads = list(cds_market_quotes_df.loc[calc_date_str])\n",
    "cds_recovery_rate = 0.4\n",
    "\n",
    "# hazard_rate_curve\n",
    "hazard_rate_curve = calibrate_cds_hazard_rate_curve(calc_date, sofr_yield_curve_handle, cds_par_spreads, cds_recovery_rate)\n",
    "default_prob_curve_handle = ql.DefaultProbabilityTermStructureHandle(hazard_rate_curve)"
   ]
  },
  {
   "attachments": {},
   "cell_type": "markdown",
   "id": "55572cf7",
   "metadata": {},
   "source": [
    "## b. Create the IBM risky bond objects\n",
    "### Identify the following 3 IBM fixed rate bonds in the symbology table and create the corresponding fixed rate bonds (3 bond objects).\n",
    "\n",
    "- security = 'IBM 3.3 05/15/26' / figi = 'BBG00P3BLH05'\n",
    "- security = 'IBM 3.3 01/27/27' / figi = 'BBG00FVNGFP3'\n",
    "- security = 'IBM 3 1/2 05/15/29' / figi = 'BBG00P3BLH14'\n",
    "\n",
    "Use the create_bond_from_symbology() function (discussed in from Homework 2, Problem 1b) to create the bonds objects.\n",
    "\n",
    "List the bond cashflows using the get_bond_cashflows() function.\n",
    "\n"
   ]
  },
  {
   "cell_type": "code",
   "execution_count": 8,
   "id": "abbb778d",
   "metadata": {},
   "outputs": [
    {
     "name": "stdout",
     "output_type": "stream",
     "text": [
      "figi                   BBG00P3BLH05         BBG00FVNGFP3         BBG00P3BLH14\n",
      "ticker                          IBM                  IBM                  IBM\n",
      "class                          Corp                 Corp                 Corp\n",
      "isin                   US459200JZ55         US459200JR30         US459200KA85\n",
      "trace                    IBM4832194           IBM4448403           IBM4832195\n",
      "und_bench_isin         US91282CGR60         US91282CGT27         US91282CGT27\n",
      "security           IBM 3.3 05/15/26     IBM 3.3 01/27/27   IBM 3 1/2 05/15/29\n",
      "name                       IBM CORP             IBM CORP             IBM CORP\n",
      "type                         GLOBAL               GLOBAL               GLOBAL\n",
      "coupon                          3.3                  3.3                  3.5\n",
      "cpn_type                      FIXED                FIXED                FIXED\n",
      "dcc                          30/360               30/360               30/360\n",
      "cpn_freq                          2                    2                    2\n",
      "days_settle                       2                    2                    2\n",
      "start_date      2019-05-15 00:00:00  2017-01-27 00:00:00  2019-05-15 00:00:00\n",
      "cpn_first       2019-11-15 00:00:00  2017-07-27 00:00:00  2019-11-15 00:00:00\n",
      "acc_first       2019-05-15 00:00:00  2017-01-27 00:00:00  2019-05-15 00:00:00\n",
      "maturity        2026-05-15 00:00:00  2027-01-27 00:00:00  2029-05-15 00:00:00\n",
      "mty_typ                 AT MATURITY          AT MATURITY          AT MATURITY\n",
      "rank                   Sr Unsecured         Sr Unsecured         Sr Unsecured\n",
      "country                          US                   US                   US\n",
      "currency                        USD                  USD                  USD\n",
      "date            2023-04-14 00:00:00  2023-04-14 00:00:00  2023-04-14 00:00:00\n",
      "bid                          96.597                96.04               93.741\n",
      "ask                          96.977               96.499               94.203\n",
      "mid_clean                    96.787                96.27               93.972\n",
      "mid_dirty                     98.19               97.012                95.46\n",
      "bid_yield                     4.496                 4.45                4.696\n",
      "ask_yield                      4.36                4.314                4.604\n"
     ]
    }
   ],
   "source": [
    "# corp_symbology_df\n",
    "corp_symbology_df = pd.read_excel('../data/corp_symbology.xlsx')\n",
    "corp_symbology_df = corp_symbology_df[corp_symbology_df.cpn_type == 'FIXED']\n",
    "ibm_symbology_df = corp_symbology_df[corp_symbology_df.ticker == 'IBM']\n",
    "\n",
    "# market_prices_df\n",
    "market_prices_df = pd.read_excel('../data/market_prices_eod.xlsx')\n",
    "# market_prices_df.set_index('figi',inplace=True)\n",
    "\n",
    "# ibm_df\n",
    "ibm_df = ibm_symbology_df.merge(market_prices_df, how='inner', on=['class', 'ticker', 'isin', 'figi'])\n",
    "ibm_df.set_index('figi',inplace=True)\n",
    "\n",
    "# Keep selected IBM bonds only\n",
    "ibm_selected_figis = ['BBG00P3BLH05', 'BBG00FVNGFP3', 'BBG00P3BLH14']\n",
    "ibm_df = ibm_df.loc[ibm_selected_figis]\n",
    "print(ibm_df.T)\n"
   ]
  },
  {
   "cell_type": "code",
   "execution_count": 9,
   "id": "b3a256bb",
   "metadata": {},
   "outputs": [
    {
     "name": "stdout",
     "output_type": "stream",
     "text": [
      "Bond cashflows for IBM 3.3 05/15/26\n",
      "           CashFlowDate  CashFlowYearFrac  CashFlowAmount\n",
      "7        May 15th, 2023          0.086111            1.65\n",
      "8   November 15th, 2023          0.586111            1.65\n",
      "9        May 15th, 2024          1.086111            1.65\n",
      "10  November 15th, 2024          1.586111            1.65\n",
      "11       May 15th, 2025          2.086111            1.65\n",
      "12  November 15th, 2025          2.586111            1.65\n",
      "13       May 15th, 2026          3.086111            1.65\n",
      "14       May 15th, 2026          3.086111          100.00\n",
      "Bond cashflows for IBM 3.3 01/27/27\n",
      "          CashFlowDate  CashFlowYearFrac  CashFlowAmount\n",
      "12     July 27th, 2023          0.286111            1.65\n",
      "13  January 27th, 2024          0.786111            1.65\n",
      "14     July 27th, 2024          1.286111            1.65\n",
      "15  January 27th, 2025          1.786111            1.65\n",
      "16     July 27th, 2025          2.286111            1.65\n",
      "17  January 27th, 2026          2.786111            1.65\n",
      "18     July 27th, 2026          3.286111            1.65\n",
      "19  January 27th, 2027          3.786111            1.65\n",
      "20  January 27th, 2027          3.786111          100.00\n",
      "Bond cashflows for IBM 3 1/2 05/15/29\n",
      "           CashFlowDate  CashFlowYearFrac  CashFlowAmount\n",
      "7        May 15th, 2023          0.086111            1.75\n",
      "8   November 15th, 2023          0.586111            1.75\n",
      "9        May 15th, 2024          1.086111            1.75\n",
      "10  November 15th, 2024          1.586111            1.75\n",
      "11       May 15th, 2025          2.086111            1.75\n",
      "12  November 15th, 2025          2.586111            1.75\n",
      "13       May 15th, 2026          3.086111            1.75\n",
      "14  November 15th, 2026          3.586111            1.75\n",
      "15       May 15th, 2027          4.086111            1.75\n",
      "16  November 15th, 2027          4.586111            1.75\n",
      "17       May 15th, 2028          5.086111            1.75\n",
      "18  November 15th, 2028          5.586111            1.75\n",
      "19       May 15th, 2029          6.086111            1.75\n",
      "20       May 15th, 2029          6.086111          100.00\n"
     ]
    }
   ],
   "source": [
    "# Create ibm_bond_objects\n",
    "ibm_bond_objects = [ create_bond_from_symbology(df_row.to_dict()) for index, df_row in ibm_df.iterrows()]\n",
    "\n",
    "# List the bond cashflows\n",
    "for i in range(0, 3):\n",
    "    print('Bond cashflows for', ibm_df.iloc[i]['security'])\n",
    "    print(get_bond_cashflows(ibm_bond_objects[i], calc_date)) \n"
   ]
  },
  {
   "attachments": {},
   "cell_type": "markdown",
   "id": "7834d854",
   "metadata": {},
   "source": [
    "## c. Compute CDS-implied (intrinsic) prices for the IBM fixd rate bonds\n",
    "\n",
    "Price the 3 IBM bonds using the CDS-calibrated hazard rate curve for IBM (via RiskyBondEngine).\n",
    "\n",
    "Print the clean prices and yields for the 3 test bonds. You can use the example code below.\n"
   ]
  },
  {
   "cell_type": "code",
   "execution_count": 10,
   "id": "c820515d",
   "metadata": {},
   "outputs": [
    {
     "name": "stdout",
     "output_type": "stream",
     "text": [
      "                        security  model_price  model_yield\n",
      "figi                                                      \n",
      "BBG00P3BLH05    IBM 3.3 05/15/26       97.494        4.176\n",
      "BBG00FVNGFP3    IBM 3.3 01/27/27       96.910        4.192\n",
      "BBG00P3BLH14  IBM 3 1/2 05/15/29       96.224        4.210\n"
     ]
    }
   ],
   "source": [
    "# flat_recovery_rate\n",
    "flat_recovery_rate = 0.40\n",
    "\n",
    "# Risky bond engine uses the calibrated CDS hazard rate curve for pricing credit default risk \n",
    "risky_bond_engine = ql.RiskyBondEngine(default_prob_curve_handle, flat_recovery_rate, tsy_yield_curve_handle)\n",
    "\n",
    "# Model/intrinsic prices and yields\n",
    "ibm_model_prices = []\n",
    "ibm_model_yields = []\n",
    "\n",
    "# Print the clean prices and yields for the 3 test bonds\n",
    "for i in range(0, 3):\n",
    "    fixed_rate_bond = ibm_bond_objects[i]\n",
    "    fixed_rate_bond.setPricingEngine(risky_bond_engine)\n",
    "    \n",
    "    corpBondModelPrice = round(fixed_rate_bond.cleanPrice(), 3)\n",
    "    corpBondModelYield = round(fixed_rate_bond.bondYield(corpBondModelPrice, ql.Thirty360(ql.Thirty360.USA), ql.Compounded, ql.Semiannual) * 100, 3)\n",
    "\n",
    "    ibm_model_prices.append(corpBondModelPrice)\n",
    "    ibm_model_yields.append(corpBondModelYield)\n",
    "    \n",
    "    \n",
    "# Display relevant metrics\n",
    "ibm_df['model_price'] = ibm_model_prices\n",
    "ibm_df['model_yield'] = ibm_model_yields\n",
    "print(ibm_df[['security', 'model_price', 'model_yield']])\n"
   ]
  },
  {
   "attachments": {},
   "cell_type": "markdown",
   "id": "d24a0174",
   "metadata": {},
   "source": [
    "## d. Compute the \"intrinsic\" vs market price basis for the IBM bonds\n",
    "\n",
    "Load the market clean prices and yields (mid quotes) from the market quotes dataframe as of 2023-04-14. Compute the basis between the \"CDS-implied intrinsic\" vs market values. \n",
    "\n",
    "- BasisInPrice = corpBondModelPrice - corpBondMarketPrice\n",
    "- BasisInYield = corpBondModelYield - corpBondMarketYield\n",
    "\n",
    "\n",
    "Are the CDS intrinsic prices lower or higher than the bond prices observed on the market? What factors could explain the basis?\n"
   ]
  },
  {
   "cell_type": "code",
   "execution_count": 11,
   "id": "9bca8fe9",
   "metadata": {},
   "outputs": [
    {
     "name": "stdout",
     "output_type": "stream",
     "text": [
      "                        security  market_price  model_price  basis_price   \n",
      "figi                                                                       \n",
      "BBG00P3BLH05    IBM 3.3 05/15/26       96.7870       97.494       0.7070  \\\n",
      "BBG00FVNGFP3    IBM 3.3 01/27/27       96.2695       96.910       0.6405   \n",
      "BBG00P3BLH14  IBM 3 1/2 05/15/29       93.9720       96.224       2.2520   \n",
      "\n",
      "              market_yield  model_yield  basis_yield  \n",
      "figi                                                  \n",
      "BBG00P3BLH05         4.428        4.176       -0.252  \n",
      "BBG00FVNGFP3         4.382        4.192       -0.190  \n",
      "BBG00P3BLH14         4.650        4.210       -0.440  \n"
     ]
    }
   ],
   "source": [
    "# Add market prices\n",
    "ibm_df['market_price'] = (ibm_df['bid'] + ibm_df['ask']) / 2\n",
    "ibm_df['market_yield'] = (ibm_df['bid_yield'] + ibm_df['ask_yield']) / 2\n",
    "\n",
    "# Compute basis\n",
    "ibm_df['basis_price'] = ibm_df['model_price'] - ibm_df['market_price']\n",
    "ibm_df['basis_yield'] = ibm_df['model_yield'] - ibm_df['market_yield']\n",
    "\n",
    "# Display relevant metrics\n",
    "print(ibm_df[['security', 'market_price', 'model_price', 'basis_price', 'market_yield', 'model_yield', 'basis_yield']])"
   ]
  },
  {
   "attachments": {},
   "cell_type": "markdown",
   "id": "f08c2f61",
   "metadata": {},
   "source": [
    "CDS-implied, intrinsic bond prices are higher than bond market prices.\n",
    "\n",
    "Following factors could explain the basis dislocation for the 3 IBM bonds:\n",
    "1. Hazard Rate curve mismatch: the synthetic CDS credit market is underestimating the credit risk in the IBM issuer curve, relative to the cash corporate bond market. This opens the opportunity for Bond vs CDS basis arbitrage trades, as discussed in Session 2. \n",
    "2. Risk-free yield curve mismatch: the (synthetic) SOFR yield curve is tighter than the (cash) US Treasury curve. This is usually due to a funding differential for cash vs. synthetic products.\n",
    "3. Temporarily dislocation: Individual bonds are temporarily dislocated from their \"fair value\" from the issuer curve (e.g. in a Nelson-Siegel type parametric model). This can happen due to buying vs. selling imbalance in that particular bond.\n",
    "4. Liquidity discounts: in general, less liquid (e.g. off-the-run) bonds trade at a price discount to more liquid (e.g. on-the-run) bonds. This usually causes a liquidty-implied \"richer\" basis (wider in yield space)."
   ]
  },
  {
   "attachments": {},
   "cell_type": "markdown",
   "id": "d3f2d550",
   "metadata": {},
   "source": [
    "# Problem 2: Compute scenario sensitivities for risky bonds\n",
    "## a. Compute scenario IR01s for the 3 IBM bonds\n",
    "Use the 3 IBM test bonds defined in Problem 1. \n",
    "\n",
    "Compute the scenario IR01 and Durations using a -1bp interest rate shock, as described in Section 6. \"Market Data Scenarios\" in the QuantLib introductory notebook.\n",
    "\n",
    "Remember that IR01 = Dirty_Price * Duration.\n"
   ]
  },
  {
   "cell_type": "code",
   "execution_count": 12,
   "id": "3a2b4671",
   "metadata": {},
   "outputs": [],
   "source": [
    "# Bump interest rate by -1bps (parallel shift)\n",
    "interest_rate_scenario_1bp_down = ql.SimpleQuote(-0.0001)\n",
    "tsy_yield_curve_handle_1bp_down = ql.YieldTermStructureHandle(ql.ZeroSpreadedTermStructure(tsy_yield_curve_handle, ql.QuoteHandle(interest_rate_scenario_1bp_down)))\n",
    "risky_bond_engine_1bp_down = ql.RiskyBondEngine(default_prob_curve_handle, flat_recovery_rate, tsy_yield_curve_handle_1bp_down)\n",
    "\n",
    "# Bump interest rate by +1bps (parallel shift)\n",
    "interest_rate_scenario_1bp_up = ql.SimpleQuote(0.0001)\n",
    "tsy_yield_curve_handle_1bp_up = ql.YieldTermStructureHandle(ql.ZeroSpreadedTermStructure(tsy_yield_curve_handle, ql.QuoteHandle(interest_rate_scenario_1bp_up)))\n",
    "risky_bond_engine_1bp_up = ql.RiskyBondEngine(default_prob_curve_handle, flat_recovery_rate, tsy_yield_curve_handle_1bp_up)\n"
   ]
  },
  {
   "cell_type": "code",
   "execution_count": 13,
   "id": "ec60e1ea",
   "metadata": {},
   "outputs": [
    {
     "name": "stdout",
     "output_type": "stream",
     "text": [
      "                        security      IR01  duration  analytic_duration\n",
      "figi                                                                   \n",
      "BBG00P3BLH05    IBM 3.3 05/15/26  2.861644  2.893576           2.846346\n",
      "BBG00FVNGFP3    IBM 3.3 01/27/27  3.501088  3.585249           3.478820\n",
      "BBG00P3BLH14  IBM 3 1/2 05/15/29  5.256227  5.379333           5.316407\n"
     ]
    }
   ],
   "source": [
    "# Model scenario metrics\n",
    "ibm_model_prices_1bp_up = []\n",
    "ibm_model_prices_1bp_down = []\n",
    "ibm_model_ir01 = []\n",
    "ibm_model_duration = []\n",
    "ibm_model_convexity = []\n",
    "\n",
    "# Model analytic metrics\n",
    "ibm_model_analytic_duration = []\n",
    "ibm_model_analytic_convexity = []\n",
    "\n",
    "# Calculate IR01 and duration\n",
    "for i in range(0, 3):\n",
    "    fixed_rate_bond = ibm_bond_objects[i]\n",
    "    \n",
    "    # Calc model dirty price for base case\n",
    "    fixed_rate_bond.setPricingEngine(risky_bond_engine)    \n",
    "    dirty_price_base = fixed_rate_bond.dirtyPrice()\n",
    "    \n",
    "    # Compute analytical duration and convexity (optional metrics)\n",
    "    bond_yield_rate = ql.InterestRate(ibm_model_yields[i]/100, ql.ActualActual(ql.ActualActual.ISMA), ql.Compounded, ql.Semiannual)\n",
    "    analytic_duration = ql.BondFunctions.duration(fixed_rate_bond, bond_yield_rate)\n",
    "    analytic_convexity = ql.BondFunctions.convexity(fixed_rate_bond, bond_yield_rate)\n",
    "\n",
    "    # Scenario: 1bp down\n",
    "    fixed_rate_bond.setPricingEngine(risky_bond_engine_1bp_down)    \n",
    "    price_1bp_down = fixed_rate_bond.cleanPrice()\n",
    "    ibm_model_prices_1bp_down.append(price_1bp_down)\n",
    "    \n",
    "    # Scenario: 1bp up\n",
    "    fixed_rate_bond.setPricingEngine(risky_bond_engine_1bp_up)\n",
    "    price_1bp_up = fixed_rate_bond.cleanPrice()\n",
    "    ibm_model_prices_1bp_up.append(price_1bp_up)\n",
    "\n",
    "    # Compute scenario delta/gamma sensitivities\n",
    "    price_base = ibm_model_prices[i]\n",
    "    ir01 = (price_1bp_down - price_base) * 1e4 / 100\n",
    "    duration = ir01 / dirty_price_base * 100\n",
    "    gamma_1bp = (price_1bp_down - 2*price_base + price_1bp_up) * 1e8 / 100\n",
    "    convexity = gamma_1bp / dirty_price_base * 100\n",
    "\n",
    "    ibm_model_ir01.append(ir01)\n",
    "    ibm_model_duration.append(duration)\n",
    "    ibm_model_convexity.append(convexity)    \n",
    "    ibm_model_analytic_duration.append(analytic_duration)\n",
    "    ibm_model_analytic_convexity.append(analytic_convexity)\n",
    "\n",
    "\n",
    "# Display relevant metrics\n",
    "ibm_df['IR01'] = ibm_model_ir01\n",
    "ibm_df['duration'] = ibm_model_duration\n",
    "ibm_df['analytic_duration'] = ibm_model_analytic_duration\n",
    "print(ibm_df[['security', 'IR01', 'duration', 'analytic_duration']])\n"
   ]
  },
  {
   "attachments": {},
   "cell_type": "markdown",
   "id": "ea06ec4c",
   "metadata": {},
   "source": [
    "## b. Compute scenario Convexities for the 3 IBM bonds\n",
    "Use the 3 IBM test bonds defined in Problem 1. \n",
    "\n",
    "Compute the scenario Convexities using the +/-1bp interest rate shocks, as described in Section 6. \"Market Data Scenarios\" in the QuantLib introductory notebook.\n"
   ]
  },
  {
   "cell_type": "code",
   "execution_count": 14,
   "id": "e5661f49",
   "metadata": {},
   "outputs": [
    {
     "name": "stdout",
     "output_type": "stream",
     "text": [
      "                        security   convexity  analytic_convexity\n",
      "figi                                                            \n",
      "BBG00P3BLH05    IBM 3.3 05/15/26  -50.414729            9.823037\n",
      "BBG00FVNGFP3    IBM 3.3 01/27/27  167.150883           14.302625\n",
      "BBG00P3BLH14  IBM 3 1/2 05/15/29   59.270567           33.104126\n"
     ]
    }
   ],
   "source": [
    "# Display relevant metrics\n",
    "ibm_df['convexity'] = ibm_model_convexity\n",
    "ibm_df['analytic_convexity'] = ibm_model_analytic_convexity\n",
    "print(ibm_df[['security', 'convexity', 'analytic_convexity']])"
   ]
  },
  {
   "attachments": {},
   "cell_type": "markdown",
   "id": "2fc4e93f",
   "metadata": {},
   "source": [
    "One can see that the scenario convexity is not accurate when using +/-1bp bumps. \n",
    "\n",
    "This is due to the fact that the convexity bumps are too small relative to the numerical precision of the analytics !\n",
    "\n",
    "This happens often in paractice, and the way to fix this is to use wider bumps, e.g. +/-10 bps, to better capture the convexity."
   ]
  },
  {
   "cell_type": "code",
   "execution_count": 15,
   "id": "848651ab",
   "metadata": {},
   "outputs": [],
   "source": [
    "# Bump interest rate by -10bps (parallel shift), to better capture convexity !!!\n",
    "interest_rate_scenario_10bp_down = ql.SimpleQuote(-0.0010)\n",
    "tsy_yield_curve_handle_10bp_down = ql.YieldTermStructureHandle(ql.ZeroSpreadedTermStructure(tsy_yield_curve_handle, ql.QuoteHandle(interest_rate_scenario_10bp_down)))\n",
    "risky_bond_engine_10bp_down = ql.RiskyBondEngine(default_prob_curve_handle, flat_recovery_rate, tsy_yield_curve_handle_10bp_down)\n",
    "\n",
    "# Bump interest rate by +10bps (parallel shift), to better capture convexity !!!\n",
    "interest_rate_scenario_10bp_up = ql.SimpleQuote(0.0010)\n",
    "tsy_yield_curve_handle_10bp_up = ql.YieldTermStructureHandle(ql.ZeroSpreadedTermStructure(tsy_yield_curve_handle, ql.QuoteHandle(interest_rate_scenario_10bp_up)))\n",
    "risky_bond_engine_10bp_up = ql.RiskyBondEngine(default_prob_curve_handle, flat_recovery_rate, tsy_yield_curve_handle_10bp_up)\n"
   ]
  },
  {
   "cell_type": "code",
   "execution_count": 16,
   "id": "3a966655",
   "metadata": {},
   "outputs": [
    {
     "name": "stdout",
     "output_type": "stream",
     "text": [
      "                        security  convexity  analytic_convexity\n",
      "figi                                                           \n",
      "BBG00P3BLH05    IBM 3.3 05/15/26   8.147527            9.823037\n",
      "BBG00FVNGFP3    IBM 3.3 01/27/27  14.900701           14.302625\n",
      "BBG00P3BLH14  IBM 3 1/2 05/15/29  31.611894           33.104126\n"
     ]
    }
   ],
   "source": [
    "# Calculate scenario convexity\n",
    "ibm_model_prices_10bp_up = []\n",
    "ibm_model_prices_10bp_down = []\n",
    "ibm_model_convexity = []\n",
    "\n",
    "for i in range(0, 3):\n",
    "    fixed_rate_bond = ibm_bond_objects[i]\n",
    "    \n",
    "    # Calc model dirty price for base case\n",
    "    fixed_rate_bond.setPricingEngine(risky_bond_engine)    \n",
    "    dirty_price_base = fixed_rate_bond.dirtyPrice()\n",
    "        \n",
    "    # Scenario: 10bp down\n",
    "    fixed_rate_bond.setPricingEngine(risky_bond_engine_10bp_down)    \n",
    "    price_10bp_down = fixed_rate_bond.cleanPrice()\n",
    "    ibm_model_prices_10bp_down.append(price_10bp_down)\n",
    "    \n",
    "    # Scenario: 10bp up\n",
    "    fixed_rate_bond.setPricingEngine(risky_bond_engine_10bp_up)\n",
    "    price_10bp_up = fixed_rate_bond.cleanPrice()\n",
    "    ibm_model_prices_10bp_up.append(price_10bp_up)\n",
    "\n",
    "    # Compute scenario delta/gamma sensitivities\n",
    "    price_base = ibm_model_prices[i]\n",
    "    gamma_10bp = (price_10bp_down - 2*price_base + price_10bp_up) * 1e6 / 100\n",
    "    convexity = gamma_10bp / dirty_price_base * 100\n",
    "\n",
    "    ibm_model_convexity.append(convexity)    \n",
    "\n",
    "\n",
    "# Display relevant metrics\n",
    "ibm_df['convexity'] = ibm_model_convexity\n",
    "print(ibm_df[['security', 'convexity', 'analytic_convexity']])\n"
   ]
  },
  {
   "attachments": {},
   "cell_type": "markdown",
   "id": "6bdbf185",
   "metadata": {},
   "source": [
    "## c. Compute scenario HR01s (hazard rate sensitivity) and CS01s (credit spread sensitivity) for the 3 IBM bonds\n",
    "Use the 3 IBM test bonds defined in Problem 1. \n",
    "\n",
    "Apply a -1bp (parallel shift) scenario to the IBM CDS Par Spread quotes and calibrate the scenario hazard rate curve. \n",
    "\n",
    "Create a new scenario RiskyBondEngine, using the scenario hazard rate curve.\n",
    "\n",
    "Reprice the risky bonds on the scenario RiskyBondEngine (using the bumped hazard rate curve) to obtain the -1bp scenario HR01 (hazard rate sensitivity).\n",
    "\n",
    "The credit spread sensitivity CS01 is defined as CS01 = (ScenarioPrice - BasePrice) / (ScenarioYield - BasePYield) * 100.\n",
    "\n",
    "Compute the scenario bond yields and the scenario CS01s for the 3 bonds.\n"
   ]
  },
  {
   "cell_type": "code",
   "execution_count": 17,
   "id": "b04de234",
   "metadata": {},
   "outputs": [
    {
     "name": "stdout",
     "output_type": "stream",
     "text": [
      "[17.2509, 24.0913, 35.436, 55.579899999999995, 72.516, 79.9212]\n",
      "[16.2509, 23.0913, 34.436, 54.579899999999995, 71.516, 78.9212]\n"
     ]
    }
   ],
   "source": [
    "# hazard_rate_curve calibration (from IBM CDS par spreads)\n",
    "cds_par_spreads_1bp_down = [ps - 1 for ps in cds_par_spreads]\n",
    "print(cds_par_spreads)\n",
    "print(cds_par_spreads_1bp_down)\n",
    "\n",
    "# hazard_rate_curve\n",
    "hazard_rate_curve_1bp_down = calibrate_cds_hazard_rate_curve(calc_date, sofr_yield_curve_handle, cds_par_spreads_1bp_down, cds_recovery_rate)\n",
    "default_prob_curve_handle_1bp_down = ql.DefaultProbabilityTermStructureHandle(hazard_rate_curve_1bp_down)\n",
    "\n",
    "# Risky bond engine for CDS Par Spread -1bp scenario\n",
    "risky_bond_engine_cds_1bp_down = ql.RiskyBondEngine(default_prob_curve_handle_1bp_down, flat_recovery_rate, tsy_yield_curve_handle)\n"
   ]
  },
  {
   "cell_type": "code",
   "execution_count": 18,
   "id": "bfe1a927",
   "metadata": {},
   "outputs": [
    {
     "name": "stdout",
     "output_type": "stream",
     "text": [
      "                        security      HR01      CS01\n",
      "figi                                                \n",
      "BBG00P3BLH05    IBM 3.3 05/15/26  2.846314  2.901598\n",
      "BBG00FVNGFP3    IBM 3.3 01/27/27  3.508677  3.505292\n",
      "BBG00P3BLH14  IBM 3 1/2 05/15/29  5.456637  5.334841\n"
     ]
    }
   ],
   "source": [
    "# Calculate HR01 and CS01\n",
    "ibm_model_hr01 = []\n",
    "ibm_model_cs01 = []\n",
    "\n",
    "for i in range(0, 3):\n",
    "    fixed_rate_bond = ibm_bond_objects[i]\n",
    "    price_base = ibm_model_prices[i]\n",
    "    yield_base = ibm_model_yields[i]\n",
    "    \n",
    "    fixed_rate_bond.setPricingEngine(risky_bond_engine_cds_1bp_down)\n",
    "    \n",
    "    price_cds_1bp_down = fixed_rate_bond.cleanPrice()\n",
    "    yield_cds_1bp_down = fixed_rate_bond.bondYield(price_cds_1bp_down, ql.Thirty360(ql.Thirty360.USA), ql.Compounded, ql.Semiannual) * 100\n",
    "\n",
    "    price_diff_cds_1bp_down = price_cds_1bp_down - price_base\n",
    "    yield_diff_cds_1bp_down = yield_cds_1bp_down - yield_base\n",
    "    \n",
    "    ibm_model_hr01.append(- price_diff_cds_1bp_down / yield_diff_cds_1bp_down)\n",
    "    ibm_model_cs01.append(price_diff_cds_1bp_down * 1e4 / 100)\n",
    "\n",
    "# Display relevant metrics\n",
    "ibm_df['HR01'] = ibm_model_hr01\n",
    "ibm_df['CS01'] = ibm_model_cs01\n",
    "print(ibm_df[['security', 'HR01', 'CS01']])\n"
   ]
  },
  {
   "attachments": {},
   "cell_type": "markdown",
   "id": "808bf8d9",
   "metadata": {},
   "source": [
    "## d. Compute scenario Rec01 (recovery rate sensitivity) for the 3 IBM bonds\n",
    "Use the 3 IBM test bonds defined in Problem 1. \n",
    "\n",
    "Apply a +1% scenario bump to the IBM recovery rate (flat_recovery_rate parameter will move from 40% to 41%).\n",
    "\n",
    "Create a new scenario RiskyBondEngine, using the scenario new recovery rate.\n",
    "\n",
    "Reprice the risky bonds on the scenario RiskyBondEngine (using the bumped recovery rate) to obtain the +1% scenario REC01 (recovery rate sensitivity).\n"
   ]
  },
  {
   "cell_type": "code",
   "execution_count": 19,
   "id": "9d59efb1",
   "metadata": {},
   "outputs": [
    {
     "name": "stdout",
     "output_type": "stream",
     "text": [
      "                        security     REC01\n",
      "figi                                      \n",
      "BBG00P3BLH05    IBM 3.3 05/15/26  0.016768\n",
      "BBG00FVNGFP3    IBM 3.3 01/27/27  0.025761\n",
      "BBG00P3BLH14  IBM 3 1/2 05/15/29  0.057841\n"
     ]
    }
   ],
   "source": [
    "# Bump recovery rate by 1% up\n",
    "flat_recovery_rate_1pct_up = flat_recovery_rate + 0.01\n",
    "risky_bond_engine_rec_1pct_up = ql.RiskyBondEngine(default_prob_curve_handle, flat_recovery_rate_1pct_up, tsy_yield_curve_handle)\n",
    "\n",
    "# Calculate Rec01\n",
    "ibm_model_rec01 = []\n",
    "\n",
    "\n",
    "for i in range(0, 3):\n",
    "    fixed_rate_bond = ibm_bond_objects[i]\n",
    "    price_base = ibm_model_prices[i]    \n",
    "    \n",
    "    fixed_rate_bond.setPricingEngine(risky_bond_engine_rec_1pct_up)\n",
    "    \n",
    "    price_rec_1pct_up = fixed_rate_bond.cleanPrice()    \n",
    "    \n",
    "    ibm_model_rec01.append(price_rec_1pct_up - price_base)  \n",
    "\n",
    "# Display relevant metrics\n",
    "ibm_df['REC01'] = ibm_model_rec01\n",
    "print(ibm_df[['security', 'REC01']])\n"
   ]
  },
  {
   "attachments": {},
   "cell_type": "markdown",
   "id": "2dac64a2",
   "metadata": {},
   "source": [
    "# Problem 3: Nelson-Siegel model for smooth hazard rate curves\n",
    "## Follow Lecture 4, Section 1 \"Parametric Hazard Rate Models\"\n",
    "## Follow Section \"13. Smooth parametric yield and hazard rate curves: the Nelson-Siegel model\" in the QuantLib Intro V3 notebook\n",
    "## You can also take a look at Dr. Mark Hendricks Fixed Income notebooks describing the Nelson-Siegel model calibration on US Treasuries (GitHub repo link posted in Canvas)."
   ]
  },
  {
   "attachments": {},
   "cell_type": "markdown",
   "id": "b74a4cd1",
   "metadata": {},
   "source": [
    "## a. Prepare the market data as of 2023-04-14\n",
    "Load the symbology + market data dataframes for all Verizon fixed rate bonds (ticker = 'VZ'). \n",
    "\n",
    "Calibrate the \"on-the-run\" US Treasury curve, which will be used as discount factor curve.\n"
   ]
  },
  {
   "cell_type": "code",
   "execution_count": 20,
   "id": "0e03752c",
   "metadata": {},
   "outputs": [
    {
     "name": "stdout",
     "output_type": "stream",
     "text": [
      "   ticker class          figi          isin      trace und_bench_isin   \n",
      "40     VZ  Corp  BBG00ZLKTDJ4  US92343VGF58  VZ5148416   US91282CGU99  \\\n",
      "9      VZ  Corp  BBG007DM0XF2  US92343VCR33  VZ4176696   US91282CGU99   \n",
      "21     VZ  Corp  BBG00JKZK9K4  US92343VEN01  VZ4581325   US91282CGU99   \n",
      "32     VZ  Corp  BBG00Y4Q8VY9  US92343VFS88  VZ5078182   US91282CGU99   \n",
      "41     VZ  Corp  BBG00ZLKTF09  US92343VGG32  VZ5148417   US91282CGR60   \n",
      "\n",
      "             security                    name    type  coupon  ... currency   \n",
      "40  VZ 0 3/4 03/22/24  VERIZON COMMUNICATIONS  GLOBAL   0.750  ...      USD  \\\n",
      "9   VZ 3 1/2 11/01/24  VERIZON COMMUNICATIONS  GLOBAL   3.500  ...      USD   \n",
      "21  VZ 3.376 02/15/25  VERIZON COMMUNICATIONS  GLOBAL   3.376  ...      USD   \n",
      "32   VZ 0.85 11/20/25  VERIZON COMMUNICATIONS  GLOBAL   0.850  ...      USD   \n",
      "41   VZ 1.45 03/20/26  VERIZON COMMUNICATIONS  GLOBAL   1.450  ...      USD   \n",
      "\n",
      "         date     bid     ask mid_clean mid_dirty bid_yield ask_yield   \n",
      "40 2023-04-14  95.975  96.327    96.151    96.205     5.251     4.846  \\\n",
      "9  2023-04-14  98.169  98.352    98.261    99.885     4.749     4.623   \n",
      "21 2023-04-14  97.932  98.164    98.048    98.639     4.567     4.432   \n",
      "32 2023-04-14  91.109  91.440    91.274    91.623     4.528     4.383   \n",
      "41 2023-04-14  91.806  92.127    91.967    92.080     4.472     4.348   \n",
      "\n",
      "   market_price market_yield  \n",
      "40       96.151       5.0485  \n",
      "9        98.261       4.6860  \n",
      "21       98.048       4.4995  \n",
      "32       91.274       4.4555  \n",
      "41       91.967       4.4100  \n",
      "\n",
      "[5 rows x 31 columns]\n"
     ]
    }
   ],
   "source": [
    "# vz_symbology_df\n",
    "vz_symbology_df = corp_symbology_df[corp_symbology_df.ticker == 'VZ']\n",
    "# vz_symbology_df = vz_symbology_df[vz_symbology_df['rank'] == 'Sr Unsecured']\n",
    "\n",
    "\n",
    "# vz_df\n",
    "vz_df = vz_symbology_df.merge(market_prices_df, how='inner', on=['class', 'ticker', 'isin', 'figi'])\n",
    "vz_df['market_price'] = vz_df['mid_clean']\n",
    "vz_df['market_yield'] = (vz_df['bid_yield'] + vz_df['ask_yield']) / 2\n",
    "vz_df.sort_values('maturity',inplace=True)\n",
    "print(vz_df.head())\n"
   ]
  },
  {
   "attachments": {},
   "cell_type": "markdown",
   "id": "30fcd104",
   "metadata": {},
   "source": [
    "## b. Create the Nelson-Siegel curve shape (4 parameters) and compute the corresponding SSE function.\n",
    "For a given set of parameters, write a function to compute the SSE \"Sum of Squared Errors\" penalty function in price space (defined as sum of squared differences between model and market prices for all Verizon fixed-rate bonds).\n",
    "\n",
    "\n",
    "For each bond, compute the bond durations, using Section \"9. Analytical Duration\" in the QuantLib introductory notebook as a template.\n",
    "\n",
    "Use 1/Duration as SSE weights. You can ignore the liquidity adjuster for the purpose of this exercise."
   ]
  },
  {
   "cell_type": "code",
   "execution_count": 21,
   "id": "6a86def1",
   "metadata": {},
   "outputs": [],
   "source": [
    "def nelson_siegel(params, maturity):\n",
    "    ''' params = (theta1, theta2, theta3, lambda)'''        \n",
    "    if(maturity == 0 or params[3] <= 0):\n",
    "        slope_1 = 1\n",
    "        curvature = 0\n",
    "    else:\n",
    "        slope_1 = (1 - np.exp(-maturity/params[3]))/(maturity/params[3])\n",
    "        curvature = slope_1 - np.exp(-maturity/params[3])\n",
    "\n",
    "    total_value = params[0] + params[1] * slope_1 + params[2] * curvature\n",
    "    \n",
    "    return total_value\n",
    "\n",
    "def create_nelson_siegel_curve(calc_date, nelson_siegel_params):\n",
    "    ''' nelson_siegel_params = (theta1, theta2, theta3, lambda)'''            \n",
    "    nelson_siegel_surv_prob_dates = [calc_date + ql.Period(T , ql.Years) for T in range(31)]\n",
    "    nelson_siegel_average_hazard_rates = [nelson_siegel(nelson_siegel_params, T) for T in range(31)]\n",
    "    nelson_siegel_surv_prob_levels = [np.exp(-T * nelson_siegel_average_hazard_rates[T]) for T in range(31)]\n",
    "    \n",
    "    # cap and floor survival probs\n",
    "    nelson_siegel_surv_prob_levels = [max(min(x,1),1e-8) for x in nelson_siegel_surv_prob_levels]\n",
    "\n",
    "    # nelson_siegel_surv_prob_curve\n",
    "    nelson_siegel_credit_curve = ql.SurvivalProbabilityCurve(nelson_siegel_surv_prob_dates, nelson_siegel_surv_prob_levels, ql.Actual360(), ql.TARGET())\n",
    "    nelson_siegel_credit_curve.enableExtrapolation()\n",
    "    nelson_siegel_credit_curve_handle = ql.DefaultProbabilityTermStructureHandle(nelson_siegel_credit_curve)\n",
    "    \n",
    "    return(nelson_siegel_credit_curve_handle)\n",
    "\n",
    "\n",
    "def calculate_nelson_siegel_model_prices_and_yields(nelson_siegel_params, \n",
    "                      calc_date, \n",
    "                      fixed_rate_bond_objects, \n",
    "                      tsy_yield_curve_handle, \n",
    "                      bond_recovery_rate = 0.4):\n",
    "    \n",
    "    # nelson_siegel_surv_prob_curve_handle\n",
    "    nelson_siegel_surv_prob_curve_handle = create_nelson_siegel_curve(calc_date, nelson_siegel_params)\n",
    "    \n",
    "    # nelson_siegel_risky_bond_engine\n",
    "    nelson_siegel_risky_bond_engine = ql.RiskyBondEngine(nelson_siegel_surv_prob_curve_handle, bond_recovery_rate, tsy_yield_curve_handle)\n",
    "    \n",
    "    bond_model_prices = []\n",
    "    bond_model_yields = []\n",
    "    \n",
    "    for fixed_rate_bond in fixed_rate_bond_objects:\n",
    "        fixed_rate_bond.setPricingEngine(nelson_siegel_risky_bond_engine)\n",
    "        \n",
    "        bond_price = fixed_rate_bond.cleanPrice()                \n",
    "        bond_yield = fixed_rate_bond.bondYield(bond_price, ql.Thirty360(ql.Thirty360.USA), ql.Compounded, ql.Semiannual) * 100\n",
    "        \n",
    "        bond_model_prices.append(bond_price)\n",
    "        bond_model_yields.append(bond_yield)\n",
    "    \n",
    "    return(bond_model_prices, bond_model_yields)\n",
    "\n",
    "def nelson_siegel_sse(nelson_siegel_params, \n",
    "                      calc_date, \n",
    "                      fixed_rate_bond_objects, \n",
    "                      market_prices, \n",
    "                      calib_weights,\n",
    "                      tsy_yield_curve_handle, \n",
    "                      bond_recovery_rate = 0.4):\n",
    "    \n",
    "    # bond_model_prices\n",
    "    bond_model_prices, bond_model_yields = calculate_nelson_siegel_model_prices_and_yields(nelson_siegel_params, \n",
    "                      calc_date, \n",
    "                      fixed_rate_bond_objects, \n",
    "                      tsy_yield_curve_handle, \n",
    "                      bond_recovery_rate)\n",
    "    # sse    \n",
    "    sse = 0\n",
    "    \n",
    "    for i in range(len(market_prices)):\n",
    "        model_error = market_prices[i] - bond_model_prices[i]                \n",
    "        sse += model_error * model_error * calib_weights[i]                        \n",
    "    \n",
    "    return(sse)    \n",
    "\n",
    "\n",
    "def create_bonds_and_weights(bond_details, tsy_yield_curve_handle):\n",
    "    \n",
    "    # risk_free_bond_engine\n",
    "    risk_free_bond_engine = ql.DiscountingBondEngine(tsy_yield_curve_handle)\n",
    "\n",
    "\n",
    "    fixed_rate_bond_objects = []\n",
    "    bond_market_prices = []    \n",
    "    bond_yields = []\n",
    "    bond_DV01s = []    \n",
    "    bond_durations = []    \n",
    "    \n",
    "    for index,row in bond_details.iterrows():\n",
    "        fixed_rate_bond = create_bond_from_symbology(row)\n",
    "        fixed_rate_bond.setPricingEngine(risk_free_bond_engine)\n",
    "        \n",
    "        fixed_rate_bond_objects.append(fixed_rate_bond)\n",
    "        \n",
    "        bond_price = row['market_price']                \n",
    "        bond_yield = fixed_rate_bond.bondYield(bond_price, ql.Thirty360(ql.Thirty360.USA), ql.Compounded, ql.Semiannual) * 100\n",
    "        bond_yield_rate = ql.InterestRate(bond_yield/100, ql.ActualActual(ql.ActualActual.ISMA), ql.Compounded, ql.Semiannual)\n",
    "        bond_duration = ql.BondFunctions.duration(fixed_rate_bond, bond_yield_rate)\n",
    "        bond_DV01   = fixed_rate_bond.dirtyPrice() * bond_duration\n",
    "        \n",
    "        bond_market_prices.append(bond_price)\n",
    "        bond_yields.append(bond_yield)\n",
    "        bond_DV01s.append(bond_DV01)\n",
    "        bond_durations.append(bond_duration)   \n",
    "        \n",
    "    # calib_weights: down-weight durations < 2 years, since the calibrated US treasury does not have quotes before 2Y\n",
    "    calib_weights = [1 / max(d, 2) for d in bond_durations]\n",
    "    sum_calib_weights = sum(calib_weights)\n",
    "    calib_weights = [x / sum_calib_weights for x in calib_weights]\n",
    "    \n",
    "    return(fixed_rate_bond_objects, calib_weights, bond_market_prices, bond_yields, bond_DV01s, bond_durations)\n"
   ]
  },
  {
   "cell_type": "code",
   "execution_count": 22,
   "id": "d95a81f9",
   "metadata": {},
   "outputs": [
    {
     "name": "stdout",
     "output_type": "stream",
     "text": [
      "initial_nelson_siegel_params: [0.03, -0.01, 0.02, 5.0]\n",
      "             security  market_price  init_model_price  calib_weight\n",
      "40  VZ 0 3/4 03/22/24        96.151         95.809946      0.045628\n",
      "9   VZ 3 1/2 11/01/24        98.261         96.841448      0.045628\n",
      "21  VZ 3.376 02/15/25        98.048         96.262144      0.045628\n",
      "32   VZ 0.85 11/20/25        91.274         89.078877      0.036516\n",
      "41   VZ 1.45 03/20/26        91.967         89.459038      0.032556\n",
      "initial_sse = 10.417281362572561\n"
     ]
    }
   ],
   "source": [
    "# bond_recovery_rate\n",
    "bond_recovery_rate = 0.4\n",
    "\n",
    "# initial_nelson_siegel_params\n",
    "initial_nelson_siegel_params = [0.03, -0.01, 0.02, 5.0]\n",
    "print('initial_nelson_siegel_params:', initial_nelson_siegel_params)\n",
    "\n",
    "fixed_rate_bond_objects, calib_weights, bond_market_prices, bond_yields, bond_DV01s, bond_durations = create_bonds_and_weights(vz_df, tsy_yield_curve_handle)\n",
    "vz_df['duration'] = bond_durations\n",
    "vz_df['calib_weight'] = calib_weights\n",
    "\n",
    "init_bond_model_prices, init_bond_model_yields = calculate_nelson_siegel_model_prices_and_yields(initial_nelson_siegel_params, calc_date, fixed_rate_bond_objects, tsy_yield_curve_handle, bond_recovery_rate)\n",
    "vz_df['init_model_price'] = init_bond_model_prices\n",
    "vz_df['init_model_yield'] = init_bond_model_yields\n",
    "print(vz_df[['security', 'market_price', 'init_model_price', 'calib_weight']].head())\n",
    "\n",
    "# initial_sse\n",
    "initial_sse = nelson_siegel_sse(initial_nelson_siegel_params, calc_date, fixed_rate_bond_objects, bond_market_prices, calib_weights, tsy_yield_curve_handle, bond_recovery_rate)\n",
    "print('initial_sse =', initial_sse)\n"
   ]
  },
  {
   "attachments": {},
   "cell_type": "markdown",
   "id": "1eb13b3a",
   "metadata": {},
   "source": [
    "## c. Calibrate the Nelson-Siegel model parameters to obtain the smooth Verizon credit curve.\n",
    "\n",
    "Minimize the SSE (pricing error) function to obtain the optimal/calibrated Nelson-Siegel parameter vector. \n",
    "\n",
    "Create the calibrated/smooth credit curve corresponding to the optimal model parameters."
   ]
  },
  {
   "cell_type": "code",
   "execution_count": 23,
   "id": "a2072f78",
   "metadata": {},
   "outputs": [],
   "source": [
    "from scipy.optimize import minimize\n",
    "\n",
    "def calibrate_nelson_siegel_model(initial_nelson_siegel_params,\n",
    "                                  calc_date, \n",
    "                                  bond_details, \n",
    "                                  tsy_yield_curve_handle, \n",
    "                                  bond_recovery_rate = 0.4):\n",
    "    # create_bonds_and_weights\n",
    "    fixed_rate_bond_objects, calib_weights, bond_market_prices, bond_yields, bond_DV01s, bond_durations = create_bonds_and_weights(bond_details, tsy_yield_curve_handle)\n",
    "    \n",
    "    # start calibration\n",
    "    param_bounds = [(1e-3, 0.1), (-0.1, 0.1), (-0.1, 0.1), (1e-3, 10)]\n",
    "            \n",
    "    calib_results = minimize(nelson_siegel_sse,\n",
    "                                            initial_nelson_siegel_params, \n",
    "                                            args = (calc_date, \n",
    "                                                    fixed_rate_bond_objects, \n",
    "                                                    bond_market_prices, \n",
    "                                                    calib_weights,\n",
    "                                                    tsy_yield_curve_handle, \n",
    "                                                    bond_recovery_rate),\n",
    "                                            bounds = param_bounds)\n",
    "\n",
    "\n",
    "    return(calib_results)\n",
    "\n"
   ]
  },
  {
   "cell_type": "code",
   "execution_count": 24,
   "id": "92ac7b99",
   "metadata": {},
   "outputs": [
    {
     "name": "stdout",
     "output_type": "stream",
     "text": [
      "  message: CONVERGENCE: REL_REDUCTION_OF_F_<=_FACTR*EPSMCH\n",
      "  success: True\n",
      "   status: 0\n",
      "      fun: 6.301656061595437\n",
      "        x: [ 4.273e-02 -5.560e-02 -5.697e-06  2.687e+00]\n",
      "      nit: 43\n",
      "      jac: [ 5.675e-03  1.572e-03  1.097e-03 -2.824e-05]\n",
      "     nfev: 320\n",
      "     njev: 64\n",
      " hess_inv: <4x4 LbfgsInvHessProduct with dtype=float64>\n",
      "calib_nelson_siegel_params: [ 4.27286556e-02 -5.55962225e-02 -5.69656589e-06  2.68673420e+00]\n",
      "initial_sse = 10.417 calib_sse = 6.302\n"
     ]
    }
   ],
   "source": [
    "# calibrate_nelson_siegel_model\n",
    "calib_results = calibrate_nelson_siegel_model(initial_nelson_siegel_params, calc_date, vz_df, tsy_yield_curve_handle, bond_recovery_rate)\n",
    "print(calib_results)\n",
    "    \n",
    "# calib_nelson_siegel_params\n",
    "calib_nelson_siegel_params = calib_results.x\n",
    "print('calib_nelson_siegel_params:', calib_nelson_siegel_params)\n",
    "\n",
    "# calib_nelson_siegel_curve\n",
    "calib_nelson_siegel_curve = create_nelson_siegel_curve(calc_date, calib_nelson_siegel_params)\n",
    "\n",
    "# calib_sse\n",
    "calib_sse = nelson_siegel_sse(calib_nelson_siegel_params, calc_date, fixed_rate_bond_objects, bond_market_prices, calib_weights, tsy_yield_curve_handle, bond_recovery_rate)\n",
    "print('initial_sse =', round(initial_sse, 3), 'calib_sse =', round(calib_sse, 3))\n"
   ]
  },
  {
   "attachments": {},
   "cell_type": "markdown",
   "id": "d9706e38",
   "metadata": {},
   "source": [
    "## d. Compute smooth model prices, yields and \"edges\"\n",
    "\n",
    "Price all Verizon bonds on the calibrated credit curve and compute the corresponding yields.\n",
    "\n",
    "Plot the model vs market yields (Y-axis) by time to maturity (X-axis).\n",
    "\n",
    "Plot the edges in yield space (Y-axis) by time to maturity (X-axis)."
   ]
  },
  {
   "cell_type": "code",
   "execution_count": 25,
   "id": "471e66b1",
   "metadata": {},
   "outputs": [
    {
     "name": "stdout",
     "output_type": "stream",
     "text": [
      "             security  market_price  init_model_price  model_price  edge_price\n",
      "7   VZ 5.012 08/21/54        95.309         91.657108    90.642120   -4.666880\n",
      "12  VZ 4.672 03/15/55        89.855         87.324579    86.235966   -3.619034\n",
      "36  VZ 2.987 10/30/56        64.251         65.434541    64.181628   -0.069372\n",
      "35      VZ 3 11/20/60        63.355         65.042687    63.716472    0.361472\n",
      "39    VZ 3.7 03/22/61        73.893         74.323778    72.955077   -0.937923\n",
      "             security  market_yield  init_model_yield  model_yield  edge_yield\n",
      "7   VZ 5.012 08/21/54        5.3210          5.577828     5.652059    0.331059\n",
      "12  VZ 4.672 03/15/55        5.3375          5.520859     5.602439    0.264939\n",
      "36  VZ 2.987 10/30/56        5.2700          5.166936     5.275937    0.005937\n",
      "35      VZ 3 11/20/60        5.2410          5.098348     5.209907   -0.031093\n",
      "39    VZ 3.7 03/22/61        5.3055          5.271884     5.378758    0.073258\n"
     ]
    }
   ],
   "source": [
    "# bond_model_prices\n",
    "bond_model_prices, bond_model_yields = calculate_nelson_siegel_model_prices_and_yields(calib_nelson_siegel_params, calc_date, fixed_rate_bond_objects, tsy_yield_curve_handle, bond_recovery_rate)\n",
    "vz_df['model_price'] = bond_model_prices\n",
    "vz_df['model_yield'] = bond_model_yields\n",
    "vz_df['edge_price'] = vz_df['model_price'] - vz_df['market_price']\n",
    "vz_df['edge_yield'] = vz_df['model_yield'] - vz_df['market_yield']\n",
    "\n",
    "print(vz_df[['security', 'market_price','init_model_price', 'model_price', 'edge_price']].tail())\n",
    "print(vz_df[['security', 'market_yield','init_model_yield', 'model_yield', 'edge_yield']].tail())"
   ]
  },
  {
   "cell_type": "code",
   "execution_count": 26,
   "id": "22d62449",
   "metadata": {},
   "outputs": [
    {
     "data": {
      "text/plain": [
       "Text(0.5, 0, 'Bond Maturity')"
      ]
     },
     "execution_count": 26,
     "metadata": {},
     "output_type": "execute_result"
    },
    {
     "data": {
      "image/png": "[encoded data removed]",
      "text/plain": [
       "<Figure size 1200x600 with 1 Axes>"
      ]
     },
     "metadata": {},
     "output_type": "display_data"
    }
   ],
   "source": [
    "plt = vz_df.plot(x='maturity', y = ['market_yield', 'model_yield'], figsize = (12, 6), title = \"Market vs Model Yields (pct)\", grid=True, style='*')\n",
    "plt.set_ylabel('Bond Yields (pct)')\n",
    "plt.set_xlabel('Bond Maturity')\n"
   ]
  },
  {
   "cell_type": "code",
   "execution_count": 27,
   "id": "e951e106",
   "metadata": {},
   "outputs": [
    {
     "data": {
      "text/plain": [
       "Text(0.5, 0, 'Bond Maturity')"
      ]
     },
     "execution_count": 27,
     "metadata": {},
     "output_type": "execute_result"
    },
    {
     "data": {
      "image/png": "[encoded data removed]",
      "text/plain": [
       "<Figure size 1200x600 with 1 Axes>"
      ]
     },
     "metadata": {},
     "output_type": "display_data"
    }
   ],
   "source": [
    "plt = vz_df.plot(x='maturity', y = ['edge_yield'], figsize = (12, 6), title = \"Model Edges in yield space (pct)\", grid=True, style='*')\n",
    "plt.axhline(0, color='red', linestyle='--', alpha=0.7)\n",
    "plt.set_ylabel('Yield Edge (pct)')\n",
    "plt.set_xlabel('Bond Maturity')\n"
   ]
  },
  {
   "attachments": {},
   "cell_type": "markdown",
   "id": "b7c42c12",
   "metadata": {},
   "source": [
    "# Problem 4: Pricing bonds in the Merton Structural Credit Model\n",
    "## Follow Lecture 4, Section 2 \"Structural Credit Default Models\""
   ]
  },
  {
   "attachments": {},
   "cell_type": "markdown",
   "id": "1e9ddc55",
   "metadata": {},
   "source": [
    "## a. Company balance sheet metrics & fair value of equity\n",
    "- Assets of $125 MM\n",
    "- Liabilities of $100 MM face value, consisting of one zero coupon bond.\n",
    "- Bond maturity is at T = 5 years\n",
    "- Asset volatility at 20% (log-normal annualized vol)\n",
    "- Flat risk-free interest rates of 4%\n",
    "\n",
    "Compute the company Leverage, \"Book Value of Equity\" and fair value of equity metrics.\n"
   ]
  },
  {
   "attachments": {},
   "cell_type": "markdown",
   "id": "9a7a9d6d",
   "metadata": {},
   "source": [
    "\\begin{align}\n",
    "E_{0}=e^{-r\\cdot T}\\cdot\\mathbb{E}\\left[\\left(A_{T}-K\\right)^{+}|\\mathcal{F}_{0}\\right]\n",
    "\\end{align}\n",
    "\n",
    "\\begin{align}\n",
    "=Call\\left(A_{0},K,T,\\sigma_{A},r,\\right)\n",
    "\\end{align}\n",
    "\n",
    "\\begin{align}\n",
    "=A_{0}\\cdot\\Phi\\left(d_{+}\\right)-e^{-r\\cdot T}\\cdot K\\cdot\\Phi\\left(d_{-}\\right)\n",
    "\\end{align}\n",
    "\n",
    "\\begin{align}\n",
    "d_{\\pm}=\\frac{-\\log\\left(L_{0}\\right)+\\left(r\\pm\\frac{1}{2}\\sigma_{A}^{2}\\right)\\cdot T}{\\sigma_{A}\\cdot\\sqrt{T}}\n",
    "\\end{align}\n"
   ]
  },
  {
   "cell_type": "code",
   "execution_count": 28,
   "id": "0d40178b",
   "metadata": {},
   "outputs": [],
   "source": [
    "from scipy.stats import norm\n",
    "\n",
    "def calc_d1_d2(A,r,sigma_A,T,L):\n",
    "    d1 = (-np.log(L/A) + (r + 0.5 * sigma_A**2)* T ) / (sigma_A * np.sqrt(T))\n",
    "    d2 = (-np.log(L/A) + (r - 0.5 * sigma_A**2)* T ) / (sigma_A * np.sqrt(T))    \n",
    "    return (d1, d2)\n",
    "\n",
    "def fairValueEquity(A,r,sigma_A,T,L):\n",
    "    d1, d2 = calc_d1_d2(A,r,sigma_A,T,L)\n",
    "    E0  = A * norm.cdf(d1) - np.exp(-r * T) * L * norm.cdf(d2)\n",
    "    return E0\n"
   ]
  },
  {
   "cell_type": "code",
   "execution_count": 29,
   "id": "d5221814",
   "metadata": {},
   "outputs": [
    {
     "name": "stdout",
     "output_type": "stream",
     "text": [
      "Fair value of equity at time 0 (MM): 47.234\n"
     ]
    }
   ],
   "source": [
    "K = 100\n",
    "A = 125\n",
    "r = 0.04\n",
    "T = 5\n",
    "sigma_A = 0.2\n",
    "\n",
    "E0 = fairValueEquity(A, r, sigma_A, T, K)\n",
    "print('Fair value of equity at time 0 (MM):', round(E0, 3))"
   ]
  },
  {
   "attachments": {},
   "cell_type": "markdown",
   "id": "8810db16",
   "metadata": {},
   "source": [
    "## b. Risky Bond Valuation (Fair Value of Liabilities)\n",
    "\n",
    "Compute the fair value of the risky bond."
   ]
  },
  {
   "attachments": {},
   "cell_type": "markdown",
   "id": "25824c05",
   "metadata": {},
   "source": [
    "\\begin{align}\n",
    "B_{0}=e^{-r\\cdot T}\\cdot\\mathbb{E}\\left[K-\\left(K-A_{T}\\right)^{+}|\\mathcal{F}_{0}\\right]\n",
    "\\end{align}\n",
    "\n",
    "\\begin{align}\n",
    "=e^{-r\\cdot T}\\cdot K-Put\\left(A_{0},K,T,\\sigma_{A},r,\\right)\n",
    "\\end{align}\n",
    "\n",
    "\\begin{align}\n",
    "=A_{0}\\cdot\\Phi\\left(-d_{+}\\right)+e^{-r\\cdot T}\\cdot K\\cdot\\Phi\\left(d_{-}\\right)\n",
    "\\end{align}\n"
   ]
  },
  {
   "cell_type": "code",
   "execution_count": 30,
   "id": "845850ac",
   "metadata": {},
   "outputs": [],
   "source": [
    "def fairValueRiskyBond(A,r,sigma_A,T,L):\n",
    "    d1, d2 = calc_d1_d2(A,r,sigma_A,T,L)\n",
    "    B0  = A * norm.cdf(-d1) + L * np.exp(-r * T) * norm.cdf(d2)\n",
    "    \n",
    "    return B0"
   ]
  },
  {
   "cell_type": "code",
   "execution_count": 31,
   "id": "09fd1af4",
   "metadata": {},
   "outputs": [
    {
     "name": "stdout",
     "output_type": "stream",
     "text": [
      "Fair value of risky bond at time 0 (MM): 77.766\n",
      "Check that E0 and B0 add up to A0 (MM): 125.0 = 125\n"
     ]
    }
   ],
   "source": [
    "B0 = fairValueRiskyBond(A, r, sigma_A, T, K)\n",
    "print('Fair value of risky bond at time 0 (MM):', round(B0, 3))\n",
    "\n",
    "print('Check that E0 and B0 add up to A0 (MM):', round(E0 + B0, 3), '=', A)"
   ]
  },
  {
   "attachments": {},
   "cell_type": "markdown",
   "id": "386cad9b",
   "metadata": {},
   "source": [
    "## c. Flat yield, spread and hazard rate\n",
    "\n",
    "Compute the following credit risk metrics:\n",
    "- Distance to Default\n",
    "- Default Probability\n",
    "- Bond Yield\n",
    "- Bond Credit Spread\n",
    "- Flat Hazard Rate\n",
    "- Expected Recovery on Default\n",
    "\n",
    "Plot bond credit spreads as a function of initial Asset values, on a grid from $50 MM to $200 MM in steps of $5 MM."
   ]
  },
  {
   "attachments": {},
   "cell_type": "markdown",
   "id": "7306b145",
   "metadata": {},
   "source": [
    "d1, d2 = calc_d1_d2(A0, r, sigma_A, T, K)"
   ]
  },
  {
   "cell_type": "code",
   "execution_count": 32,
   "id": "ffaf703a",
   "metadata": {},
   "outputs": [],
   "source": [
    "def defaultProbability(A,r,sigma_A,T,K):\n",
    "    d1, d2 = calc_d1_d2(A,r,sigma_A,T,K)\n",
    "    default_prob = norm.cdf(-d2)\n",
    "    \n",
    "    return default_prob\n",
    "\n",
    "def survivalProbability(A,r,sigma_A,T,L):\n",
    "    return(1 - defaultProbability(A,r,sigma_A,T,L))\n",
    "\n",
    "def distanceToDefault(A,r,sigma_A,T,K):\n",
    "    d1, d2 = calc_d1_d2(A,r,sigma_A,T,K)        \n",
    "    return(d2)\n",
    "\n",
    "def riskyBondYield(A,r,sigma_A,T,K):\n",
    "    B0 = fairValueRiskyBond(A,r,sigma_A,T,K)\n",
    "    bond_yield = - np.log(B0/K) / T       \n",
    "    return bond_yield\n",
    "\n",
    "def riskyBondCreditSpread(A,r,sigma_A,T,K):\n",
    "    bond_yield = riskyBondYield(A,r,sigma_A,T,K)    \n",
    "    bond_credit_spread = bond_yield - r\n",
    "    return bond_credit_spread\n",
    "\n",
    "def flatHazardRate(A,r,sigma_A,T,K):\n",
    "    survival_prob = survivalProbability(A,r,sigma_A,T,K)\n",
    "    flat_hazard_rate = - np.log(survival_prob) / T\n",
    "    return flat_hazard_rate\n",
    "\n",
    "def expectedRecoveryRate(A,r,sigma_A,T,K):\n",
    "    d1, d2 = calc_d1_d2(A,r,sigma_A,T,K)    \n",
    "    exp_rec_rate = A / K * norm.cdf(-d1)/norm.cdf(-d2)\n",
    "    return exp_rec_rate\n"
   ]
  },
  {
   "cell_type": "code",
   "execution_count": 33,
   "id": "b3d0c9b9",
   "metadata": {},
   "outputs": [
    {
     "name": "stdout",
     "output_type": "stream",
     "text": [
      "Distance to Default: 0.723\n",
      "Default Probability: 0.235\n",
      "Survival Probability: 0.765\n",
      "Bond yield (pct): 5.029\n",
      "Bond credit spread (bps): 102.94\n",
      "Flat Hazard Rate (bps): 535.69\n",
      "Expected Recovery Rate R (pct): 64.39\n"
     ]
    }
   ],
   "source": [
    "dist_to_default = distanceToDefault(A,r,sigma_A,T,K)\n",
    "default_prob = defaultProbability(A,r,sigma_A,T,K)\n",
    "survival_prob = survivalProbability(A,r,sigma_A,T,K)\n",
    "bond_yield = riskyBondYield(A,r,sigma_A,T,K) * 1e2\n",
    "bond_credit_spread = riskyBondCreditSpread(A,r,sigma_A,T,K) * 1e4\n",
    "flat_hazard_rate = flatHazardRate(A,r,sigma_A,T,K) * 1e4\n",
    "exp_rec_rate = expectedRecoveryRate(A,r,sigma_A,T,K) * 1e2\n",
    "\n",
    "print('Distance to Default:', round(dist_to_default,3))\n",
    "print('Default Probability:', round(default_prob, 3))\n",
    "print('Survival Probability:', round(survival_prob, 3))\n",
    "print('Bond yield (pct):', round(bond_yield, 3))\n",
    "print('Bond credit spread (bps):', round(bond_credit_spread, 2))\n",
    "print('Flat Hazard Rate (bps):', round(flat_hazard_rate, 2))\n",
    "print('Expected Recovery Rate R (pct):', round(exp_rec_rate, 2))"
   ]
  },
  {
   "cell_type": "code",
   "execution_count": 34,
   "id": "70104796",
   "metadata": {},
   "outputs": [
    {
     "data": {
      "text/plain": [
       "Text(0, 0.5, 'Credit Spreads (bps)')"
      ]
     },
     "execution_count": 34,
     "metadata": {},
     "output_type": "execute_result"
    },
    {
     "data": {
      "image/png": "[encoded data removed]",
      "text/plain": [
       "<Figure size 1200x600 with 1 Axes>"
      ]
     },
     "metadata": {},
     "output_type": "display_data"
    }
   ],
   "source": [
    "asset_values = [x for x in range(50,205,5)]\n",
    "credit_spreads = [riskyBondCreditSpread(a,r,sigma_A,T,K) * 1e4 for a in asset_values]\n",
    "grid_df = pd.DataFrame(data={'Initial_Assets': asset_values, 'Credit_Spreads': credit_spreads})  \n",
    "grid_df.set_index(\"Initial_Assets\", inplace = True)\n",
    "\n",
    "plt = grid_df.plot(figsize = (12, 6), title = \"Credit Spreads (bps) vs Initial Asset Values\", grid=True)\n",
    "plt.set_ylabel('Credit Spreads (bps)')"
   ]
  },
  {
   "attachments": {},
   "cell_type": "markdown",
   "id": "d68db97e",
   "metadata": {},
   "source": [
    "## d. Equity volatility\n",
    "\n",
    "Compute the Equity Volatility.\n",
    "\n",
    "What happens to the equity volatility if initial Assets value goes up/down (as of time 0)?\n",
    "\n",
    "Plot Equity Volatilities of initial Asset values, on a grid from $50 MM to $200 MM in steps of $5 MM.\n",
    "\n",
    " "
   ]
  },
  {
   "cell_type": "code",
   "execution_count": 35,
   "id": "564e0e48",
   "metadata": {},
   "outputs": [],
   "source": [
    "def equityVolatility(A,r,sigma_A,T,K):\n",
    "    d1, d2 = calc_d1_d2(A,r,sigma_A,T,K)    \n",
    "    E0 = fairValueEquity(A,r,sigma_A,T,K)    \n",
    "    sigma_E = (A / E0) * norm.cdf(d1) * sigma_A\n",
    "    return sigma_E\n"
   ]
  },
  {
   "cell_type": "code",
   "execution_count": 36,
   "id": "7bd93b6c",
   "metadata": {},
   "outputs": [
    {
     "name": "stdout",
     "output_type": "stream",
     "text": [
      "Equity Volatility (pct): 46.52\n"
     ]
    }
   ],
   "source": [
    "equity_vol = equityVolatility(A,r,sigma_A,T,K) * 100\n",
    "\n",
    "print('Equity Volatility (pct):', round(equity_vol, 2))"
   ]
  },
  {
   "cell_type": "code",
   "execution_count": 37,
   "id": "85e45e05",
   "metadata": {},
   "outputs": [
    {
     "data": {
      "text/plain": [
       "Text(0, 0.5, 'Equity Volatility (pct)')"
      ]
     },
     "execution_count": 37,
     "metadata": {},
     "output_type": "execute_result"
    },
    {
     "data": {
      "image/png": "[encoded data removed]",
      "text/plain": [
       "<Figure size 1200x600 with 1 Axes>"
      ]
     },
     "metadata": {},
     "output_type": "display_data"
    }
   ],
   "source": [
    "asset_values = [x for x in range(50,205,5)]\n",
    "equity_volatilities = [equityVolatility(a,r,sigma_A,T,K) * 1e2 for a in asset_values]\n",
    "exp_recovery_rates = [expectedRecoveryRate(a,r,sigma_A,T,K) * 1e2 for a in asset_values]\n",
    "\n",
    "grid_df['Equity_Vol'] = equity_volatilities\n",
    "\n",
    "plt = grid_df['Equity_Vol'].plot(figsize = (12, 6), title = \"Equity Volatility (pct) vs Initial Asset Values\", grid=True)\n",
    "plt.set_ylabel('Equity Volatility (pct)')"
   ]
  },
  {
   "cell_type": "code",
   "execution_count": 38,
   "id": "9f6c3362",
   "metadata": {},
   "outputs": [
    {
     "data": {
      "text/plain": [
       "Text(0, 0.5, 'Expected Recovery Rate (pct)')"
      ]
     },
     "execution_count": 38,
     "metadata": {},
     "output_type": "execute_result"
    },
    {
     "data": {
      "image/png": "[encoded data removed]",
      "text/plain": [
       "<Figure size 1200x600 with 1 Axes>"
      ]
     },
     "metadata": {},
     "output_type": "display_data"
    }
   ],
   "source": [
    "grid_df['Exp_Rec_Rate'] = exp_recovery_rates\n",
    "\n",
    "plt = grid_df['Exp_Rec_Rate'].plot(figsize = (12, 6), title = \"Expected Recovery Rate (pct) vs Initial Asset Values\", grid=True)\n",
    "plt.set_ylabel('Expected Recovery Rate (pct)')"
   ]
  }
 ],
 "metadata": {
  "hide_input": false,
  "kernelspec": {
   "display_name": "Python 3 (ipykernel)",
   "language": "python",
   "name": "python3"
  },
  "language_info": {
   "codemirror_mode": {
    "name": "ipython",
    "version": 3
   },
   "file_extension": ".py",
   "mimetype": "text/x-python",
   "name": "python",
   "nbconvert_exporter": "python",
   "pygments_lexer": "ipython3",
   "version": "3.8.2"
  }
 },
 "nbformat": 4,
 "nbformat_minor": 5
}
