{
 "cells": [
  {
   "attachments": {},
   "cell_type": "markdown",
   "id": "3e013a68",
   "metadata": {},
   "source": [
    "# Homework 5\n",
    "\n",
    "## FINM 35700 - Spring 2023\n",
    "\n",
    "### UChicago Financial Mathematics\n",
    "\n",
    "* Alex Popovici\n",
    "* alex.popovici@uchicago.edu"
   ]
  },
  {
   "attachments": {},
   "cell_type": "markdown",
   "id": "97d4c3b4",
   "metadata": {},
   "source": [
    "This homework relies on following symbology & data files, as of 2023-05-12.\n",
    "\n",
    "US government bonds:\n",
    "- the US government bonds symbology file `govt_symbology`, \n",
    "- the \"on-the-run\" treasuries data file `govt_on_the_run`,\n",
    "- the US Government bonds market data file `govt_market_prices_eod`,\n",
    "\n",
    "SOFR OIS swaps:\n",
    "- the SOFR OIS swaps symbology file (for hyg basket) `sofr_swaps_symbology`,\n",
    "- the SOFR OIS swaps market data file `sofr_swaps_market_data_eod`,\n",
    "\n",
    "CDX Index:\n",
    "- the CDX Index symbology file (for hyg basket) `cdx_symbology`,\n",
    "- the CDX Index basket composition file `cdx_basket_composition`,\n",
    "\n",
    "HYG ETF:\n",
    "- the corporate  bonds symbology file (for HYG basket) `hyg_corp_symbology`,\n",
    "- the HYG ETF basket composition file  `hyg_basket_composition`,\n"
   ]
  },
  {
   "attachments": {},
   "cell_type": "markdown",
   "id": "da521790",
   "metadata": {},
   "source": [
    "## Scoring: Total of 100 points\n",
    "\n",
    "| Problem | Points |\n",
    "|---------|--------|\n",
    "| 1       | 10     |\n",
    "| 2       | 10     |\n",
    "| 3       | 20     |\n",
    "| 4       | 30     |\n",
    "| 5       | 30     |"
   ]
  },
  {
   "attachments": {},
   "cell_type": "markdown",
   "id": "27e68a4e",
   "metadata": {},
   "source": [
    "# Problem 1: Fixed rate Bond prices and sensitivities (bond yield model)"
   ]
  },
  {
   "attachments": {},
   "cell_type": "markdown",
   "id": "6ead54c2",
   "metadata": {},
   "source": [
    "To better understand the dependencies, use the fixed rate bond valuation formula in the flat yield model (formula [6] in Lecture 1).\n",
    "\n",
    "\\begin{align}\n",
    "PV_{Bond}\\left(c,T,y_{sa} \\right)=1+\\frac{c-y_{sa}}{y_{sa}}\\cdot\\left[1-\\left(1+\\frac{y_{sa}}{2}\\right)^{-2T}\\right]\n",
    "\\end{align}\n"
   ]
  },
  {
   "attachments": {},
   "cell_type": "markdown",
   "id": "e07bfd7c",
   "metadata": {},
   "source": [
    "## a. True or False (fixed rate bond prices)\n",
    "\n",
    "1. Fixed rate bond price is increasing in yield.\n",
    "    - False - the opposite is the case, sinc the DV01 is positive!\n",
    "2. Fixed rate bond price is increasing in coupon\n",
    "    - True.\n",
    "3. Fixed rate bond price is increasing in bond maturity\n",
    "    - False - this is only the case when $c-y_{sa} > 0$\n",
    "4. Fixed rate callable bond prices are higher or equal to their \"bullet\" (non-callable) version.\n",
    "    - False - the call optionality is on the side of the issuer, not on the side of the investor!"
   ]
  },
  {
   "attachments": {},
   "cell_type": "markdown",
   "id": "f35a4c28",
   "metadata": {},
   "source": [
    "## b. True or False (fixed rate bond yields)\n",
    "\n",
    "1. Fixed rate bond yield is increasing in interest rate\n",
    "    - True, assuming all else equal (credit spread unchanged).\n",
    "2. Fixed rate bond yield is increasing in credit spread\n",
    "    - True, assuming all else equal (interest rate unchanged)..\n",
    "3. Fixed rate bond yield is increasing in coupon\n",
    "    - False: coupon and yield are independent parameters of the model\n",
    "4. Fixed rate bond yield is increasing in bond maturity\n",
    "    - False, it depends on the slope of the yield curve.\n",
    "5. Fixed rate callable bond yields are lower or equal to their \"bullet\" (non-callable) version.\n",
    "    - True: in the sense that the \"yield to worst\" for callable bonds is lower or equal to the \"yield to maturity\"."
   ]
  },
  {
   "attachments": {},
   "cell_type": "markdown",
   "id": "b55f5008",
   "metadata": {},
   "source": [
    "## c. True or False (fixed rate bond durations)\n",
    "\n",
    "1. Fixed rate bond duration is increasing with yield\n",
    "    - False, the opposite is the case.\n",
    "2. Fixed rate bond duration is increasing in coupon\n",
    "    - False, the opposite is the case.\n",
    "3. Fixed rate bond duration is increasing with bond maturity\n",
    "    - True, since duration is a weighted sum of cashflow time-to-maturies.\n",
    "4. Fixed rate callable bond durations are higher or equal to their \"bullet\" (non-callable) version.\n",
    "    - False, the opposite is the case, since the \"workout date\" for callable bonds is lower or equal to the maturity date.\n"
   ]
  },
  {
   "attachments": {},
   "cell_type": "markdown",
   "id": "bcd04674",
   "metadata": {},
   "source": [
    "## d. True or False (fixed rate bond convexities)\n",
    "\n",
    "1. Fixed rate bond convexity is increasing with yield\n",
    "    - False, the opposite is the case.\n",
    "2. Fixed rate bond convexity is increasing in coupon\n",
    "    - False, the opposite is the case.\n",
    "3. Fixed rate bond convexity is increasing with bond maturity\n",
    "    - True, since convexity is a weighted sum of cashflow time-to-maturies squared.\n",
    "4. Fixed rate callable bond convexities are higher or equal to their \"bullet\" (non-callable) version.\n",
    "    - False, the opposite is the case.\n"
   ]
  },
  {
   "attachments": {},
   "cell_type": "markdown",
   "id": "f293d23e",
   "metadata": {},
   "source": [
    "# Problem 2: Credit Default Swaps (hazard rate model)"
   ]
  },
  {
   "attachments": {},
   "cell_type": "markdown",
   "id": "2241f940",
   "metadata": {},
   "source": [
    "To better understand the dependencies, use the CDS valuation formula in the flat hazard rate model (formulas[43] and [44] in Lecture 3).\n",
    "\n",
    "\\begin{align}\n",
    "PV_{CDS\\_PL}\\left(c,r,h,R,T\\right) = \\frac{c}{4 \\cdot \\left(e^{\\left(r+h\\right)/4}-1 \\right)} \\cdot\\left[1-e^{-T\\cdot\\left(r+h\\right)}\\right] \\simeq \\frac{c}{r+h} \\cdot\\left[1-e^{-T\\cdot\\left(r+h\\right)}\\right]\n",
    "\\end{align}\n",
    "\n",
    "\\begin{align}\n",
    "PV_{CDS\\_DL}\\left(c,r,h,R,T\\right) = \\frac{\\left(1-R\\right)\\cdot h}{r+h} \\cdot\\left[1-e^{-T\\cdot\\left(r+h\\right)}\\right]\n",
    "\\end{align}\n",
    "\n",
    "\\begin{align}\n",
    "PV_{CDS} = PV_{CDS\\_PL} - PV_{CDS\\_DL}\n",
    "\\end{align}\n",
    "\n",
    "\\begin{align}\n",
    "CDS\\_ParSpread = c \\cdot \\frac{PV_{CDS\\_DL}}{PV_{CDS\\_PL}} \\simeq \\left(1-R\\right)\\cdot h\n",
    "\\end{align}\n"
   ]
  },
  {
   "attachments": {},
   "cell_type": "markdown",
   "id": "5b314d26",
   "metadata": {},
   "source": [
    "## a. True or False (CDS Premium Leg PV)\n",
    "\n",
    "1. CDS premium leg PV is increasing in CDS Par Spread\n",
    "    - False, the opposite is the case.\n",
    "2. CDS premium leg PV is increasing in interest rate\n",
    "    - False, the opposite is the case.\n",
    "2. CDS premium leg PV is increasing in hazard rate\n",
    "    - False, the opposite is the case.\n",
    "3. CDS premium leg PV is increasing in recovery rate\n",
    "    - False, premium leg is independent of recovery rate.\n",
    "4. CDS premium leg PV is increasing in coupon\n",
    "    - True, premium leg PV is linear in coupon.\n",
    "5. CDS premium leg PV is increasing in CDS maturity\n",
    "    - True, more coupons are being added by extending the maturity.\n"
   ]
  },
  {
   "attachments": {},
   "cell_type": "markdown",
   "id": "d921375c",
   "metadata": {},
   "source": [
    "## b. True or False (CDS Default Leg PV)\n",
    "\n",
    "1. CDS default leg PV is increasing in CDS Par Spread\n",
    "    - False, the opposite is the case, since the credit default risk increases.\n",
    "2. CDS default leg PV is increasing in interest rate\n",
    "    - False, the opposite is the case, since the risk-free discount factors decrease.\n",
    "3. CDS default leg PV is increasing in hazard rate\n",
    "    - False, the opposite is the case, since the credit default risk increases.\n",
    "4. CDS default leg PV is increasing in recovery rate\n",
    "    - False, the opposite is the case, since the expecte loss decreases.\n",
    "5. CDS default leg PV is increasing in coupon\n",
    "    - False, default leg is independent of the coupon.\n",
    "6. CDS default leg PV is increasing in CDS maturity\n",
    "    - True, since additional default risk is being added by extending the maturity."
   ]
  },
  {
   "attachments": {},
   "cell_type": "markdown",
   "id": "77064349",
   "metadata": {},
   "source": [
    "## c. True or False (CDS PV)\n",
    "\n",
    "1. CDS PV is increasing in CDS Par Spread\n",
    "    - False, the opposite is the case, since the credit default risk increases.\n",
    "2. CDS PV is increasing in interest rate\n",
    "    - False, the opposite is the case, since the credit default risk increases.\n",
    "3. CDS PV is increasing in hazard rate\n",
    "    - False, the opposite is the case, since the credit default risk increases.\n",
    "4. CDS PV is increasing in recovery rate\n",
    "    - True, the opposite is the case, since the expected recovery increases.\n",
    "5. CDS PV is increasing in coupon\n",
    "    - True, since the premium leg PV increases\n",
    "6. CDS PV is increasing in CDS maturity\n",
    "    - False, this is only the case if CDS coupon > CDS Par Spread."
   ]
  },
  {
   "attachments": {},
   "cell_type": "markdown",
   "id": "58ac74be",
   "metadata": {},
   "source": [
    "## d. True or False (CDS Par Spread)\n",
    "\n",
    "\n",
    "1. CDS Par Spread is increasing in interest rates\n",
    "    - False, no general statement can be made.\n",
    "2. CDS Par Spread is increasing in hazard rate\n",
    "    - True, CDS_Par_Spread ~= Hazard_Rate x (1 - Recovery)\n",
    "3. CDS Par Spread is increasing in recovery rate\n",
    "    - False, the opposite is the case\n",
    "4. CDS Par Spread is increasing in coupon\n",
    "    - Flase, CDS Par Spread is independent of the coupon\n",
    "5. CDS Par Spread is increasing in CDS maturity\n",
    "    - False, for distressed issuers the opposite is the case (credit risk is concentraded in the fron end of the curve)"
   ]
  },
  {
   "attachments": {},
   "cell_type": "markdown",
   "id": "d3f2d550",
   "metadata": {},
   "source": [
    "# Problem 3: Perpetual CDS\n",
    "We are interested in a perpetual CDS contract (infinite maturity) on a face notional of $100, flat interest rate of 4% and coupon of 5% (quarterly payments).\n",
    "\n",
    "For simplicity, we assuming a flat hazard rate of 1% per annum, a rcovery of 40%, T+0 settlement and zero accrued."
   ]
  },
  {
   "attachments": {},
   "cell_type": "markdown",
   "id": "8cd6400d",
   "metadata": {},
   "source": [
    "The value of the perpetual CDS is obtained as a limit case of the \"usual\" CDS valuation formulas, for $T \\to \\infty$.\n",
    "\n",
    "\\begin{align}\n",
    "PV_{CDS\\_PL}\\left(c,r,h,R, \\infty \\right) = \\frac{c}{4 \\cdot \\left(e^{\\left(r+h\\right)/4}-1 \\right)} \\simeq \\frac{c}{r+h}\n",
    "\\end{align}\n",
    "\n",
    "\\begin{align}\n",
    "PV_{CDS\\_DL}\\left(c,r,h,R,\\infty \\right) = \\frac{\\left(1-R\\right)\\cdot h}{r+h} \n",
    "\\end{align}\n",
    "\n",
    "\\begin{align}\n",
    "PV_{CDS} = PV_{CDS\\_PL} - PV_{CDS\\_DL}\n",
    "\\end{align}\n",
    "\n",
    "\\begin{align}\n",
    "CDS\\_ParSpread = c \\cdot \\frac{PV_{CDS\\_DL}}{PV_{CDS\\_PL}} \\simeq \\left(1-R\\right)\\cdot h\n",
    "\\end{align}\n"
   ]
  },
  {
   "cell_type": "code",
   "execution_count": 94,
   "id": "8c4c2a96",
   "metadata": {},
   "outputs": [],
   "source": [
    "import numpy as np\n",
    "\n",
    "def calc_perpetual_cds_premium_leg_pv(c,r,h,R,face):\n",
    "    return(c / 4 / (np.exp((r+h)/4)-1) * face)\n",
    "\n",
    "def calc_perpetual_cds_default_leg_pv(c,r,h,R,face):\n",
    "    return((1 - R) * h / (r + h) * face)\n",
    "\n",
    "def calc_perpetual_cds_pv(c,r,h,R,face):\n",
    "    return(calc_perpetual_cds_premium_leg_pv(c,r,h,R,face) - calc_perpetual_cds_default_leg_pv(c,r,h,R,face))\n",
    "\n",
    "def calc_perpetual_cds_par_spread(c,r,h,R,face):\n",
    "    return(c * calc_perpetual_cds_default_leg_pv(c,r,h,R,face) / calc_perpetual_cds_premium_leg_pv(c,r,h,R,face))"
   ]
  },
  {
   "attachments": {},
   "cell_type": "markdown",
   "id": "5868e51a",
   "metadata": {},
   "source": [
    "## a. What is the fair value of the CDS premium leg?\n"
   ]
  },
  {
   "cell_type": "code",
   "execution_count": 95,
   "id": "ce557662",
   "metadata": {},
   "outputs": [
    {
     "name": "stdout",
     "output_type": "stream",
     "text": [
      "perpetual_cds_premium_leg_pv: 99.38\n"
     ]
    }
   ],
   "source": [
    "# constant model parameters\n",
    "r = 0.04\n",
    "c = 0.05\n",
    "h = 0.01\n",
    "R = 0.40\n",
    "face = 100\n",
    "\n",
    "# perpetual_cds_premium_leg_pv\n",
    "perpetual_cds_premium_leg_pv = calc_perpetual_cds_premium_leg_pv(c,r,h,R,face)\n",
    "print('perpetual_cds_premium_leg_pv:', round(perpetual_cds_premium_leg_pv, 2))\n"
   ]
  },
  {
   "attachments": {},
   "cell_type": "markdown",
   "id": "3ea18d24",
   "metadata": {},
   "source": [
    "## b. Compute the fair value of the CDS default leg and the CDS Par Spread."
   ]
  },
  {
   "cell_type": "code",
   "execution_count": 96,
   "id": "ff3be16a",
   "metadata": {},
   "outputs": [
    {
     "name": "stdout",
     "output_type": "stream",
     "text": [
      "perpetual_cds_default_leg_pv: 12.0\n",
      "perpetual_cds_pv: 87.38\n",
      "perpetual_cds_par_spread_bps: 60.38\n",
      "perpetual_cds_par_spread_approx_bps: 60.0\n"
     ]
    }
   ],
   "source": [
    "# perpetual_cds_default_leg_pv\n",
    "perpetual_cds_default_leg_pv = calc_perpetual_cds_default_leg_pv(c,r,h,R,face)\n",
    "print('perpetual_cds_default_leg_pv:', round(perpetual_cds_default_leg_pv, 2))\n",
    "\n",
    "perpetual_cds_pv = calc_perpetual_cds_pv(c,r,h,R,face)\n",
    "print('perpetual_cds_pv:', round(perpetual_cds_pv, 2))\n",
    "\n",
    "perpetual_cds_par_spread_bps = calc_perpetual_cds_par_spread(c,r,h,R,face) * 1e4\n",
    "print('perpetual_cds_par_spread_bps:', round(perpetual_cds_par_spread_bps, 2))\n",
    "\n",
    "perpetual_cds_par_spread_approx_bps = (1 - R) * h * 1e4\n",
    "print('perpetual_cds_par_spread_approx_bps:', round(perpetual_cds_par_spread_approx_bps, 2))\n"
   ]
  },
  {
   "attachments": {},
   "cell_type": "markdown",
   "id": "6bdbf185",
   "metadata": {},
   "source": [
    "## c. Compute the following CDS risk sensitivities:\n",
    "- IR01\n",
    "- HR01\n",
    "- CS01 and\n",
    "- REC01\n",
    "\n",
    "using the scenario method.\n"
   ]
  },
  {
   "cell_type": "code",
   "execution_count": 97,
   "id": "6bf96148",
   "metadata": {},
   "outputs": [
    {
     "name": "stdout",
     "output_type": "stream",
     "text": [
      "perpetual_cds_ir01 ($): 0.18\n",
      "perpetual_cds_hr01 ($): 0.3\n",
      "perpetual_cds_cs01 ($): 0.49\n",
      "perpetual_cds_rec01 ($): 0.2\n"
     ]
    }
   ],
   "source": [
    "# CDS IR01 \n",
    "r_1bp_down = r - 0.0001\n",
    "perpetual_cds_pv_r_1bp_down = calc_perpetual_cds_pv(c,r_1bp_down,h,R,face)\n",
    "perpetual_cds_ir01 = perpetual_cds_pv_r_1bp_down - perpetual_cds_pv\n",
    "print('perpetual_cds_ir01 ($):', round(perpetual_cds_ir01, 2))\n",
    "\n",
    "# CDS HR01 \n",
    "h_1bp_down = h - 0.0001\n",
    "perpetual_cds_pv_h_1bp_down = calc_perpetual_cds_pv(c,r,h_1bp_down,R,face)\n",
    "perpetual_cds_hr01 = perpetual_cds_pv_h_1bp_down - perpetual_cds_pv\n",
    "print('perpetual_cds_hr01 ($):', round(perpetual_cds_hr01, 2))\n",
    "\n",
    "# CDS CS01\n",
    "perpetual_cds_par_spread_h_1bp_down = calc_perpetual_cds_par_spread(c,r,h_1bp_down,R,face) * 1e4\n",
    "perpetual_cds_par_spread_bps_delta = perpetual_cds_par_spread_bps - perpetual_cds_par_spread_h_1bp_down\n",
    "perpetual_cds_cs01 = perpetual_cds_hr01 / perpetual_cds_par_spread_bps_delta\n",
    "print('perpetual_cds_cs01 ($):', round(perpetual_cds_cs01, 2))\n",
    "\n",
    "# CDS REC01 \n",
    "R_1pct_up = R + 0.01\n",
    "perpetual_cds_pv_R_1pct_up = calc_perpetual_cds_pv(c,r,h,R_1pct_up,face)\n",
    "perpetual_cds_rec01 = perpetual_cds_pv_R_1pct_up - perpetual_cds_pv\n",
    "print('perpetual_cds_rec01 ($):', round(perpetual_cds_rec01, 2))\n",
    "\n"
   ]
  },
  {
   "attachments": {},
   "cell_type": "markdown",
   "id": "1fbffdec",
   "metadata": {},
   "source": [
    "## d. At what time to maturity T does the (implied) default probability over next 5 years drop to 1%?\n",
    "\n",
    "\\begin{align}\n",
    "\\mathbb{P} \\left(\\tau \\in [T, T+5] \\right) = 1/100 ?\n",
    "\\end{align}"
   ]
  },
  {
   "attachments": {},
   "cell_type": "markdown",
   "id": "b5104948",
   "metadata": {},
   "source": [
    "\\begin{align}\n",
    "\\mathbb{P} \\left(\\tau \\in [T, T+5] \\right)\n",
    "\\end{align}\n",
    "\n",
    "\\begin{align}\n",
    "= \\mathbb{P} \\left(\\tau >T \\right) - \\mathbb{P} \\left(\\tau > T+5 \\right)\n",
    "\\end{align}\n",
    "\n",
    "\\begin{align}\n",
    "= e^{-h \\cdot T} - e^{-h \\cdot \\left( T +5 \\right)}\n",
    "\\end{align}\n",
    "\n",
    "\\begin{align}\n",
    "= e^{-h \\cdot T}\\cdot \\left(1 - e^{-h \\cdot 5} \\right).\n",
    "\\end{align}\n"
   ]
  },
  {
   "attachments": {},
   "cell_type": "markdown",
   "id": "a094911f",
   "metadata": {},
   "source": [
    "\\begin{align}\n",
    "\\mathbb{P} \\left(\\tau \\in [T, T+5] \\right) = 1/100\n",
    "\\end{align}\n",
    "\n",
    "\\begin{align}\n",
    "\\iff e^{-h \\cdot T}\\cdot \\left(1 - e^{-h \\cdot 5} \\right) = 1/100\n",
    "\\end{align}\n",
    "\n",
    "\\begin{align}\n",
    "\\iff T = \\frac {\\ln \\left(100 \\cdot \\left(1 - e^{-h \\cdot 5} \\right) \\right)} {h}\n",
    "\\end{align}"
   ]
  },
  {
   "cell_type": "code",
   "execution_count": 98,
   "id": "1103c547",
   "metadata": {},
   "outputs": [
    {
     "name": "stdout",
     "output_type": "stream",
     "text": [
      "T = 158.45420769307142\n"
     ]
    }
   ],
   "source": [
    "# Calc T:\n",
    "T = np.log(100*(1-np.exp(-h*5)))/h\n",
    "print('T =', T)"
   ]
  },
  {
   "attachments": {},
   "cell_type": "markdown",
   "id": "2dac64a2",
   "metadata": {},
   "source": [
    "# Problem 4: CDS Intrinisc Index analysis on CDX IG 5Y\n"
   ]
  },
  {
   "cell_type": "code",
   "execution_count": 99,
   "id": "0469a044",
   "metadata": {},
   "outputs": [],
   "source": [
    "import QuantLib as ql\n",
    "import numpy as np\n",
    "import pandas as pd\n",
    "import datetime as dt\n",
    "\n",
    "import matplotlib.pyplot as plt\n",
    "%matplotlib inline"
   ]
  },
  {
   "cell_type": "code",
   "execution_count": 100,
   "id": "b7fad1be",
   "metadata": {},
   "outputs": [],
   "source": [
    "# Use static calculation/valuation date of 2023-05-12, matching data available in the market prices EOD file\n",
    "calc_date = ql.Date(12, 5, 2023)\n",
    "ql.Settings.instance().evaluationDate = calc_date"
   ]
  },
  {
   "attachments": {},
   "cell_type": "markdown",
   "id": "b74a4cd1",
   "metadata": {},
   "source": [
    "## a. Load and explore the CDX IG 5Y symbology, basket composition and market data\n",
    "\n",
    "Load the `cdx_symbology` Excel file into a dataframe. Identify .\n",
    "\n",
    "Loathe CDX IG 5Y Series 40 indexd the `cdx_basket_composition` Excel file into a dataframe. It contains the CDX IG 5Y Series 40 basket composition and CDS Par Spread quotes as of 2023-05-12.\n",
    "\n",
    "How many CDS contracts are in the CDX index basket? What are the contractual specs and weights of each CDS? Remember that each CDS is identical to the CDX index and the basket has uniform weights.\n",
    "\n",
    "Compute mean, median and standard deviation of CDS Par Spreads in the basket.\n",
    "\n",
    "Sort the basket dataframe by CDS Par Spreads and plot the chart of CDS Par Spreads."
   ]
  },
  {
   "cell_type": "code",
   "execution_count": 101,
   "id": "292ba35b",
   "metadata": {},
   "outputs": [
    {
     "name": "stdout",
     "output_type": "stream",
     "text": [
      "ticker                        CDXIG540\n",
      "class                           Curncy\n",
      "security                 MARKIT CDX IG\n",
      "name         MARKIT CDX.NA.IG.40 06/28\n",
      "type               CREDIT DEFAULT SWAP\n",
      "dcc                            ACT/360\n",
      "cpn_first          2023-06-20 00:00:00\n",
      "maturity           2028-06-20 00:00:00\n",
      "currency                           USD\n",
      "Name: CDX_CDXIG540, dtype: object\n"
     ]
    }
   ],
   "source": [
    "cdx_symbology_df = pd.read_excel('../data/cdx_symbology.xlsx')\n",
    "cdx_symbology_df.set_index('symbol', inplace=True)\n",
    "\n",
    "# Identfy the CDX IG 5Y Series 40 index\n",
    "cdx_IG_40_5Y_symbology_df = cdx_symbology_df.loc['CDX_CDXIG540']\n",
    "print(cdx_IG_40_5Y_symbology_df.T)  "
   ]
  },
  {
   "cell_type": "code",
   "execution_count": 102,
   "id": "21a92035",
   "metadata": {},
   "outputs": [
    {
     "name": "stdout",
     "output_type": "stream",
     "text": [
      "Number of CDS contracts in the basket: 125\n",
      "CDS specs and weights: coupon = 100 bps, maturity = 2028-06-20, dcc = ACT/360, weights (pct) = 0.8\n",
      "Mean, median and standard deviation of CDS Par Spreads in the basket:\n",
      "mean    87.348720\n",
      "50%     67.880000\n",
      "std     55.735455\n",
      "Name: cds_par_spread_5y, dtype: float64\n"
     ]
    },
    {
     "data": {
      "text/plain": [
       "Text(0.5, 0, 'Ticker')"
      ]
     },
     "execution_count": 102,
     "metadata": {},
     "output_type": "execute_result"
    },
    {
     "data": {
      "image/png": "[encoded data removed]",
      "text/plain": [
       "<Figure size 1200x400 with 1 Axes>"
      ]
     },
     "metadata": {},
     "output_type": "display_data"
    }
   ],
   "source": [
    "# cdx_basket_df\n",
    "cdx_basket_df = pd.read_excel('../data/cdx_ig_40_5y_basket_composition.xlsx')\n",
    "\n",
    "print('Number of CDS contracts in the basket:', cdx_basket_df.shape[0])\n",
    "\n",
    "# CDS IG contracts specs are identical to the CDX IG ones, printed above\n",
    "cds_basket_weight = 1 / cdx_basket_df.shape[0]\n",
    "print('CDS specs and weights: coupon = 100 bps, maturity = 2028-06-20, dcc = ACT/360, weights (pct) =', cds_basket_weight * 100)\n",
    "\n",
    "# Compute mean, median and standard deviation of CDS Par Spreads in the basket.\n",
    "print('Mean, median and standard deviation of CDS Par Spreads in the basket:')\n",
    "print(cdx_basket_df['cds_par_spread_5y'].describe()[['mean', '50%', 'std']])\n",
    "\n",
    "# Sort the basket dataframe by CDS Par Spreads and plot the chart of CDS Par Spreads.\n",
    "cdx_basket_df.sort_values('cds_par_spread_5y', inplace=True)\n",
    "plt = cdx_basket_df.plot(x='ticker', y='cds_par_spread_5y', grid=True, style='*-', title='CDS 5Y ParSpreads for CDX IG 40 index constituents', figsize=(12,4))\n",
    "plt.set_ylabel('CDS 5Y ParSpread (bps)')\n",
    "plt.set_xlabel('Ticker')\n"
   ]
  },
  {
   "attachments": {},
   "cell_type": "markdown",
   "id": "30fcd104",
   "metadata": {},
   "source": [
    "## b. Calibrate the US SOFR yield curve (via bootstrapping)\n",
    "Load the `sofr_swap_symbology` Excel file into a dataframe.\n",
    "\n",
    "Load the `sofr_swaps_market_data_eod` Excel file into a dataframe. Print all dates available.\n",
    "\n",
    "Follow Homework 3, Problem 3 and calibrate the SOFR discount curve as of 2023-05-12. You can use the SOFR calibration function below."
   ]
  },
  {
   "attachments": {},
   "cell_type": "markdown",
   "id": "ef3c844d",
   "metadata": {},
   "source": [
    "## Collection of useful calibration helper functions from previous homeworks"
   ]
  },
  {
   "cell_type": "code",
   "execution_count": 103,
   "id": "09cf9872",
   "metadata": {},
   "outputs": [],
   "source": [
    "def get_ql_date(date) -> ql.Date:\n",
    "    \"\"\"\n",
    "    convert dt.date to ql.Date\n",
    "    \"\"\"\n",
    "    if isinstance(date, dt.date):\n",
    "        return ql.Date(date.day, date.month, date.year)\n",
    "    elif isinstance(date, str):\n",
    "        date = dt.datetime.strptime(date, \"%Y-%m-%d\").date()\n",
    "        return ql.Date(date.day, date.month, date.year)\n",
    "    else:\n",
    "        raise ValueError(f\"to_qldate, {type(date)}, {date}\")\n",
    "\n",
    "\n",
    "def create_schedule_from_symbology(details: dict):\n",
    "    '''Create a QuantLib cashflow schedule from symbology details dictionary (usually one row of the symbology dataframe)\n",
    "    '''\n",
    "    # Create maturity from details['maturity']\n",
    "    maturity = get_ql_date(details['maturity'])\n",
    "    \n",
    "    # Create acc_first from details['acc_first']\n",
    "    acc_first = get_ql_date(details['acc_first'])\n",
    "    \n",
    "    # Create calendar for Corp and Govt asset classes\n",
    "    calendar = ql.UnitedStates(ql.UnitedStates.GovernmentBond)\n",
    "    \n",
    "    # define period from details['cpn_freq'] ... can be hard-coded to 2 = semi-annual frequency\n",
    "    period = ql.Period(2)\n",
    "    \n",
    "    # business_day_convention\n",
    "    business_day_convention = ql.Unadjusted\n",
    "    \n",
    "    # termination_date_convention\n",
    "    termination_date_convention = ql.Unadjusted\n",
    "    \n",
    "    # date_generation\n",
    "    date_generation=ql.DateGeneration.Backward\n",
    "    \n",
    "    # Create schedule using ql.MakeSchedule interface (with keyword arguments)\n",
    "    schedule = ql.MakeSchedule(effectiveDate=acc_first,  # this may not be the same as the bond's start date\n",
    "                            terminationDate=maturity,\n",
    "                            tenor=period,\n",
    "                            calendar=calendar,\n",
    "                            convention=business_day_convention,\n",
    "                            terminalDateConvention=termination_date_convention,\n",
    "                            rule=date_generation,\n",
    "                            endOfMonth=True,\n",
    "                            firstDate=ql.Date(),\n",
    "                            nextToLastDate=ql.Date())\n",
    "    return schedule\n",
    "\n",
    "\n",
    "def create_bond_from_symbology(details: dict):\n",
    "    '''Create a US fixed rate bond object from symbology details dictionary (usually one row of the symbology dataframe)\n",
    "    '''\n",
    "    \n",
    "     # Create day_count from details['dcc']\n",
    "     # For US Treasuries use ql.ActualActual(ql.ActualActual.ISMA)\n",
    "     # For US Corporates use ql.Thirty360(ql.Thirty360.USA)\n",
    "    if details['dcc'] == '30/360':\n",
    "        day_count = ql.Thirty360(ql.Thirty360.USA)\n",
    "    elif details['dcc'] == 'ACT/ACT':\n",
    "        day_count = ql.ActualActual(ql.ActualActual.ISMA)\n",
    "    else:\n",
    "        raise ValueError(f\"unsupported day count, {type(details['dcc'])}, {details['dcc']}\")\n",
    "    \n",
    "    # Create day_count from details['start_date']    \n",
    "    issue_date = get_ql_date(details['start_date'])\n",
    "    \n",
    "    # Create days_settle from details['days_settle']\n",
    "    days_settle = int(float(details['days_settle']))\n",
    "\n",
    "    # Create days_settle from details['coupon']\n",
    "    coupon = float(details['coupon'])/100.\n",
    "\n",
    "    # Create cashflow schedule\n",
    "    schedule = create_schedule_from_symbology(details)\n",
    "    \n",
    "    face_value = 100\n",
    "    redemption = 100\n",
    "    \n",
    "    payment_convention = ql.Unadjusted\n",
    "        \n",
    "    # Create fixed rate bond object\n",
    "    fixed_rate_bond = ql.FixedRateBond(\n",
    "        days_settle,\n",
    "        face_value,\n",
    "        schedule,\n",
    "        [coupon],\n",
    "        day_count,\n",
    "        payment_convention,\n",
    "        redemption,\n",
    "        issue_date)        \n",
    "\n",
    "    return fixed_rate_bond\n",
    "\n",
    "\n",
    "def calibrate_yield_curve_from_frame(\n",
    "        calc_date: ql.Date,\n",
    "        treasury_details: pd.DataFrame,\n",
    "        price_quote_column: str):\n",
    "    '''Create a calibrated yield curve from a details dataframe which includes bid/ask/mid price quotes.\n",
    "    '''\n",
    "    ql.Settings.instance().evaluationDate = calc_date\n",
    "\n",
    "    # Sort dataframe by maturity\n",
    "    sorted_details_frame = treasury_details.sort_values(by='maturity')    \n",
    "    \n",
    "    # For US Treasuries use ql.ActualActual(ql.ActualActual.ISMA)\n",
    "    day_count = ql.ActualActual(ql.ActualActual.ISMA)\n",
    "\n",
    "    bond_helpers = []\n",
    "    \n",
    "    for index, row in sorted_details_frame.iterrows():\n",
    "        bond_object = create_bond_from_symbology(row)\n",
    "        \n",
    "        tsy_clean_price_quote = row[price_quote_column]\n",
    "        tsy_clean_price_handle = ql.QuoteHandle(ql.SimpleQuote(tsy_clean_price_quote))\n",
    "        \n",
    "        bond_helper = ql.BondHelper(tsy_clean_price_handle, bond_object)\n",
    "        bond_helpers.append(bond_helper)\n",
    "        \n",
    "    yield_curve = ql.PiecewiseLogCubicDiscount(calc_date, bond_helpers, day_count)\n",
    "    yield_curve.enableExtrapolation()\n",
    "    return yield_curve\n",
    "\n",
    "\n",
    "def calibrate_sofr_curve_from_frame(\n",
    "        calc_date: ql.Date,\n",
    "        sofr_details: pd.DataFrame,\n",
    "        rate_quote_column: str):\n",
    "    '''Create a calibrated yield curve from a SOFR details dataframe which includes rate quotes.\n",
    "    '''\n",
    "    ql.Settings.instance().evaluationDate = calc_date\n",
    "\n",
    "    # Sort dataframe by maturity\n",
    "    sorted_details_frame = sofr_details.sort_values(by='term')    \n",
    "    \n",
    "    # settle_days\n",
    "    settle_days = 2\n",
    "    \n",
    "    # For US SOFR OIS Swaps \n",
    "    day_count = ql.Actual360()\n",
    "\n",
    "    # For US SOFR Swaps     \n",
    "    calendar = ql.UnitedStates(ql.UnitedStates.GovernmentBond)\n",
    "    \n",
    "    sofr_helpers = []\n",
    "    \n",
    "    for index, row in sorted_details_frame.iterrows():\n",
    "        sofr_quote = row[rate_quote_column]\n",
    "        tenor_in_years = row['term']\n",
    "        sofr_tenor = ql.Period(tenor_in_years, ql.Years)\n",
    "        \n",
    "        # create sofr_rate_helper\n",
    "        sofr_helper = ql.OISRateHelper(settle_days, sofr_tenor, ql.QuoteHandle(ql.SimpleQuote(sofr_quote/100)), ql.Sofr())\n",
    "                        \n",
    "        sofr_helpers.append(sofr_helper)\n",
    "        \n",
    "    sofr_yield_curve = ql.PiecewiseLinearZero(settle_days, calendar, sofr_helpers, day_count)\n",
    "    sofr_yield_curve.enableExtrapolation()\n",
    "    \n",
    "    return sofr_yield_curve"
   ]
  },
  {
   "cell_type": "code",
   "execution_count": 104,
   "id": "84b9e0a8",
   "metadata": {},
   "outputs": [
    {
     "name": "stdout",
     "output_type": "stream",
     "text": [
      "           figi   ticker   class             bbg                     name   \n",
      "0  BBG00KFWPJJ9  USOSFR1  Curncy  USOSFR1 Curncy  USD OIS  ANN VS SOFR 1Y  \\\n",
      "1  BBG00KFWPJX3  USOSFR2  Curncy  USOSFR2 Curncy  USD OIS  ANN VS SOFR 2Y   \n",
      "2  BBG00KFWPK15  USOSFR3  Curncy  USOSFR3 Curncy  USD OIS  ANN VS SOFR 3Y   \n",
      "3  BBG00KFWPK51  USOSFR5  Curncy  USOSFR5 Curncy  USD OIS  ANN VS SOFR 5Y   \n",
      "4  BBG00KFWPK79  USOSFR7  Curncy  USOSFR7 Curncy  USD OIS  ANN VS SOFR 7Y   \n",
      "\n",
      "   term  type      dcc exchange country currency status       date  mid_rate  \n",
      "0     1  SWAP  ACT/360     NONE      US      USD   ACTV 2023-05-12    4.6945  \n",
      "1     2  SWAP  ACT/360     NONE      US      USD   ACTV 2023-05-12    3.9097  \n",
      "2     3  SWAP  ACT/360     NONE      US      USD   ACTV 2023-05-12    3.5265  \n",
      "3     5  SWAP  ACT/360     NONE      US      USD   ACTV 2023-05-12    3.2426  \n",
      "4     7  SWAP  ACT/360     NONE      US      USD   ACTV 2023-05-12    3.1750  \n"
     ]
    }
   ],
   "source": [
    "# Load SOFR symbology and market data quotes\n",
    "sofr_symbology_df = pd.read_excel('../data/sofr_swaps_symbology.xlsx')\n",
    "sofr_market_quotes_df = pd.read_excel('../data/sofr_swaps_market_data_eod.xlsx')\n",
    "\n",
    "# combined_df\n",
    "sofr_df = sofr_symbology_df.merge(sofr_market_quotes_df[sofr_market_quotes_df['date'] == '2023-05-12'], how='left', on=['figi'])\n",
    "print(sofr_df.head())\n",
    "\n",
    "# calibrate SOFR discount curve\n",
    "sofr_yield_curve = calibrate_sofr_curve_from_frame(calc_date, sofr_df, 'mid_rate')\n",
    "sofr_yield_curve_handle = ql.YieldTermStructureHandle(sofr_yield_curve)\n"
   ]
  },
  {
   "attachments": {},
   "cell_type": "markdown",
   "id": "1eb13b3a",
   "metadata": {},
   "source": [
    "## c. Compute the intrinsic Premium Leg PV of the CDX index basket\n",
    "\n",
    "For each instrument in the basket, create the CDS object. \n",
    "\n",
    "Use the calibrated SOFR discount curve and the CDS Par Spreads to calibrate the individual hazard rate / survival probability curves.\n",
    "\n",
    "Compute the Premium Leg PV for each CDS and aggregate the intrinsic Premium Leg PV of the basket (using basket weights)."
   ]
  },
  {
   "cell_type": "code",
   "execution_count": 105,
   "id": "b0d1e240",
   "metadata": {},
   "outputs": [],
   "source": [
    "# Common CDS specs\n",
    "side = ql.Protection.Seller\n",
    "cds_recovery_rate = 0.4\n",
    "cds_face_notional = 100\n",
    "contractual_spread_bps = 100\n",
    "\n",
    "cds_start_date = calc_date\n",
    "cds_maturity_date = ql.Date(20, 6, 2028)\n",
    "\n",
    "# Create common CDS schedule\n",
    "cds_schedule = ql.MakeSchedule(cds_start_date, cds_maturity_date, ql.Period('3M'),\n",
    "                            ql.Quarterly, ql.TARGET(), ql.Following, ql.Unadjusted, ql.DateGeneration.TwentiethIMM)\n",
    "\n",
    "# Create common CDS object\n",
    "cds_object = ql.CreditDefaultSwap(side, cds_face_notional, contractual_spread_bps / 1e4, cds_schedule, ql.Following, ql.Actual360())"
   ]
  },
  {
   "cell_type": "code",
   "execution_count": 106,
   "id": "2ec25606",
   "metadata": {},
   "outputs": [],
   "source": [
    "def create_cds_pricing_engine(calc_date, sofr_yield_curve_handle, cds_par_spread_5y_bps, cds_recovery_rate = 0.4):\n",
    "    '''Calibrate hazard rate curve and create cds pricing engines from 5Y CDS Par Spreads'''\n",
    "\n",
    "    # CDS tenor: 5Y only\n",
    "    CDS_tenor_5Y = ql.Period(5, ql.Years)\n",
    "\n",
    "    CDS_helpers = [ql.SpreadCdsHelper(cds_par_spread_5y_bps * 1e-4, CDS_tenor_5Y, 2, ql.TARGET(),\n",
    "                                  ql.Quarterly, ql.Following, ql.DateGeneration.TwentiethIMM, ql.Actual360(), cds_recovery_rate, sofr_yield_curve_handle)]\n",
    "\n",
    "    # bootstrap hazard_rate_curve\n",
    "    hazard_rate_curve = ql.PiecewiseFlatHazardRate(calc_date, CDS_helpers, ql.Actual360())\n",
    "    hazard_rate_curve.enableExtrapolation()\n",
    "\n",
    "    # Create CDS pricing engine\n",
    "    default_prob_curve_handle = ql.DefaultProbabilityTermStructureHandle(hazard_rate_curve)\n",
    "    cds_pricing_engine = ql.MidPointCdsEngine(default_prob_curve_handle, cds_recovery_rate, sofr_yield_curve_handle)\n",
    "\n",
    "    return(cds_pricing_engine)"
   ]
  },
  {
   "cell_type": "code",
   "execution_count": 107,
   "id": "9608d3b0",
   "metadata": {},
   "outputs": [
    {
     "name": "stdout",
     "output_type": "stream",
     "text": [
      "cdx_ig_5Y_premium_leg_pv: 4.55\n"
     ]
    }
   ],
   "source": [
    "\n",
    "# calibrate cds_hazard_rate_curves and create cds_pricing_engines\n",
    "cds_pricing_engines = [ create_cds_pricing_engine(calc_date, sofr_yield_curve_handle, cds_par_spread, cds_recovery_rate)\n",
    "                        for cds_par_spread in cdx_basket_df['cds_par_spread_5y'] ]\n",
    "\n",
    "cds_premium_leg_pvs = []\n",
    "cds_default_leg_pvs = []\n",
    "cds_pvs = []\n",
    "\n",
    "cdx_ig_5y_premium_leg_pv = 0\n",
    "cdx_ig_5y_default_leg_pv = 0\n",
    "cdx_ig_5y_pv = 0\n",
    "\n",
    "for i in range(cdx_basket_df.shape[0]):\n",
    "    # setPricingEngine\n",
    "    cds_object.setPricingEngine(cds_pricing_engines[i])\n",
    "    \n",
    "    # Calc individual CDS PVs\n",
    "    cds_premium_leg_pv = cds_object.couponLegNPV()\n",
    "    cds_default_leg_pv = -cds_object.defaultLegNPV()\n",
    "    cds_pv = cds_object.NPV()\n",
    "    \n",
    "    # Aggregate CDX IG 5Y basket PVs\n",
    "    cdx_ig_5y_premium_leg_pv += cds_premium_leg_pv * cds_basket_weight\n",
    "    cdx_ig_5y_default_leg_pv += cds_default_leg_pv * cds_basket_weight\n",
    "    cdx_ig_5y_pv += cds_pv * cds_basket_weight\n",
    "\n",
    "    cds_premium_leg_pvs.append(cds_premium_leg_pv)\n",
    "    cds_default_leg_pvs.append(cds_default_leg_pv)\n",
    "    cds_pvs.append(cds_pv)\n",
    "\n",
    "\n",
    "# Add results to cdx dataframe\n",
    "cdx_basket_df['premium_leg_pv'] = cds_premium_leg_pvs\n",
    "cdx_basket_df['default_leg_pv'] = cds_default_leg_pvs\n",
    "cdx_basket_df['cds_pv'] = cds_pvs\n",
    "\n",
    "# Print CDX IG 5Y aggregated NAV results\n",
    "print('cdx_ig_5Y_premium_leg_pv:', round(cdx_ig_5y_premium_leg_pv, 2))\n"
   ]
  },
  {
   "cell_type": "code",
   "execution_count": 108,
   "id": "2333c62f",
   "metadata": {},
   "outputs": [
    {
     "data": {
      "text/plain": [
       "Text(0.5, 0, 'Ticker')"
      ]
     },
     "execution_count": 108,
     "metadata": {},
     "output_type": "execute_result"
    },
    {
     "data": {
      "image/png": "[encoded data removed]",
      "text/plain": [
       "<Figure size 1200x400 with 1 Axes>"
      ]
     },
     "metadata": {},
     "output_type": "display_data"
    }
   ],
   "source": [
    "# Plot Premium Leg PVs for individual CDS constituents\n",
    "plt = cdx_basket_df.plot(x='ticker', y='premium_leg_pv', grid=True, style='*-', title='CDS Premium Leg PVs for CDX IG 40 index constituents', figsize=(12,4))\n",
    "plt.axhline(cdx_ig_5y_premium_leg_pv, color='red', linestyle='--', alpha=0.7)\n",
    "plt.set_ylabel('CDS Premium Leg PV')\n",
    "plt.set_xlabel('Ticker')\n"
   ]
  },
  {
   "attachments": {},
   "cell_type": "markdown",
   "id": "d9706e38",
   "metadata": {},
   "source": [
    "## d. Compute the intrinsic Default Leg PV of the CDX index basket\n",
    "\n",
    "Compute the Default Leg PV for each CDS and determine the intrinsic Default Leg PV of the basket (using basket weights)."
   ]
  },
  {
   "cell_type": "code",
   "execution_count": 109,
   "id": "5e75d068",
   "metadata": {},
   "outputs": [
    {
     "name": "stdout",
     "output_type": "stream",
     "text": [
      "cdx_ig_5Y_default_leg_pv: 3.92\n"
     ]
    }
   ],
   "source": [
    "# Print CDX IG 5Y aggregated NAV results\n",
    "print('cdx_ig_5Y_default_leg_pv:', round(cdx_ig_5y_default_leg_pv, 2))"
   ]
  },
  {
   "cell_type": "code",
   "execution_count": 110,
   "id": "634977b9",
   "metadata": {},
   "outputs": [
    {
     "data": {
      "text/plain": [
       "Text(0.5, 0, 'Ticker')"
      ]
     },
     "execution_count": 110,
     "metadata": {},
     "output_type": "execute_result"
    },
    {
     "data": {
      "image/png": "[encoded data removed]",
      "text/plain": [
       "<Figure size 1200x400 with 1 Axes>"
      ]
     },
     "metadata": {},
     "output_type": "display_data"
    }
   ],
   "source": [
    "# Plot Default Leg PVs for individual CDS constituents\n",
    "plt = cdx_basket_df.plot(x='ticker', y='default_leg_pv', grid=True, style='*-', title='CDS Default Leg PVs for CDX IG 40 index constituents', figsize=(12,4))\n",
    "plt.axhline(cdx_ig_5y_default_leg_pv, color='red', linestyle='--', alpha=0.7)\n",
    "plt.set_ylabel('CDS Default Leg PV')\n",
    "plt.set_xlabel('Ticker')\n"
   ]
  },
  {
   "attachments": {},
   "cell_type": "markdown",
   "id": "f44e3443",
   "metadata": {},
   "source": [
    "## e. Compute the intrinsic PV and Par Spread of the CDX index basket\n",
    "\n",
    "Compute the intrinsic index PV. \n",
    "\n",
    "Compute the CDX instrinsic index Par Spread (using ratio of CDX default vs premium legs)."
   ]
  },
  {
   "cell_type": "code",
   "execution_count": 111,
   "id": "1386fce1",
   "metadata": {},
   "outputs": [
    {
     "name": "stdout",
     "output_type": "stream",
     "text": [
      "cdx_ig_5Y_pv: 0.63\n",
      "cdx_ig_5y_par_spread: 86.06\n"
     ]
    }
   ],
   "source": [
    "# Compute CDX IG 5Y Par Spread\n",
    "cdx_ig_5y_par_spread = contractual_spread_bps * cdx_ig_5y_default_leg_pv / cdx_ig_5y_premium_leg_pv\n",
    "\n",
    "# Print CDX IG 5Y aggregated NAV results\n",
    "print('cdx_ig_5Y_pv:', round(cdx_ig_5y_pv, 2))\n",
    "print('cdx_ig_5y_par_spread:', round(cdx_ig_5y_par_spread, 2))\n"
   ]
  },
  {
   "cell_type": "code",
   "execution_count": 112,
   "id": "e3587615",
   "metadata": {},
   "outputs": [
    {
     "data": {
      "text/plain": [
       "Text(0.5, 0, 'Ticker')"
      ]
     },
     "execution_count": 112,
     "metadata": {},
     "output_type": "execute_result"
    },
    {
     "data": {
      "image/png": "[encoded data removed]",
      "text/plain": [
       "<Figure size 1200x400 with 1 Axes>"
      ]
     },
     "metadata": {},
     "output_type": "display_data"
    }
   ],
   "source": [
    "# Plot Default Leg PVs for individual CDS constituents\n",
    "plt = cdx_basket_df.plot(x='ticker', y='cds_pv', grid=True, style='*-', title='CDS PVs for CDX IG 40 index constituents', figsize=(12,4))\n",
    "plt.axhline(cdx_ig_5y_pv, color='red', linestyle='--', alpha=0.7)\n",
    "plt.set_ylabel('CDS PV')\n",
    "plt.set_xlabel('Ticker')\n"
   ]
  },
  {
   "attachments": {},
   "cell_type": "markdown",
   "id": "b7c42c12",
   "metadata": {},
   "source": [
    "# Problem 5: Credit ETF analysis on HYG"
   ]
  },
  {
   "attachments": {},
   "cell_type": "markdown",
   "id": "61d843a8",
   "metadata": {},
   "source": [
    "## a. Load and explore the HYG basket composition and market data\n",
    "\n",
    "Load the `hyg_basket_composition` Excel file into a dataframe. It contains the HYG basket constituent face notionals, weights and yields-to-maturities as of 2023-05-12.\n",
    "\n",
    "Load the `hyg_corp_symbology` Excel file into a dataframe. It contains the corporate bond details for HYG constituents.\n",
    "\n",
    "How many corporate bonds are in the HYG basket?  What are the average and median face notionals for a bond?\n",
    "\n",
    "How many unique tickers are in the HYG basket? What are the average and median face notionals for a ticker?\n",
    "\n",
    "Compute mean, median and standard deviation of yields-to-maturity of bonds in the basket."
   ]
  },
  {
   "cell_type": "code",
   "execution_count": 113,
   "id": "a7b45b9b",
   "metadata": {},
   "outputs": [
    {
     "name": "stdout",
     "output_type": "stream",
     "text": [
      "Corporate bonds in HYG basket: 1200\n",
      "Average and median face notionals for bonds in HYG basket:\n",
      "mean    1.366582e+07\n",
      "50%     1.139700e+07\n",
      "Name: face_notional, dtype: float64\n",
      "Number of unique tickers in HYG basket: 417\n",
      "Average and median face notionals by ticker:\n",
      "mean    3.932609e+07\n",
      "50%     2.770300e+07\n",
      "Name: face_notional, dtype: float64\n",
      "Mean, median and standard deviation of yields-to-maturity (pct):\n",
      "mean    8.758267\n",
      "50%     7.290000\n",
      "std     5.031667\n",
      "Name: yield_to_maturity, dtype: float64\n"
     ]
    }
   ],
   "source": [
    "# hyg_corp_symbology_df\n",
    "hyg_corp_symbology_df = pd.read_excel('../data/hyg_corp_symbology.xlsx')\n",
    "\n",
    "# Load HYG basket composition file, keep only columns needed for pricing\n",
    "hyg_basket_composition_df = pd.read_excel('../data/hyg_basket_composition.xlsx')\n",
    "hyg_basket_composition_df = hyg_basket_composition_df[['isin', 'yield_to_maturity', 'face_notional', 'face_notional_weight']]\n",
    "\n",
    "# hyg_df\n",
    "hyg_df = hyg_corp_symbology_df.merge(hyg_basket_composition_df, how='inner', on=['isin'])\n",
    "# print(hyg_df.head())\n",
    "\n",
    "print('Corporate bonds in HYG basket:', hyg_df.shape[0])\n",
    "\n",
    "print('Average and median face notionals for bonds in HYG basket:')\n",
    "print(hyg_df['face_notional'].describe()[['mean', '50%']])\n",
    "\n",
    "print('Number of unique tickers in HYG basket:', len(hyg_df['ticker'].unique()))\n",
    "\n",
    "print('Average and median face notionals by ticker:')\n",
    "hyg_by_ticker_df = hyg_df[['ticker', 'face_notional']].groupby(['ticker']).sum()\n",
    "print(hyg_by_ticker_df['face_notional'].describe()[['mean', '50%']])\n",
    "\n",
    "print('Mean, median and standard deviation of yields-to-maturity (pct):')\n",
    "print(hyg_df['yield_to_maturity'].describe()[['mean', '50%', 'std']])\n",
    "\n"
   ]
  },
  {
   "attachments": {},
   "cell_type": "markdown",
   "id": "06f2e605",
   "metadata": {},
   "source": [
    "## b. Compute the NAV of the HYG basket and the intrinsic price of one ETF share.\n",
    "\n",
    "Create the bond objects for all constituents of HYG. Compute the dirty price for each bond (from yield-to-maturity).\n",
    "\n",
    "Aggregate the ETF NAV value (intrisic value of bond basket) as the weighted sum of dirty prices times basket weights. Keep in mind that the resulting ETF NAV will be on a face of $100, since the basket face notional weights add up to 100 percent.\n",
    "\n",
    "Compute the intrinisc market capitalization of the HYG ETF by scaling the ETF NAV price to the ETF total face notional. \n",
    "\n",
    "Divide by 195,800,000 (the number of ETF shared outstanding as of 2023-05-12) to obtain the intrinsic price of one HYG ETF share."
   ]
  },
  {
   "cell_type": "code",
   "execution_count": 114,
   "id": "80562fed",
   "metadata": {},
   "outputs": [],
   "source": [
    "# Fix the two perpetual bonds by setting them to 50Y maturity\n",
    "# Alternatively, you can remove the two bonds from the basket (the weights are negligible).\n",
    "hyg_df.loc[pd.isnull(hyg_df[\"maturity\"]), \"maturity\"] = dt.datetime(2073, 12, 31)"
   ]
  },
  {
   "cell_type": "code",
   "execution_count": 115,
   "id": "03a23bbe",
   "metadata": {},
   "outputs": [
    {
     "name": "stdout",
     "output_type": "stream",
     "text": [
      "                security  yield_to_maturity  face_notional  dirty_price\n",
      "0  TNETBB 5 1/2 03/01/28               7.42       12400000    93.508503\n",
      "1  LVIATH 6 1/8 06/30/25               7.49        8025000    99.670342\n",
      "2  LVIATH 6 1/2 06/30/27               7.84        8261000    97.800544\n",
      "3  LVIATH 6 3/4 06/30/30               8.06        7941000    95.542637\n",
      "4  ENOIGA 4 1/2 03/30/24               7.40         421000    98.160547\n"
     ]
    }
   ],
   "source": [
    "# face notionals and weights\n",
    "bond_face_notionals = hyg_df['face_notional']\n",
    "bond_face_notional_weights = hyg_df['face_notional_weight']\n",
    "\n",
    "# bond objects and dirty prices\n",
    "hyg_bond_objects = []\n",
    "hyg_bond_dirty_prices = []\n",
    "\n",
    "# ETF intrinsic  NAV and Market Cap\n",
    "hyg_intrinsic_nav = 0\n",
    "hyg_intrinsic_market_cap = 0\n",
    "\n",
    "# loop over bonds\n",
    "for i, df_row in hyg_df.iterrows():\n",
    "    # bond_object\n",
    "    bond_object = create_bond_from_symbology(df_row.to_dict())\n",
    "    \n",
    "    # bond_dirty_price                \n",
    "    bond_yield = df_row['yield_to_maturity'] / 100\n",
    "    bond_dirty_price = bond_object.dirtyPrice(bond_yield, ql.Thirty360(ql.Thirty360.USA), ql.Compounded, ql.Semiannual)\n",
    "    \n",
    "    # hyg_basket_nav    \n",
    "    hyg_intrinsic_nav += bond_dirty_price * bond_face_notional_weights[i] / 100\n",
    "    \n",
    "    # hyg_basket_market_cap    \n",
    "    hyg_intrinsic_market_cap += bond_dirty_price * bond_face_notionals[i] / 100\n",
    "    \n",
    "    # Populate lists\n",
    "    hyg_bond_objects.append(bond_object)\n",
    "    hyg_bond_dirty_prices.append(bond_dirty_price)\n",
    "\n",
    "\n",
    "# Add dirty prices to hyg_df\n",
    "hyg_df['dirty_price'] = hyg_bond_dirty_prices\n",
    "print(hyg_df[['security', 'yield_to_maturity', 'face_notional', 'dirty_price']].head())"
   ]
  },
  {
   "cell_type": "code",
   "execution_count": 116,
   "id": "c42c0eba",
   "metadata": {},
   "outputs": [
    {
     "name": "stdout",
     "output_type": "stream",
     "text": [
      "hyg_intrinsic_nav (on a face of $100): 89.9\n",
      "hyg_intrinsic_market_cap (in $BN): 14.74\n",
      "hyg_intrinsic_price_per_etf_share: 75.29\n"
     ]
    }
   ],
   "source": [
    "# Aggregate the ETF NAV value (intrisic value of bond basket) as the weighted sum of dirty prices times basket weights.\n",
    "print('hyg_intrinsic_nav (on a face of $100):', round(hyg_intrinsic_nav, 2))\n",
    "\n",
    "# Compute the intrinisc market capitalization of the HYG ETF by scaling the ETF NAV price to the ETF total face notional. \n",
    "print('hyg_intrinsic_market_cap (in $BN):', round(hyg_intrinsic_market_cap/1e9, 2))\n",
    "\n",
    "# Divide by 195,800,000 (the number of ETF shared outstanding as of 2023-05-12) to obtain the intrinsic price of one HYG ETF share.\n",
    "hyg_number_of_outstanding_etf_shares = 195800000\n",
    "hyg_intrinsic_price_per_etf_share = hyg_intrinsic_market_cap / hyg_number_of_outstanding_etf_shares\n",
    "print('hyg_intrinsic_price_per_etf_share:', round(hyg_intrinsic_price_per_etf_share, 2))\n"
   ]
  },
  {
   "attachments": {},
   "cell_type": "markdown",
   "id": "0ab41951",
   "metadata": {},
   "source": [
    "## c. Compute the HYG ETF yield using the ACF (Aggregated Cash-Flows) method\n",
    "\n",
    "Write a function that computes the ETF NAV for a given flat yield y (using same flat yield curve for all bonds).\n",
    "\n",
    "Solve for \n",
    "\n",
    "ETF_NAV(yield) = ETF_NAV_Value \n",
    "\n",
    "to obtain the ETF yield.\n",
    "\n",
    "How close is the ETF yield to the weighted average of the individual bond yields?\n",
    "\n"
   ]
  },
  {
   "cell_type": "code",
   "execution_count": 117,
   "id": "2c453d72",
   "metadata": {},
   "outputs": [],
   "source": [
    "def calc_etf_nav_from_yield(etf_yield, hyg_bond_objects, bond_face_notional_weights):\n",
    "    \n",
    "    # etf_intrinsic_nav\n",
    "    etf_intrinsic_nav = 0\n",
    "    \n",
    "    # loop over bonds\n",
    "    for i in range(len(hyg_bond_objects)):\n",
    "        bond_object = hyg_bond_objects[i]\n",
    "        # calc bond_dirty_price\n",
    "        bond_dirty_price = bond_object.dirtyPrice(etf_yield, ql.Thirty360(ql.Thirty360.USA), ql.Compounded, ql.Semiannual)        \n",
    "        \n",
    "        # update etf_intrinsic_nav\n",
    "        etf_intrinsic_nav += bond_dirty_price * bond_face_notional_weights[i] / 100\n",
    "        \n",
    "    return(etf_intrinsic_nav)\n",
    "    "
   ]
  },
  {
   "attachments": {},
   "cell_type": "markdown",
   "id": "dd852492",
   "metadata": {},
   "source": [
    "Add root finder wrapper function and solve for ETF yield."
   ]
  },
  {
   "cell_type": "code",
   "execution_count": 118,
   "id": "e7a49c65",
   "metadata": {},
   "outputs": [
    {
     "name": "stdout",
     "output_type": "stream",
     "text": [
      "HYG etf_nav_yield (pct): 8.379\n",
      "      converged: True\n",
      "           flag: 'converged'\n",
      " function_calls: 9\n",
      "     iterations: 8\n",
      "           root: 0.0837945963434787\n"
     ]
    }
   ],
   "source": [
    "from scipy.optimize import root_scalar\n",
    "\n",
    "# etf_nav_from_yield_wrapper\n",
    "etf_nav_from_yield_wrapper = lambda y: hyg_intrinsic_nav - calc_etf_nav_from_yield(y, hyg_bond_objects, bond_face_notional_weights)\n",
    "\n",
    "# use 1-dimensional root finder\n",
    "root_finder_yield_sol = root_scalar(etf_nav_from_yield_wrapper, bracket=[0.001, 0.50], method='brentq', xtol=1e-6)\n",
    "etf_nav_yield = root_finder_yield_sol.root\n",
    "print('HYG etf_nav_yield (pct):', round(etf_nav_yield * 100, 3))\n",
    "\n",
    "# root_scalar() convergence details\n",
    "print(root_finder_yield_sol)\n",
    "\n"
   ]
  },
  {
   "cell_type": "code",
   "execution_count": 119,
   "id": "da6caf2d",
   "metadata": {},
   "outputs": [
    {
     "data": {
      "text/plain": [
       "Text(0.5, 0, 'Ticker')"
      ]
     },
     "execution_count": 119,
     "metadata": {},
     "output_type": "execute_result"
    },
    {
     "data": {
      "image/png": "[encoded data removed]",
      "text/plain": [
       "<Figure size 1200x400 with 1 Axes>"
      ]
     },
     "metadata": {},
     "output_type": "display_data"
    }
   ],
   "source": [
    "# Plot HYG yields for bond constituents (optional)\n",
    "plt = hyg_df.sort_values('yield_to_maturity', inplace=False).plot(x='ticker', y='yield_to_maturity', grid=True, style='-', title='HYG yields for bond constituents', figsize=(12,4))\n",
    "plt.axhline(etf_nav_yield * 100, color='red', linestyle='--', alpha=0.7)\n",
    "plt.set_ylabel('Bond Yield')\n",
    "plt.set_xlabel('Ticker')"
   ]
  },
  {
   "attachments": {},
   "cell_type": "markdown",
   "id": "4f762792",
   "metadata": {},
   "source": [
    "## d. Compute the ETF DV01, Duration and Convexity\n",
    "\n",
    "Treat the ETF basket as a synthetic bond.\n",
    "\n",
    "Use +/- 1 bp scenarios in ETF yield space to compute the ETF DV01, Duration and Convexity.\n"
   ]
  },
  {
   "cell_type": "code",
   "execution_count": 120,
   "id": "82c81841",
   "metadata": {},
   "outputs": [
    {
     "name": "stdout",
     "output_type": "stream",
     "text": [
      "DV01:  3.7069\n",
      "Duration:  4.1218\n",
      "Convexity:  24.9838\n"
     ]
    }
   ],
   "source": [
    "# Use example from Section 6. \"Market Data Scenarios\" in the QuantLib Intro notebook.\n",
    "\n",
    "# compute +/- 1bp ETF yield scenarios\n",
    "hyg_intrinsic_nav_yield_1bp_down = calc_etf_nav_from_yield(etf_nav_yield - 0.0001, hyg_bond_objects, bond_face_notional_weights)\n",
    "hyg_intrinsic_nav_yield_1bp_up = calc_etf_nav_from_yield(etf_nav_yield + 0.0001, hyg_bond_objects, bond_face_notional_weights)\n",
    "\n",
    "# Compute scenario delta/gamma sensitivities\n",
    "dv01 = round((hyg_intrinsic_nav_yield_1bp_down - hyg_intrinsic_nav) * 1e4 / 100, 4)\n",
    "duration = round(dv01 / hyg_intrinsic_nav_yield_1bp_down * 100, 4)\n",
    "gamma_1bp = (hyg_intrinsic_nav_yield_1bp_down - 2*hyg_intrinsic_nav + hyg_intrinsic_nav_yield_1bp_up) * 1e8 / 100\n",
    "convexity = round(gamma_1bp / hyg_intrinsic_nav * 100, 4)\n",
    "\n",
    "print(\"DV01: \", dv01)\n",
    "print(\"Duration: \", duration)\n",
    "print(\"Convexity: \", convexity)\n"
   ]
  },
  {
   "attachments": {},
   "cell_type": "markdown",
   "id": "ce267203",
   "metadata": {},
   "source": [
    "## e. Compute the ETF z-spread\n",
    "\n",
    "Load and calibrate the US Treasury discount curve as of 2023-05-12, following Homework 2, Problem 2.\n",
    "\n",
    "Write a function that computes the ETF NAV for a given flat z-spread (parallel shift on the top of the US Treasury yield curve)\n",
    "\n",
    "Solve for \n",
    "\n",
    "ETF_NAV(z-spread) = ETF_NAV_Value \n",
    "\n",
    "to obtain the ETF z-spread.\n",
    "\n",
    "Use Section 9 \"Analytical Duration, Convexity and Z-Spread\" of the QuantLib as a template for applying the flat z-spread to the US Treasury yield curve."
   ]
  },
  {
   "cell_type": "code",
   "execution_count": 121,
   "id": "6f2fdb92",
   "metadata": {},
   "outputs": [],
   "source": [
    "# Load US On-The-Run treasuries and calibrate risk-free curve\n",
    "govt_symbology_df = pd.read_excel('../data/govt_symbology.xlsx')\n",
    "govt_symbology_df.set_index('figi',inplace=True)\n",
    "\n",
    "# Keep fixed rate bonds only: (cpn_type=\"FIXED\") \n",
    "govt_symbology_df = govt_symbology_df[govt_symbology_df.cpn_type == \"FIXED\"]\n",
    "\n",
    "\n",
    "govt_otr_df = pd.read_excel('../data/govt_on_the_run.xlsx')\n",
    "govt_otr_df.sort_values('ticker',inplace=True)\n",
    "govt_otr_df.set_index('ticker',inplace=True)\n",
    "\n",
    "# filter for on_the_run_tsy_tickers\n",
    "on_the_run_tsy_tickers = ['GT2 Govt', 'GT3 Govt', 'GT5 Govt', 'GT7 Govt', 'GT10 Govt', 'GT20 Govt', 'GT30 Govt']\n",
    "govt_otr_df = govt_otr_df.loc[on_the_run_tsy_tickers]\n",
    "on_the_run_tsy_figis = govt_otr_df['figi']\n",
    "\n",
    "# govt_otr_symbology_df\n",
    "govt_otr_symbology_df = govt_symbology_df.loc[on_the_run_tsy_figis]\n",
    "# print(govt_otr_symbology_df)\n",
    "\n",
    "market_prices_df = pd.read_excel('../data/govt_market_prices_eod.xlsx')\n",
    "market_prices_df.sort_values('ticker',inplace=True)\n",
    "market_prices_df.set_index('figi',inplace=True)\n",
    "# print(market_prices_df.head())\n",
    "\n",
    "# treasury_otr_df\n",
    "treasury_otr_df = govt_otr_symbology_df.merge(market_prices_df, how='left', on=['figi', 'class', 'ticker', 'isin'])\n",
    "treasury_otr_df.sort_values('maturity',inplace=True)\n",
    "# print(treasury_otr_df)\n",
    "\n",
    "# tsy_yield_curve calibration\n",
    "tsy_yield_curve = calibrate_yield_curve_from_frame(calc_date, treasury_otr_df, 'mid_clean')\n",
    "tsy_yield_curve_handle = ql.YieldTermStructureHandle(tsy_yield_curve)\n"
   ]
  },
  {
   "attachments": {},
   "cell_type": "markdown",
   "id": "552a3fc8",
   "metadata": {},
   "source": [
    "This is following the z-spread valuation example from Section 9. \"Analytical Duration, Convexity and Z-Spread (flat yield model)\" in the QuantLib Intro notebook."
   ]
  },
  {
   "cell_type": "code",
   "execution_count": 122,
   "id": "eb9baba8",
   "metadata": {},
   "outputs": [],
   "source": [
    "def calc_etf_nav_from_zspread(etf_zspread, hyg_bond_objects, bond_face_notional_weights, tsy_yield_curve_handle):\n",
    "    \n",
    "    # Add z-spread to tsy_yield_curve_handle and obtain yield_curve_bumped_handle\n",
    "    zspread_quote_handle = ql.QuoteHandle(ql.SimpleQuote(etf_zspread))\n",
    "    yield_curve_bumped = ql.ZeroSpreadedTermStructure(tsy_yield_curve_handle, zspread_quote_handle, ql.Compounded, ql.Semiannual)\n",
    "    yield_curve_bumped_handle = ql.YieldTermStructureHandle(yield_curve_bumped)\n",
    "    \n",
    "    # zspread_bond_engine\n",
    "    zspread_bond_engine = ql.DiscountingBondEngine(yield_curve_bumped_handle)\n",
    "    \n",
    "    # etf_intrinsic_nav\n",
    "    etf_intrinsic_nav = 0\n",
    "    \n",
    "    # loop over bonds\n",
    "    for i in range(len(hyg_bond_objects)):        \n",
    "        \n",
    "        bond_object = hyg_bond_objects[i]\n",
    "        bond_object.setPricingEngine(zspread_bond_engine)\n",
    "        \n",
    "        # calc bond_dirty_price        \n",
    "        bond_dirty_price = bond_object.dirtyPrice()                \n",
    "        \n",
    "        # update etf_intrinsic_nav\n",
    "        etf_intrinsic_nav += bond_dirty_price * bond_face_notional_weights[i] / 100\n",
    "        \n",
    "    return(etf_intrinsic_nav)\n",
    "    "
   ]
  },
  {
   "attachments": {},
   "cell_type": "markdown",
   "id": "e5315fb6",
   "metadata": {},
   "source": [
    "Add root finder wrapper function and solve for ETF Z-Spread."
   ]
  },
  {
   "cell_type": "code",
   "execution_count": 123,
   "id": "4b3952b0",
   "metadata": {},
   "outputs": [
    {
     "name": "stdout",
     "output_type": "stream",
     "text": [
      "HYG etf_nav_zspread (bps): 485.88\n",
      "      converged: True\n",
      "           flag: 'converged'\n",
      " function_calls: 7\n",
      "     iterations: 6\n",
      "           root: 0.04858833500751408\n"
     ]
    }
   ],
   "source": [
    "# etf_nav_from_yield_wrapper\n",
    "etf_nav_from_zspread_wrapper = lambda y: hyg_intrinsic_nav - calc_etf_nav_from_zspread(y, hyg_bond_objects, bond_face_notional_weights, tsy_yield_curve_handle)\n",
    "\n",
    "# use 1-dimensional root finder\n",
    "root_finder_zspread_sol = root_scalar(etf_nav_from_zspread_wrapper, bracket=[0.0001, 0.2000], method='brentq', xtol=1e-6)\n",
    "etf_nav_zspread = root_finder_zspread_sol.root\n",
    "print('HYG etf_nav_zspread (bps):', round(etf_nav_zspread * 10000, 2))\n",
    "\n",
    "# root_scalar() convergence details\n",
    "print(root_finder_zspread_sol)\n",
    "\n"
   ]
  }
 ],
 "metadata": {
  "hide_input": false,
  "kernelspec": {
   "display_name": "Python 3 (ipykernel)",
   "language": "python",
   "name": "python3"
  },
  "language_info": {
   "codemirror_mode": {
    "name": "ipython",
    "version": 3
   },
   "file_extension": ".py",
   "mimetype": "text/x-python",
   "name": "python",
   "nbconvert_exporter": "python",
   "pygments_lexer": "ipython3",
   "version": "3.8.2"
  }
 },
 "nbformat": 4,
 "nbformat_minor": 5
}
