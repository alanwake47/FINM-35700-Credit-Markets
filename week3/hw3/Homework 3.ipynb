{
 "cells": [
  {
   "attachments": {},
   "cell_type": "markdown",
   "id": "3e013a68",
   "metadata": {},
   "source": [
    "# Homework 3\n",
    "\n",
    "## FINM 35700 - Spring 2023\n",
    "\n",
    "### UChicago Financial Mathematics\n",
    "\n",
    "* Alex Popovici\n",
    "* alex.popovici@uchicago.edu"
   ]
  },
  {
   "attachments": {},
   "cell_type": "markdown",
   "id": "97d4c3b4",
   "metadata": {},
   "source": [
    "This homework relies on:\n",
    "\n",
    "- the US government bonds symbology file `govt_symbology`, \n",
    "- the \"on-the-run\" treasuries data file `govt_on_the_run`,\n",
    "- the corporate  bonds symbology file `corp_symbology`,\n",
    "- the market data file `market_prices_eod` and\n",
    "- the corporate bonds call schedule file `call_schedules`.\n"
   ]
  },
  {
   "attachments": {},
   "cell_type": "markdown",
   "id": "27e68a4e",
   "metadata": {},
   "source": [
    "# Problem 1: More details on callable bonds: \"workout-date\" and \"yield-to-worst\" calculations"
   ]
  },
  {
   "cell_type": "code",
   "execution_count": 13,
   "id": "5079f70e",
   "metadata": {},
   "outputs": [],
   "source": [
    "import QuantLib as ql\n",
    "import numpy as np\n",
    "import pandas as pd\n",
    "import datetime as dt\n",
    "\n",
    "import matplotlib.pyplot as plt\n",
    "%matplotlib inline"
   ]
  },
  {
   "attachments": {},
   "cell_type": "markdown",
   "id": "e07bfd7c",
   "metadata": {},
   "source": [
    "## a. Load and explore the call schedules dataframe\n",
    "\n",
    "Load the `call_schedules` Excel file into a dataframe. It contains call schedules for fixed-rate, callable corporate bonds.\n",
    "\n",
    "For each bond in the dataframe, compute the total number of outstanding calls."
   ]
  },
  {
   "attachments": {},
   "cell_type": "markdown",
   "id": "55572cf7",
   "metadata": {},
   "source": [
    "## b. Load symbology dataframe and extend it with the fixed-rate callable corporate bond details from 1a.\n",
    "\n",
    "Load the `corp_symbology` Excel file into a dataframe and keep only the fixed-rate callable bonds from 1a.\n",
    "\n",
    "Extend the dataframe with the column computed in 1a:\n",
    "\n",
    "| num_call_dates |\n",
    "|----------|"
   ]
  },
  {
   "attachments": {},
   "cell_type": "markdown",
   "id": "7834d854",
   "metadata": {},
   "source": [
    "## c. Add a function to compute \"workout date\" and \"yield-to-worst\" for a fixed-rate callable bond\n",
    "\n",
    "Quick recap: given the current market price, the issuer is expected to call a callable bond on the call date corresponding to lowest bond yield \"to call date\" (which is the best possible scenario from the point of view of the issuer exercising the call option). The lowest yield for a call date is called the \"yield-to-worst\" and the corresponding call date (on which the issuer is expected to call the bond) is called the \"workout date\". Keep in mind that the \"workout date\" could be at the bond maturity date, in which case \"yield-to-worst\" = \"yield-to-maturity\".\n",
    "\n",
    "To do: For a callable bond, with known symbology (reference data) and call schedules dataframes, create a function that takes the clean market price as an input and returns \"workout date\" and \"yield-to-worst\".\n",
    "\n",
    "Internally, for each call date, create a separate \"call scenario bond\" object using the function create_bond_from_symbology() from Homework 2, and then compute the corresponding \"call scenario yield\" for the \"call scenario bond\" (using the bond clean market price).\n"
   ]
  },
  {
   "cell_type": "code",
   "execution_count": 12,
   "id": "c820515d",
   "metadata": {},
   "outputs": [],
   "source": [
    "def calc_yield_to_worst(\n",
    "            details: dict,\n",
    "            pc_schedule: pd.DataFrame,\n",
    "            bond_clean_price: float,\n",
    "            calc_date: ql.Date):\n",
    "    '''Computes yield-to-worst and workout date for fixed rate callable bonds.\n",
    "    '''    \n",
    "    \n",
    "    # iterate over the call schdeule entries and compute the scenario yields\n",
    "    # Identify the smalles yield as \"yield-to-worst\"\n",
    "    \n",
    "    # update code!!!\n",
    "    workout_date = ql.Date()    # compute workout date !!!\n",
    "    yield_to_worst = 0.05       # compute yield to worst !!!    \n",
    "    \n",
    "    return workout_date, yield_to_worst"
   ]
  },
  {
   "attachments": {},
   "cell_type": "markdown",
   "id": "d24a0174",
   "metadata": {},
   "source": [
    "## d. Compute \"workout dates\" and \"yields-to-worst\" for all fixed-rate callable bonds\n",
    "\n",
    "Load the `market_prices_eod` Excel file into a dataframe, which contains marktet quotes as of 2023-04-14.\n",
    "\n",
    "For each fixed-rate callable bond in the symbology dataframe from 1b (using calc_date = '2023-04-14' and clean market prices):\n",
    "- 1. Compute the yield to maturity \n",
    "\n",
    "- 2. Use the function from 1c to compute \"workout date\" and \"yield-to-worst\".\n",
    "\n",
    "Extend the symbology dataframe with the following columns:\n",
    "\n",
    "\n",
    "| clean_price |  yield_to_maturity | workout_date | yield_to_worst |\n",
    "|----------|-------------|-------|-------------|\n",
    "\n"
   ]
  },
  {
   "cell_type": "code",
   "execution_count": 14,
   "id": "cc36ba33",
   "metadata": {},
   "outputs": [],
   "source": [
    "# Use static calculation/valuation date of 2023-04-14, matching data available in the market prices EOD file\n",
    "calc_date = ql.Date(14, 4, 2023)\n",
    "ql.Settings.instance().evaluationDate = calc_date"
   ]
  },
  {
   "attachments": {},
   "cell_type": "markdown",
   "id": "d3f2d550",
   "metadata": {},
   "source": [
    "# Problem 2: Perpetual bonds\n",
    "## a. Price a fixed rate perpetual bond\n",
    "We are interested in a fixed rate perpetual bond (infinite maturity) on a face notional of $100 and semi-annual coupon c.\n",
    "\n",
    "Assuming that the bond has a (continuously componded) yield of y, what is the fair value price of the bond?\n",
    "\n",
    "For simplicity, you can assume T+0 settlement and zero accrued."
   ]
  },
  {
   "attachments": {},
   "cell_type": "markdown",
   "id": "ea06ec4c",
   "metadata": {},
   "source": [
    "## b. Perpetual bonds priced \"at par\"\n",
    "For which yield y does the bond trade \"at par\", i.e. fair value price = $100?"
   ]
  },
  {
   "attachments": {},
   "cell_type": "markdown",
   "id": "6bdbf185",
   "metadata": {},
   "source": [
    "## c. Duration and DV01 for a fixed rate perpetual bond\n",
    "Compute Duration and DV01 of the perpetual bond."
   ]
  },
  {
   "attachments": {},
   "cell_type": "markdown",
   "id": "808bf8d9",
   "metadata": {},
   "source": [
    "## d. Convexity of a fixed rate perpetual bond\n",
    "Compute the convexity of the perpetual bond."
   ]
  },
  {
   "attachments": {},
   "cell_type": "markdown",
   "id": "2dac64a2",
   "metadata": {},
   "source": [
    "# Problem 3: US SOFR swap curve calibration as of 2023-04-28\n",
    "### Follow Section \"11. SOFR OIS swap rates and SOFR discount curve calibration + validation\" in the QuantLib Intro notebook !!!"
   ]
  },
  {
   "attachments": {},
   "cell_type": "markdown",
   "id": "b74a4cd1",
   "metadata": {},
   "source": [
    "## a. Load and explore US SOFR swaps symbology and market data\n",
    "\n",
    "Load the `sofr_swap_symbology` Excel file into a dataframe. Print all swap tenors available.\n",
    "\n",
    "Load the `sofr_swaps_market_data_eod` Excel file into a dataframe. Print all dates available.\n",
    "\n",
    "Plot the historial time series of SOFR rates for the available [1Y, 2Y, 3Y, 5Y, 7Y, 10Y, 20Y, 30Y] tenors."
   ]
  },
  {
   "attachments": {},
   "cell_type": "markdown",
   "id": "30fcd104",
   "metadata": {},
   "source": [
    "## b. Calibrate the US SOFR yield curve (via bootstrapping)\n",
    "The function below shows how to calibrate a smooth yield/discount factor curve from SOFR swaps. \n",
    "\n",
    "Prepare a joint symbology & market dataframe quotes as of 2023-04-28. \n",
    "\n",
    "Calibrate the SOFR discount factor curve as of 2023-04-28.\n",
    "\n",
    "Follow section 11b."
   ]
  },
  {
   "cell_type": "code",
   "execution_count": 3,
   "id": "2a60e874",
   "metadata": {},
   "outputs": [],
   "source": [
    "def calibrate_sofr_curve_from_frame(\n",
    "        calc_date: ql.Date,\n",
    "        sofr_details: pd.DataFrame,\n",
    "        rate_quote_column: str):\n",
    "    '''Create a calibrated yield curve from a SOFR details dataframe which includes rate quotes.\n",
    "    '''\n",
    "    ql.Settings.instance().evaluationDate = calc_date\n",
    "\n",
    "    # Sort dataframe by maturity\n",
    "    sorted_details_frame = sofr_details.sort_values(by='tenor')    \n",
    "    \n",
    "    # settle_days\n",
    "    settle_days = 2\n",
    "    \n",
    "    # For US SOFR OIS Swaps \n",
    "    day_count = ql.Actual360()\n",
    "\n",
    "    # For US SOFR Swaps     \n",
    "    calendar = ql.UnitedStates(ql.UnitedStates.GovernmentBond)\n",
    "    \n",
    "    sofr_helpers = []\n",
    "    \n",
    "    for index, row in sorted_details_frame.iterrows():\n",
    "        sofr_quote = row[rate_quote_column]\n",
    "        tenor_in_years = row['tenor']\n",
    "        sofr_tenor = ql.Period(tenor_in_years, ql.Years)\n",
    "        \n",
    "        # create sofr_rate_helper\n",
    "        sofr_helper = ql.OISRateHelper(settle_days, sofr_tenor, ql.QuoteHandle(ql.SimpleQuote(sofr_quote/100)), ql.Sofr())\n",
    "                        \n",
    "        sofr_helpers.append(sofr_helper)\n",
    "        \n",
    "    sofr_yield_curve = ql.PiecewiseLinearZero(settle_days, calendar, sofr_helpers, day_count)\n",
    "    sofr_yield_curve.enableExtrapolation()\n",
    "    \n",
    "    return sofr_yield_curve"
   ]
  },
  {
   "attachments": {},
   "cell_type": "markdown",
   "id": "1eb13b3a",
   "metadata": {},
   "source": [
    "## c. Display the calibrated SOFR discount curve dataframe\n",
    "\n",
    "Follow section 11d to display the calibration details dataframe."
   ]
  },
  {
   "attachments": {},
   "cell_type": "markdown",
   "id": "d9706e38",
   "metadata": {},
   "source": [
    "## d. Plot the calibrated US SOFR Zero Interest Rates and Discount Factor curves\n",
    "\n",
    "Plot the SOFR zero rates and discount factor curves by maturity. Follow section 11c."
   ]
  },
  {
   "attachments": {},
   "cell_type": "markdown",
   "id": "b7c42c12",
   "metadata": {},
   "source": [
    "# Problem 4: CDS Hazard Rate calibration and valuation\n",
    "## Follow Section \"12. CDS Hazard Rate calibration + Pricing\" in the QuantLib Intro notebook !!!"
   ]
  },
  {
   "attachments": {},
   "cell_type": "markdown",
   "id": "1e9ddc55",
   "metadata": {},
   "source": [
    "## a. Load and explore the CDS market data (IBM credit issuer)\n",
    "\n",
    "Load the `cds_market_data_eod` Excel file into a dataframe. \n",
    "\n",
    "Plot the historical time series of CDS Par Spreads for the available tenors.\n"
   ]
  },
  {
   "attachments": {},
   "cell_type": "markdown",
   "id": "8810db16",
   "metadata": {},
   "source": [
    "## b. Calibrate the IBM hazard rate curve as of 2023-04-28\n",
    "\n",
    "Follow section 12a. Use the calibrated SOFR discount curve from 2b."
   ]
  },
  {
   "attachments": {},
   "cell_type": "markdown",
   "id": "386cad9b",
   "metadata": {},
   "source": [
    "## c. Plot the calibrated Hazard Rates and Survival Probability curves\n",
    "Follow section 12b. Use the calibrated SOFR discount curve from 2b."
   ]
  },
  {
   "attachments": {},
   "cell_type": "markdown",
   "id": "d68db97e",
   "metadata": {},
   "source": [
    "## d. Compute the fair/par spread and PV of a CDS \n",
    "\n",
    "Follow section 12c. Construct a CDS object with 100 bps coupon and 2027-06-20 maturity. Compute the fair/par spread and PV.\n",
    "\n",
    "\n"
   ]
  }
 ],
 "metadata": {
  "hide_input": false,
  "kernelspec": {
   "display_name": "Python 3 (ipykernel)",
   "language": "python",
   "name": "python3"
  },
  "language_info": {
   "codemirror_mode": {
    "name": "ipython",
    "version": 3
   },
   "file_extension": ".py",
   "mimetype": "text/x-python",
   "name": "python",
   "nbconvert_exporter": "python",
   "pygments_lexer": "ipython3",
   "version": "3.8.2"
  }
 },
 "nbformat": 4,
 "nbformat_minor": 5
}
