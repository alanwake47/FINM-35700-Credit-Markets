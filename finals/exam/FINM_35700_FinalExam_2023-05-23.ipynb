{
 "cells": [
  {
   "attachments": {},
   "cell_type": "markdown",
   "id": "3e013a68",
   "metadata": {},
   "source": [
    "# FINM 35700 - Spring 2023\n",
    "\n",
    "## Final exam: May 23 2023 - from 6pm to 8:45pm\n",
    "\n",
    "### UChicago Financial Mathematics\n",
    "\n",
    "* Alex Popovici\n",
    "* alex.popovici@uchicago.edu"
   ]
  },
  {
   "attachments": {},
   "cell_type": "markdown",
   "id": "97d4c3b4",
   "metadata": {},
   "source": [
    "This homework relies on following symbology & data files, as of 2023-05-19.\n",
    "\n",
    "US government bonds:\n",
    "- the US government bonds symbology file `govt_symbology`, \n",
    "- the \"on-the-run\" treasuries data file `govt_on_the_run`,\n",
    "\n",
    "Corporate bonds:\n",
    "- the corporate  bonds symbology file (LQD constituents + AT&T bonds) `lqd_corp_symbology`\n",
    "- the LQD ETF basket composition file `lqd_basket_composition`\n",
    "- AT&T bond portfolio notionals: `att_bond_portoflio`\n",
    "\n",
    "Market data:\n",
    "- the cash bond market data file (US Treasuries + AT&T bonds) `market_prices_eod`,\n"
   ]
  },
  {
   "attachments": {},
   "cell_type": "markdown",
   "id": "da521790",
   "metadata": {},
   "source": [
    "## Scoring: Total of 125 points\n",
    "\n",
    "| Problem | Points |\n",
    "|---------|--------|\n",
    "| 1       | 20     |\n",
    "| 2       | 20     |\n",
    "| 3       | 30     |\n",
    "| 4       | 30     |\n",
    "| 5       | 25     |\n",
    "| Total   | 125    |"
   ]
  },
  {
   "attachments": {},
   "cell_type": "markdown",
   "id": "4bb9f50b",
   "metadata": {},
   "source": [
    "-----------------------------------------------------------------------------------------\n",
    "# Collection of useful calibration helper functions from previous homeworks"
   ]
  },
  {
   "cell_type": "code",
   "execution_count": 2,
   "id": "df4907b8",
   "metadata": {},
   "outputs": [],
   "source": [
    "import QuantLib as ql\n",
    "import numpy as np\n",
    "import pandas as pd\n",
    "import datetime as dt\n",
    "from scipy.optimize import minimize\n",
    "\n",
    "import matplotlib.pyplot as plt\n",
    "%matplotlib inline"
   ]
  },
  {
   "cell_type": "code",
   "execution_count": 5,
   "id": "1d7f4e9b",
   "metadata": {},
   "outputs": [],
   "source": [
    "# Enter the filepath to the data here.\n",
    "FILEPATH = '../data/'"
   ]
  },
  {
   "cell_type": "code",
   "execution_count": 2,
   "id": "a62af5bd",
   "metadata": {},
   "outputs": [],
   "source": [
    "def get_ql_date(date) -> ql.Date:\n",
    "    \"\"\"\n",
    "    convert dt.date to ql.Date\n",
    "    \"\"\"\n",
    "    if isinstance(date, dt.date):\n",
    "        return ql.Date(date.day, date.month, date.year)\n",
    "    elif isinstance(date, str):\n",
    "        date = dt.datetime.strptime(date, \"%Y-%m-%d\").date()\n",
    "        return ql.Date(date.day, date.month, date.year)\n",
    "    else:\n",
    "        raise ValueError(f\"to_qldate, {type(date)}, {date}\")\n",
    "\n",
    "\n",
    "def create_schedule_from_symbology(details: dict):\n",
    "    '''Create a QuantLib cashflow schedule from symbology details dictionary (usually one row of the symbology dataframe)\n",
    "    '''\n",
    "    # Create maturity from details['maturity']\n",
    "    maturity = get_ql_date(details['maturity'])\n",
    "    \n",
    "    # Create acc_first from details['acc_first']\n",
    "    acc_first = get_ql_date(details['acc_first'])\n",
    "    \n",
    "    # Create calendar for Corp and Govt asset classes\n",
    "    calendar = ql.UnitedStates(ql.UnitedStates.GovernmentBond)\n",
    "    \n",
    "    # define period from details['cpn_freq'] ... can be hard-coded to 2 = semi-annual frequency\n",
    "    period = ql.Period(2)\n",
    "    \n",
    "    # business_day_convention\n",
    "    business_day_convention = ql.Unadjusted\n",
    "    \n",
    "    # termination_date_convention\n",
    "    termination_date_convention = ql.Unadjusted\n",
    "    \n",
    "    # date_generation\n",
    "    date_generation=ql.DateGeneration.Backward\n",
    "    \n",
    "    # Create schedule using ql.MakeSchedule interface (with keyword arguments)\n",
    "    schedule = ql.MakeSchedule(effectiveDate=acc_first,  # this may not be the same as the bond's start date\n",
    "                            terminationDate=maturity,\n",
    "                            tenor=period,\n",
    "                            calendar=calendar,\n",
    "                            convention=business_day_convention,\n",
    "                            terminalDateConvention=termination_date_convention,\n",
    "                            rule=date_generation,\n",
    "                            endOfMonth=True,\n",
    "                            firstDate=ql.Date(),\n",
    "                            nextToLastDate=ql.Date())\n",
    "    return schedule\n",
    "\n",
    "\n",
    "def create_bond_from_symbology(details: dict):\n",
    "    '''Create a US fixed rate bond object from symbology details dictionary (usually one row of the symbology dataframe)\n",
    "    '''\n",
    "    \n",
    "     # Create day_count from details['dcc']\n",
    "     # For US Treasuries use ql.ActualActual(ql.ActualActual.ISMA)\n",
    "     # For US Corporates use ql.Thirty360(ql.Thirty360.USA)\n",
    "    if details['dcc'] == '30/360':\n",
    "        day_count = ql.Thirty360(ql.Thirty360.USA)\n",
    "    elif details['dcc'] == 'ACT/ACT':\n",
    "        day_count = ql.ActualActual(ql.ActualActual.ISMA)\n",
    "    else:\n",
    "        raise ValueError(f\"unsupported day count, {type(details['dcc'])}, {details['dcc']}\")\n",
    "    \n",
    "    # Create day_count from details['start_date']    \n",
    "    issue_date = get_ql_date(details['start_date'])\n",
    "    \n",
    "    # Create days_settle from details['days_settle']\n",
    "    days_settle = int(float(details['days_settle']))\n",
    "\n",
    "    # Create days_settle from details['coupon']\n",
    "    coupon = float(details['coupon'])/100.\n",
    "\n",
    "    # Create cashflow schedule\n",
    "    schedule = create_schedule_from_symbology(details)\n",
    "    \n",
    "    face_value = 100\n",
    "    redemption = 100\n",
    "    \n",
    "    payment_convention = ql.Unadjusted\n",
    "        \n",
    "    # Create fixed rate bond object\n",
    "    fixed_rate_bond = ql.FixedRateBond(\n",
    "        days_settle,\n",
    "        face_value,\n",
    "        schedule,\n",
    "        [coupon],\n",
    "        day_count,\n",
    "        payment_convention,\n",
    "        redemption,\n",
    "        issue_date)        \n",
    "\n",
    "    return fixed_rate_bond\n",
    "\n",
    "\n",
    "def get_bond_cashflows(bond: ql.FixedRateBond, calc_date=ql.Date):\n",
    "    '''Returns all future cashflows as of calc_date, i.e. with payment dates > calc_date.\n",
    "    '''    \n",
    "    day_counter = bond.dayCounter()    \n",
    "    \n",
    "    x = [(cf.date(), day_counter.yearFraction(calc_date, cf.date()), cf.amount()) for cf in bond.cashflows()]\n",
    "    cf_date, cf_yearFrac, cf_amount = zip(*x)\n",
    "    cashflows_df = pd.DataFrame(data={'CashFlowDate': cf_date, 'CashFlowYearFrac': cf_yearFrac, 'CashFlowAmount': cf_amount})\n",
    "\n",
    "    # filter for payment dates > calc_date\n",
    "    cashflows_df = cashflows_df[cashflows_df.CashFlowYearFrac > 0]\n",
    "    return cashflows_df\n",
    "\n",
    "\n",
    "def calibrate_yield_curve_from_frame(\n",
    "        calc_date: ql.Date,\n",
    "        treasury_details: pd.DataFrame,\n",
    "        price_quote_column: str):\n",
    "    '''Create a calibrated yield curve from a details dataframe which includes bid/ask/mid price quotes.\n",
    "    '''\n",
    "    ql.Settings.instance().evaluationDate = calc_date\n",
    "\n",
    "    # Sort dataframe by maturity\n",
    "    sorted_details_frame = treasury_details.sort_values(by='maturity')    \n",
    "    \n",
    "    # For US Treasuries use ql.ActualActual(ql.ActualActual.ISMA)\n",
    "    day_count = ql.ActualActual(ql.ActualActual.ISMA)\n",
    "\n",
    "    bond_helpers = []\n",
    "    \n",
    "    for index, row in sorted_details_frame.iterrows():\n",
    "        bond_object = create_bond_from_symbology(row)\n",
    "        \n",
    "        tsy_clean_price_quote = row[price_quote_column]\n",
    "        tsy_clean_price_handle = ql.QuoteHandle(ql.SimpleQuote(tsy_clean_price_quote))\n",
    "        \n",
    "        bond_helper = ql.BondHelper(tsy_clean_price_handle, bond_object)\n",
    "        bond_helpers.append(bond_helper)\n",
    "        \n",
    "    yield_curve = ql.PiecewiseLogCubicDiscount(calc_date, bond_helpers, day_count)\n",
    "    yield_curve.enableExtrapolation()\n",
    "    return yield_curve\n",
    "\n",
    "def nelson_siegel(params, maturity):\n",
    "    ''' params = (theta1, theta2, theta3, lambda)'''        \n",
    "    if(maturity == 0 or params[3] <= 0):\n",
    "        slope_1 = 1\n",
    "        curvature = 0\n",
    "    else:\n",
    "        slope_1 = (1 - np.exp(-maturity/params[3]))/(maturity/params[3])\n",
    "        curvature = slope_1 - np.exp(-maturity/params[3])\n",
    "\n",
    "    total_value = params[0] + params[1] * slope_1 + params[2] * curvature\n",
    "    \n",
    "    return total_value\n",
    "\n",
    "def create_nelson_siegel_curve(calc_date, nelson_siegel_params):\n",
    "    ''' nelson_siegel_params = (theta1, theta2, theta3, lambda)'''            \n",
    "    nelson_siegel_surv_prob_dates = [calc_date + ql.Period(T , ql.Years) for T in range(31)]\n",
    "    nelson_siegel_average_hazard_rates = [nelson_siegel(nelson_siegel_params, T) for T in range(31)]\n",
    "    nelson_siegel_surv_prob_levels = [np.exp(-T * nelson_siegel_average_hazard_rates[T]) for T in range(31)]\n",
    "    \n",
    "    # cap and floor survival probs\n",
    "    nelson_siegel_surv_prob_levels = [max(min(x,1),1e-8) for x in nelson_siegel_surv_prob_levels]\n",
    "\n",
    "    # nelson_siegel_surv_prob_curve\n",
    "    nelson_siegel_credit_curve = ql.SurvivalProbabilityCurve(nelson_siegel_surv_prob_dates, nelson_siegel_surv_prob_levels, ql.Actual360(), ql.TARGET())\n",
    "    nelson_siegel_credit_curve.enableExtrapolation()\n",
    "    nelson_siegel_credit_curve_handle = ql.DefaultProbabilityTermStructureHandle(nelson_siegel_credit_curve)\n",
    "    \n",
    "    return(nelson_siegel_credit_curve_handle)\n",
    "\n",
    "\n",
    "def calculate_nelson_siegel_model_prices_and_yields(nelson_siegel_params, \n",
    "                      calc_date, \n",
    "                      fixed_rate_bond_objects, \n",
    "                      tsy_yield_curve_handle, \n",
    "                      bond_recovery_rate = 0.4):\n",
    "    \n",
    "    # nelson_siegel_surv_prob_curve_handle\n",
    "    nelson_siegel_surv_prob_curve_handle = create_nelson_siegel_curve(calc_date, nelson_siegel_params)\n",
    "    \n",
    "    # nelson_siegel_risky_bond_engine\n",
    "    nelson_siegel_risky_bond_engine = ql.RiskyBondEngine(nelson_siegel_surv_prob_curve_handle, bond_recovery_rate, tsy_yield_curve_handle)\n",
    "    \n",
    "    bond_model_prices = []\n",
    "    bond_model_yields = []\n",
    "    \n",
    "    for fixed_rate_bond in fixed_rate_bond_objects:\n",
    "        fixed_rate_bond.setPricingEngine(nelson_siegel_risky_bond_engine)\n",
    "        \n",
    "        bond_price = fixed_rate_bond.cleanPrice()                \n",
    "        bond_yield = fixed_rate_bond.bondYield(bond_price, fixed_rate_bond.dayCounter(), ql.Compounded, ql.Semiannual) * 100\n",
    "        \n",
    "        bond_model_prices.append(bond_price)\n",
    "        bond_model_yields.append(bond_yield)\n",
    "    \n",
    "    return(bond_model_prices, bond_model_yields)\n",
    "\n",
    "def nelson_siegel_sse(nelson_siegel_params, \n",
    "                      calc_date, \n",
    "                      fixed_rate_bond_objects, \n",
    "                      market_prices, \n",
    "                      calib_weights,\n",
    "                      tsy_yield_curve_handle, \n",
    "                      bond_recovery_rate = 0.4):\n",
    "    \n",
    "    # bond_model_prices\n",
    "    bond_model_prices, bond_model_yields = calculate_nelson_siegel_model_prices_and_yields(nelson_siegel_params, \n",
    "                      calc_date, \n",
    "                      fixed_rate_bond_objects, \n",
    "                      tsy_yield_curve_handle, \n",
    "                      bond_recovery_rate)\n",
    "    # sse    \n",
    "    sse = 0\n",
    "    \n",
    "    for i in range(len(market_prices)):\n",
    "        model_error = market_prices[i] - bond_model_prices[i]                \n",
    "        sse += abs(model_error) * calib_weights[i]                        \n",
    "    \n",
    "    return(sse)    \n",
    "\n",
    "\n",
    "def create_bonds_and_weights(bond_details, tsy_yield_curve_handle):\n",
    "    \n",
    "    # risk_free_bond_engine\n",
    "    risk_free_bond_engine = ql.DiscountingBondEngine(tsy_yield_curve_handle)\n",
    "\n",
    "\n",
    "    fixed_rate_bond_objects = []\n",
    "    bond_market_prices = []    \n",
    "    bond_yields = []\n",
    "    bond_DV01s = []    \n",
    "    bond_durations = []    \n",
    "    \n",
    "    for index,row in bond_details.iterrows():\n",
    "        fixed_rate_bond = create_bond_from_symbology(row)\n",
    "        fixed_rate_bond.setPricingEngine(risk_free_bond_engine)\n",
    "        \n",
    "        fixed_rate_bond_objects.append(fixed_rate_bond)\n",
    "        \n",
    "        bond_price = row['market_price']                \n",
    "        bond_yield = fixed_rate_bond.bondYield(bond_price, fixed_rate_bond.dayCounter(), ql.Compounded, ql.Semiannual) * 100\n",
    "        bond_yield_rate = ql.InterestRate(bond_yield/100, fixed_rate_bond.dayCounter(), ql.Compounded, ql.Semiannual)\n",
    "        bond_duration = ql.BondFunctions.duration(fixed_rate_bond, bond_yield_rate)\n",
    "        bond_DV01   = fixed_rate_bond.dirtyPrice() * bond_duration\n",
    "        \n",
    "        bond_market_prices.append(bond_price)\n",
    "        bond_yields.append(bond_yield)\n",
    "        bond_DV01s.append(bond_DV01)\n",
    "        bond_durations.append(bond_duration)   \n",
    "        \n",
    "    # calib_weights: down-weight durations < 2 years, since the calibrated US treasury does not have quotes before 2Y\n",
    "    calib_weights = [1 / max(d, 2) for d in bond_durations]\n",
    "    sum_calib_weights = sum(calib_weights)\n",
    "    calib_weights = [x / sum_calib_weights for x in calib_weights]\n",
    "    \n",
    "    return(fixed_rate_bond_objects, calib_weights, bond_market_prices, bond_yields, bond_DV01s, bond_durations)\n",
    "\n",
    "def calibrate_nelson_siegel_model(initial_nelson_siegel_params,\n",
    "                                  calc_date, \n",
    "                                  bond_details, \n",
    "                                  tsy_yield_curve_handle, \n",
    "                                  bond_recovery_rate = 0.4):\n",
    "    # create_bonds_and_weights\n",
    "    fixed_rate_bond_objects, calib_weights, bond_market_prices, bond_yields, bond_DV01s, bond_durations = create_bonds_and_weights(bond_details, tsy_yield_curve_handle)\n",
    "    \n",
    "    # start calibration\n",
    "    param_bounds = [(1e-3, 0.1), (-0.1, 0.1), (-0.1, 0.1), (1e-3, 10)]\n",
    "            \n",
    "    calib_results = minimize(nelson_siegel_sse,\n",
    "                                            initial_nelson_siegel_params, \n",
    "                                            args = (calc_date, \n",
    "                                                    fixed_rate_bond_objects, \n",
    "                                                    bond_market_prices, \n",
    "                                                    calib_weights,\n",
    "                                                    tsy_yield_curve_handle, \n",
    "                                                    bond_recovery_rate),\n",
    "                                            bounds = param_bounds)\n",
    "\n",
    "\n",
    "    return(calib_results)\n",
    "\n"
   ]
  },
  {
   "attachments": {},
   "cell_type": "markdown",
   "id": "27e68a4e",
   "metadata": {},
   "source": [
    "------------------------------------------------------------------------------------------\n",
    "# Problem 1: Overall understanding of credit market models (20 points)\n",
    "## When answering the individual questions, you should assume 'ceteris paribus' - all else being equal."
   ]
  },
  {
   "attachments": {},
   "cell_type": "markdown",
   "id": "e07bfd7c",
   "metadata": {},
   "source": [
    "## a. Fixed rate bond prices in the hazard rate model: True or False (5 points)\n",
    "\n",
    "### - Use flat hazard rate model formula [54] in Lecture 4 to confirm your intuition - \n",
    "\n",
    "1. Fixed rate bond price is increasing in interest rate\n",
    "1. Fixed rate bond price is increasing in hazard rate\n",
    "1. Fixed rate bond price is increasing in expected recovery rate\n",
    "2. Fixed rate bond price is increasing in coupon\n",
    "3. Fixed rate bond price is increasing in bond maturity"
   ]
  },
  {
   "attachments": {},
   "cell_type": "markdown",
   "id": "f35a4c28",
   "metadata": {},
   "source": [
    "## b. Fixed rate bond yields in the hazard rate model: True or False (5 points)\n",
    "\n",
    "1. Fixed rate bond yield is increasing in interest rate\n",
    "1. Fixed rate bond yield is increasing in hazard rate\n",
    "1. Fixed rate bond yield is increasing in expected recovery rate\n",
    "2. Fixed rate bond yield is increasing in coupon\n",
    "3. Fixed rate bond yield is increasing in bond maturity"
   ]
  },
  {
   "attachments": {},
   "cell_type": "markdown",
   "id": "bcd04674",
   "metadata": {},
   "source": [
    "## c. Equity and equity volatility in the Merton Structural Credit Model: True or False (5 points)\n",
    "\n",
    "### - Think about the equity value as a \"call option on assets with liabilities as strike and use formulas [19] and [22] from Lecture 4\" -\n",
    "\n",
    "1. Equity value is increasing with company assets\n",
    "2. Equity volatility is increasing with company assets\n",
    "3. Equity value is increasing with assets volatility\n",
    "4. Equity value is increasing with company liabiliites\n",
    "5. Equity volatility is increasing with company liabiliites"
   ]
  },
  {
   "attachments": {},
   "cell_type": "markdown",
   "id": "1aad3a32",
   "metadata": {},
   "source": [
    "## d. Yield and expected recovery rate in the Merton Structural Credit Model: True or False (5 points)\n",
    "\n",
    "1. Yield is increasing with company liabilities\n",
    "2. Expected recovery rate is increasing with company liabilities\n",
    "3. Yield is increasing with assets volatility\n",
    "4. Credit spread is increasing with asset values\n",
    "5. Credit spread is increasing with assets volatility\n"
   ]
  },
  {
   "attachments": {},
   "cell_type": "markdown",
   "id": "a898eeee",
   "metadata": {},
   "source": [
    "-----------------------------------------------------------\n",
    "# Problem 2: Scenario analysis for a fixed rate corporate bond (yield model) (20 points)\n",
    "## Use the QuantLib Introductory notebook (or any of the homeworks) as a template."
   ]
  },
  {
   "attachments": {},
   "cell_type": "markdown",
   "id": "fca47f8c",
   "metadata": {},
   "source": [
    "## a. Create generic fixed-rate corporate bond (5 points)\n",
    "Fixed the calculation date of May 19 2023 (last Friday) and use a coupon of 5% and a maturity of 10 years (May 19 2039).\n",
    "\n",
    "Display the fixed rate bond cashflows."
   ]
  },
  {
   "cell_type": "code",
   "execution_count": 3,
   "id": "109edc65",
   "metadata": {},
   "outputs": [],
   "source": [
    "# Use static calculation/valuation date of 2023-05-19, matching data available in the market prices EOD file\n",
    "calc_date = ql.Date(19, 5, 2023)\n",
    "ql.Settings.instance().evaluationDate = calc_date\n",
    "\n",
    "# used to identify calc date in market data frames\n",
    "calc_date_str = '2023-05-19'"
   ]
  },
  {
   "cell_type": "code",
   "execution_count": 4,
   "id": "79300533",
   "metadata": {},
   "outputs": [],
   "source": [
    "# Use the bond_details template below to quickly define the bond specs\n",
    "test_bond_details = {'start_date': 'YYYY-MM-DD', \n",
    "                'acc_first': 'YYYY-MM-DD', \n",
    "                'maturity': 'YYYY-MM-DD', \n",
    "                'coupon': 3.55,\n",
    "                'dcc' : '30/360',\n",
    "                'days_settle' : 2}\n",
    "\n",
    "# Use create_bond_from_symbology() to create the bond"
   ]
  },
  {
   "attachments": {},
   "cell_type": "markdown",
   "id": "8070b78e",
   "metadata": {},
   "source": [
    "## b. Compute the bond price, DV01, duration and convexity (analytic method). (5 points)\n",
    "\n",
    "The market yield of the bond is 6%. Compute the bond price, DV01, duration and convexity, using the analytic method."
   ]
  },
  {
   "attachments": {},
   "cell_type": "markdown",
   "id": "09780fff",
   "metadata": {},
   "source": [
    "## c. Scenario bond prices: \"analytic re-pricing\" vs \"second-order approximations\" (5 points)\n",
    "\n",
    "Compute the scenario bond prices on the following scenario yield grid: [from 2% to 10% in steps of 0.5%]\n",
    "\n",
    "Compute the second-order scenario price approximations using duration and convexity sensitivities.\n",
    "\n",
    "Plot the scenario prices (Y-axis) vs yieds (X-axis), for both the \"analytic re-pricing\" and \"second-order approximations\" method."
   ]
  },
  {
   "attachments": {},
   "cell_type": "markdown",
   "id": "e31e3956",
   "metadata": {},
   "source": [
    "## d. Extreme events scenarios (5 points)\n",
    "\n",
    "Compute and show the scenario bond price for a bond yield of 15% (extreme event scenario).\n",
    "\n",
    "Compute and show the second-order scenario price approximation in the extreme event scenario.\n",
    "\n",
    "How accurate is the second-order scenario price approximations (using duration and convexity sensitivities)?\n",
    "\n",
    "Compute and show the analytic DV01, duration and convexity in the extreme event scenario."
   ]
  },
  {
   "attachments": {},
   "cell_type": "markdown",
   "id": "9779afb8",
   "metadata": {},
   "source": [
    "-----------------------------------------------------------\n",
    "# Problem 3: LQD basket analysis - pricing and bucketed interest rate hedging (30 points)\n",
    "\n",
    "## Use the solution from Homework 5 Problem 5 as a template."
   ]
  },
  {
   "attachments": {},
   "cell_type": "markdown",
   "id": "4ce81c5c",
   "metadata": {},
   "source": [
    "## a. Load and explore the LQD basket composition and market data (5 points)\n",
    "\n",
    "Load the `lqd_basket_composition` Excel file into a dataframe. It contains the LQD basket constituent face notionals, weights and yields-to-maturities as of 2023-05-19.\n",
    "\n",
    "The `corp_symbology` dataframe contains the corporate bond details for LQD constituents (as well as other bonds needed for Problem 4). \n",
    "\n",
    "Merge the two dataframes (inner join) into a combined LQD dataframe.\n",
    "\n",
    "How many corporate bonds are in the LQD basket?  What are the average and median face notionals for a bond?\n",
    "\n",
    "How many unique tickers are in the LQD basket? What are the average and median face notionals by ticker?\n",
    "\n",
    "Compute mean, median and standard deviation of yields-to-maturity of bonds in the basket.\n"
   ]
  },
  {
   "attachments": {},
   "cell_type": "markdown",
   "id": "069387e5",
   "metadata": {},
   "source": [
    "## b. Compute the NAV of the LQD basket on $100 face notional. (5 points)\n",
    "\n",
    "Create the bond objects for all constituents of LQD. Compute the dirty price for each bond (from yield-to-maturity in the `lqd_basket_composition` dataframe).\n",
    "\n",
    "Aggregate the ETF NAV value (intrisic value of bond basket) as the weighted sum of dirty prices times basket weights. Keep in mind that the resulting ETF NAV will be on a face of $100, since the basket face notional weights add up to 100 percent."
   ]
  },
  {
   "attachments": {},
   "cell_type": "markdown",
   "id": "b59ffe83",
   "metadata": {},
   "source": [
    "## c. Compute the intrinsic price of one LQD ETF share. (5 points)\n",
    "\n",
    "Compute the intrinisc market capitalization of the LQD ETF by scaling the ETF NAV price to the ETF total face notional. \n",
    "\n",
    "Divide by 328,600,000 (the number of LQD shared outstanding as of 2023-05-19) to obtain the intrinsic price of one LQD ETF share."
   ]
  },
  {
   "attachments": {},
   "cell_type": "markdown",
   "id": "703ad037",
   "metadata": {},
   "source": [
    "## d. Compute the scenario DV01s of the Benchmark US Treasuries (5 points)\n",
    "\n",
    "Use the `und_bench_tsy_isin` column in the bond symbology dataframe to find the Benchmark US Treasuries used for bucketed hedging in the LQD portfolio (there should be 7 of them). \n",
    "\n",
    "Compute the scenario DV01 for each Benchmark US Treasury (bump the yield by -1 bp and re-price the bond).\n"
   ]
  },
  {
   "attachments": {},
   "cell_type": "markdown",
   "id": "a87c1aec",
   "metadata": {},
   "source": [
    "## e. Compute the bucketed interest rate DV01s and hedging notionals in terms of benchmark treasuries. (5 points)\n",
    "\n",
    "For each bond:\n",
    "1. Compute the DV01, using either the analytic or scenario method. \n",
    "2. Identify the Benchmark US Treasury (via the `security` column) which will be used to hedge the interest rate exposure of the corporate bond.\n",
    "3. Compute the hedge notional in the Benchmark US Treasury, using the ratio of corporate bond DV01 over Benchmark Treasury DV01.\n",
    "\n",
    "Extend the LQD combined dataframe with the following columns:\n",
    "\n",
    "\n",
    "| dv01 |  und_bench_tsy_security | und_bench_tsy_dv01 | und_bench_tsy_hedge_notional |\n",
    "|----------|-------------|-------|-------------|\n",
    "\n",
    "where\n",
    "\n",
    "- dv01 = corporate bond DV01\n",
    "- und_bench_tsy_security = Underlying Benchmark US Treasury `security` name\n",
    "- und_bench_tsy_dv01 = Underlying Benchmark US Treasury DV01\n",
    "- und_bench_tsy_hedge_notional = dv01 / und_bench_tsy_dv01\n"
   ]
  },
  {
   "attachments": {},
   "cell_type": "markdown",
   "id": "457b8098",
   "metadata": {},
   "source": [
    "## f. Compute the bucketed interest rate DV01 and hedging notionals for the LQD ETF basket. (5 points)\n",
    "\n",
    "Compute interest rate DV01 exposure of the LQD ETF NAV (on a face of $100) to the 7 benchmark treasury buckets.\n",
    "\n",
    "Compute interest rate hedging notionals of the LQD ETF NAV (on a face of $100) to the 7 benchmark treasury buckets.\n",
    "\n",
    "What treasury notionals (in the 7 Benchmark US Treasuries) are needed for a bucketed interest rate hedge of 100,000 shares of LQD? Display the results.\n"
   ]
  },
  {
   "attachments": {},
   "cell_type": "markdown",
   "id": "2dac64a2",
   "metadata": {},
   "source": [
    "--------------------------------------------------------------------------------------\n",
    "# Problem 4: Portfolio risk analysis in the Nelson-Siegel model (30 points)\n",
    "\n",
    "## Use the solution code from Homework 4 Problem 3 as a template !"
   ]
  },
  {
   "attachments": {},
   "cell_type": "markdown",
   "id": "b74a4cd1",
   "metadata": {},
   "source": [
    "## a. Prepare the symbology + market data (5 points)\n",
    "Load and merge the symbology + market data dataframes for all AT&T fixed rate corporate bonds (ticker = 'T') as of 2023-05-19. \n",
    "\n",
    "Calibrate the \"on-the-run\" US Treasury curve as of 2023-05-19 (using code from previous homeworks)."
   ]
  },
  {
   "attachments": {},
   "cell_type": "markdown",
   "id": "1eb13b3a",
   "metadata": {},
   "source": [
    "## b. Calibrate the Nelson-Siegel smooth AT&T credit curve in hazard rate space (5 points)\n",
    "\n",
    "Minimize the SSE (pricing error) function to obtain the optimal/calibrated Nelson-Siegel parameter vector. \n",
    "\n",
    "Create the calibrated/smooth credit curve corresponding to the optimal model parameters.\n"
   ]
  },
  {
   "attachments": {},
   "cell_type": "markdown",
   "id": "faad3c9e",
   "metadata": {},
   "source": [
    "## c. Compute Nelson-Siegel model prices, yield and edges for individual bonds. (5 points)\n",
    "\n",
    "Price all AT&T bonds on the calibrated credit curve and compute the model prices and yields.\n",
    "\n",
    "Plot the model vs market yields (Y-axis) by time to maturity (X-axis).\n",
    "\n",
    "Plot the edges in yield space (Y-axis) by time to maturity (X-axis)."
   ]
  },
  {
   "attachments": {},
   "cell_type": "markdown",
   "id": "dd0e3c8e",
   "metadata": {},
   "source": [
    "## d. Load the AT&T bond portfolio and compute the aggregated model edge in the portfolio (5 points)\n",
    "\n",
    "Load the bond portfolio positions file `bond_portoflio_att`, which contains long and short positions in AT&T bonds. \n",
    "\n",
    "Comput the total/aggregated \"model edge\" in the portfolio."
   ]
  },
  {
   "attachments": {},
   "cell_type": "markdown",
   "id": "89147217",
   "metadata": {},
   "source": [
    "## e. Compute sensitivities to the Nelson-Siegel \"credit curve shape\" model parameters (5 points)\n",
    "\n",
    "Create the following Nelson-Siegel scenario credit curves:\n",
    "1. Parallel shift (credit level change) scenario in hazard rate curve: bump $\\theta_1$ model parameter by 1bp\n",
    "1. Steepener (credit slope change) scenario in hazard rate curve: bump $\\theta_2$ model parameter by 1bp\n",
    "1. Curvature (credit convexity change) scenario in hazard rate curve: bump $\\theta_3$ model parameter by 1bp\n",
    "\n",
    "For each bond, compute the model prices and corresponding factor sensitivites in the three scenarios:\n",
    "* Credit_Level_01 = $\\frac{\\partial B}{\\partial \\theta_1}$, \n",
    "* Credit_Slope_01  = $\\frac{\\partial B}{\\partial \\theta_2}$ and \n",
    "* Credit_Convexity_01  = $\\frac{\\partial B}{\\partial \\theta_3}$.\n",
    "\n",
    "Display the sensitivities for the first 5 bonds in the AT&T dataframe."
   ]
  },
  {
   "attachments": {},
   "cell_type": "markdown",
   "id": "416f65a5",
   "metadata": {},
   "source": [
    "## f. Compute portfolio factor sensitivities (5 points)\n",
    "\n",
    "Compute the model parameter sensitivities (factor exposures) of the `bond_portoflio_att` portfolio:\n",
    "* Portfolio Credit_Level_01 = change in portfolio value for a 1bp change in $\\theta_1$ model parameter.\n",
    "* Portfolio Credit_Slope_01 = change in portfolio value for a 1bp change in $\\theta_2$ model parameter.\n",
    "* Portfolio Credit_Convexity_01 = change in portfolio value for a 1bp change in $\\theta_3$ model parameter."
   ]
  },
  {
   "attachments": {},
   "cell_type": "markdown",
   "id": "d3f2d550",
   "metadata": {},
   "source": [
    "------------------------------------------------------------------\n",
    "# Problem 5: Derivation of prices and factor sensitivities (25 points)\n",
    "\n",
    "Starting from the fair value formulas for risky fixed rate bonds, derive the formulas for factor sensitivities.\n",
    "\n",
    "Assume flat model parameters, T+0 settlement and zero accrued. Use the 'sympy' library (for symbolic mathematics) for help with the derivation of the formulas, as described in the the solution to Homework 3, Problem 2.\n",
    "\n",
    "For results visualization via 3D surface plots, you can use the matplotlib plot_surface() function or similar."
   ]
  },
  {
   "attachments": {},
   "cell_type": "markdown",
   "id": "45381888",
   "metadata": {},
   "source": [
    "### Part 1. Flat Yield Model \n",
    "### Parameters:\n",
    "* maturity T (in years),\n",
    "* semi-annual coupon c,\n",
    "* flat bond yield y\n",
    "\n",
    "According to formula (4) in Session 1, the bond present value is given by:\n",
    "\n",
    "\\begin{align}\n",
    "RickyBondPV=B(0,T,c,y)\n",
    "\\end{align}\n",
    "\n",
    "\\begin{align}\n",
    "=\\sum_{k=1}^{2T}\\frac{c}{2}\\cdot e^{-k\\cdot\\frac{y}{2}}+e^{-T\\cdot y}\n",
    "\\end{align}\n",
    "\n",
    "\\begin{align}\n",
    "= 1+\\left(\\frac{c}{2 \\cdot \\left( e^{\\frac{y}{2}}-1 \\right) } -1 \\right) \\cdot \\left(1-e^{-T\\cdot y}\\right)\n",
    "\\end{align}\n"
   ]
  },
  {
   "attachments": {},
   "cell_type": "markdown",
   "id": "58e945ed",
   "metadata": {},
   "source": [
    "The code below implements the present value function for a fixed rate bond.\n",
    "\n",
    "It uses the 'sympy' library (symbolic mathematics) to translate mathematical formulas into function, as described in the solution to Homework 3, Problem 2.\n",
    "\n",
    "For plotting, we fix the bond coupon c at 5% and use the following discretization grids:\n",
    "* in yield space: [y from 0% to 10% in steps of 0.5%] and \n",
    "* in time-to-maturity space: [T from 1Y to 20Y in steps of 1Y].\n"
   ]
  },
  {
   "cell_type": "code",
   "execution_count": 6,
   "id": "ebb193a2",
   "metadata": {},
   "outputs": [
    {
     "name": "stdout",
     "output_type": "stream",
     "text": [
      "Analytic formula for bond_pv: (1 - exp(-T*y))*(c/(2*(exp(y/2) - 1)) - 1) + 1\n"
     ]
    },
    {
     "data": {
      "text/latex": [
       "$\\displaystyle \\left(1 - e^{- T y}\\right) \\left(\\frac{c}{2 \\left(e^{\\frac{y}{2}} - 1\\right)} - 1\\right) + 1$"
      ],
      "text/plain": [
       "(1 - exp(-T*y))*(c/(2*(exp(y/2) - 1)) - 1) + 1"
      ]
     },
     "metadata": {},
     "output_type": "display_data"
    },
    {
     "name": "stdout",
     "output_type": "stream",
     "text": [
      "Sample bond_pv (for coupon = 5%, T = 10 and y = 7%): 84.99\n"
     ]
    }
   ],
   "source": [
    "# import libraries\n",
    "import sympy as sp\n",
    "\n",
    "from matplotlib import cm\n",
    "import matplotlib.pyplot as plt\n",
    "%matplotlib inline\n",
    "\n",
    "# define symbolic variables\n",
    "T = sp.symbols('T')\n",
    "c = sp.symbols('c')\n",
    "y = sp.symbols('y')\n",
    "\n",
    "# define symbolic equation for bond pv\n",
    "bond_pv_eq =  1 + (c/2  / (sp.exp(y/2) - 1) - 1 )* (1 - sp.exp(-T*y))\n",
    "print('Analytic formula for bond_pv:', bond_pv_eq)\n",
    "display(bond_pv_eq)\n",
    "\n",
    "# create function from equation\n",
    "bond_pv_func = sp.lambdify([c,T,y], bond_pv_eq)\n",
    "\n",
    "# sample_bond_pv (for c = 5%, T = 10 and y = 7%)\n",
    "sample_bond_pv = round(bond_pv_func(0.05, 10, 0.07) * 100, 2)\n",
    "print('Sample bond_pv (for coupon = 5%, T = 10 and y = 7%):', sample_bond_pv)"
   ]
  },
  {
   "cell_type": "code",
   "execution_count": 7,
   "id": "7ee16554",
   "metadata": {},
   "outputs": [
    {
     "data": {
      "text/plain": [
       "Text(0.5, 0, 'Bond Price')"
      ]
     },
     "execution_count": 7,
     "metadata": {},
     "output_type": "execute_result"
    },
    {
     "data": {
      "image/png": "[encoded data removed]",
      "text/plain": [
       "<Figure size 1600x900 with 2 Axes>"
      ]
     },
     "metadata": {},
     "output_type": "display_data"
    }
   ],
   "source": [
    "import numpy as np\n",
    "\n",
    "coupon = 0.05\n",
    "\n",
    "y_grid = np.arange(0.01, 0.105, 0.005)\n",
    "T_grid = np.arange(1, 21, 1)\n",
    "\n",
    "X, Y = np.meshgrid(y_grid, T_grid)\n",
    "Z = X.copy()\n",
    "\n",
    "# Plot the fixed-coupon bond price surface by y and T.\n",
    "for i in range(len(T_grid)):\n",
    "    for j in range(len(y_grid)):\n",
    "        Z[i,j] = bond_pv_func(coupon, Y[i,j], X[i,j]) * 100\n",
    "\n",
    "# Creating figure\n",
    "fig = plt.figure(figsize =(16, 9))\n",
    "ax = plt.axes(projection ='3d')\n",
    "\n",
    "# Creating plot\n",
    "surf = ax.plot_surface(X, Y, Z, cmap=cm.coolwarm, linewidth=0, antialiased=False)\n",
    " \n",
    "# Add a color bar which maps values to colors.\n",
    "fig.colorbar(surf, shrink=0.5, aspect=5)\n",
    "\n",
    "plt.title('Fixed-rate bond PVs')\n",
    "\n",
    "ax.set_xlabel('Bond Yield')\n",
    "ax.set_ylabel('Time to Maturity')\n",
    "ax.set_zlabel('Bond Price')"
   ]
  },
  {
   "attachments": {},
   "cell_type": "markdown",
   "id": "3ea18d24",
   "metadata": {},
   "source": [
    "## a. Derive and implement the analytic formula for bond duration. (5 points)\n",
    "\n",
    "Use the sympy \"diff()\" function to compute firt order derivatives, as explained in the solution to Homework 3, Problem 2c.\n",
    "\n",
    "Plot the bond duration surface by t and T."
   ]
  },
  {
   "attachments": {},
   "cell_type": "markdown",
   "id": "285c6621",
   "metadata": {},
   "source": [
    "## b. Derive and implement the analytic formula for bond convexity.  (5 points)\n",
    "\n",
    "Plot the bond convexity surface by t and T."
   ]
  },
  {
   "attachments": {},
   "cell_type": "markdown",
   "id": "3a196ee3",
   "metadata": {},
   "source": [
    "## Part 2: Flat Hazard Rate Model\n",
    "## Parameters:\n",
    "* maturity T (in years),\n",
    "* semi-annual coupon c,\n",
    "* flat interest rate r\n",
    "* flat hazard rate h\n",
    "* expected recovery rate R\n",
    "\n",
    "According to formula (42) in Session 3, the risky bond present value is given by:\n",
    "\n",
    "\\begin{align}\n",
    "RiskyBondPV=B(0,T,c,r,h,R)\n",
    "\\end{align}\n",
    "\n",
    "\\begin{align}\n",
    "=\\sum_{k=1}^{2T}\\frac{c}{2}\\cdot e^{-k\\cdot\\left(r+h\\right)/2}+R \\cdot \\int_{t}^{T} h \\cdot e^{- \\left( t - s \\right) \\cdot \\left(r+h\\right)} \\cdot ds\n",
    "\\end{align}\n",
    "\n",
    "\n",
    "\\begin{align}\n",
    "= 1+\\left[ \\frac{c}{2 \\cdot \\left( e^{\\frac{r+h}{2}}-1 \\right) } -1 +\\frac{R\\cdot h}{r+h}\\right] \\cdot \\left(1-e^{-T\\cdot \\left( r+h \\right)}\\right)\n",
    "\\end{align}\n"
   ]
  },
  {
   "attachments": {},
   "cell_type": "markdown",
   "id": "ca3b8714",
   "metadata": {},
   "source": [
    "For results visualization, fix the bond coupon c at 5%, maturity T at 10 years and interest rates r at 4%. \n",
    "\n",
    "Use discretization grids [h from 1% to 10% in steps of 0.5%] and [R from 5% to 100% insteps of 5%] for 3D plotting."
   ]
  },
  {
   "attachments": {},
   "cell_type": "markdown",
   "id": "d4f74356",
   "metadata": {},
   "source": [
    "## c. Fixed rate bond valuation in hazard rate model  (5 points)\n",
    "\n",
    "Implement the present value formula for the fixed rate bond.\n",
    "\n",
    "Plot the PV surface by h and R.\n",
    "\n"
   ]
  },
  {
   "attachments": {},
   "cell_type": "markdown",
   "id": "c03a8188",
   "metadata": {},
   "source": [
    "## d. Derive and implement the analytic formula for bond IR01.   (5 points)\n",
    " Use the price derivative with respect to interest rate r to obtain the bond IR01.\n",
    "\n",
    "Plot the IR01 surface by h and R."
   ]
  },
  {
   "attachments": {},
   "cell_type": "markdown",
   "id": "99dc12cc",
   "metadata": {},
   "source": [
    "## e. Derive and implement the analytic formula for bond HR01  (5 points)\n",
    "Use the price derivative with respect to hazard rate h to obtain the bond HR01.\n",
    "\n",
    "Plot the HR01 surface by h and R."
   ]
  }
 ],
 "metadata": {
  "hide_input": false,
  "kernelspec": {
   "display_name": "Python 3 (ipykernel)",
   "language": "python",
   "name": "python3"
  },
  "language_info": {
   "codemirror_mode": {
    "name": "ipython",
    "version": 3
   },
   "file_extension": ".py",
   "mimetype": "text/x-python",
   "name": "python",
   "nbconvert_exporter": "python",
   "pygments_lexer": "ipython3",
   "version": "3.8.12"
  }
 },
 "nbformat": 4,
 "nbformat_minor": 5
}
