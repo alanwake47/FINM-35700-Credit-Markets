{
 "cells": [
  {
   "attachments": {},
   "cell_type": "markdown",
   "id": "3e013a68",
   "metadata": {},
   "source": [
    "# Homework 1\n",
    "\n",
    "## FINM 35700 - Spring 2023\n",
    "\n",
    "### UChicago Financial Mathematics\n",
    "\n",
    "* Alex Popovici\n",
    "* alex.popovici@uchicago.edu"
   ]
  },
  {
   "attachments": {},
   "cell_type": "markdown",
   "id": "97d4c3b4",
   "metadata": {},
   "source": [
    "This homework relies on:\n",
    "\n",
    "- the US government bonds symbology file `govt_symbology`, \n",
    "- the \"on-the-run\" treasuries data file `govt_on_the_run`,\n",
    "- the corporate  bonds symbology file `corp_symbology` and\n",
    "- the market data file `market_prices_eod`.\n",
    "\n",
    "\n",
    "You can find more details on US treasury instruments in the FINM 37400 Fixed Income course.\n",
    "\n"
   ]
  },
  {
   "attachments": {},
   "cell_type": "markdown",
   "id": "27e68a4e",
   "metadata": {},
   "source": [
    "# Problem 1: Explore symbology for US treasuries and corporate bonds"
   ]
  },
  {
   "attachments": {},
   "cell_type": "markdown",
   "id": "e07bfd7c",
   "metadata": {},
   "source": [
    "## a. Load and explore US government bonds symbology data\n",
    "\n",
    "Load the `govt_symbology` Excel file into a dataframe. For each government bond issue, calculate its initial term/time-to-maturity in years (based on issue date and maturity date), as well as the current time-to-maturity. Assume a year has 365.25 days, or use QuantLib yearFraction() function."
   ]
  },
  {
   "attachments": {},
   "cell_type": "markdown",
   "id": "55572cf7",
   "metadata": {},
   "source": [
    "## b. Historical time series of US treasury coupons \n",
    "\n",
    "Plot the time series of coupons for for US treasury notes/bonds issued in the last 10 years (indexed by issue date). \n",
    "What can you say about the overall level of the coupons in the last 2 years?\n"
   ]
  },
  {
   "attachments": {},
   "cell_type": "markdown",
   "id": "7834d854",
   "metadata": {},
   "source": [
    "## c. Load the on-the-run US treasuries\n",
    "\n",
    "Load the `govt_on_the_run` Excel file into a dataframe. Select the current on-the-run 2Y, 3Y, 5Y, 7Y, 10Y, 20Y and 30Y issues (off-the-run issues have the B & C suffix). Create a separate symbology dataframe for on-the-run treasuries only, to be used later on for the on-the-run government yield curve bootstrapping."
   ]
  },
  {
   "attachments": {},
   "cell_type": "markdown",
   "id": "d24a0174",
   "metadata": {},
   "source": [
    "## d. Load and explore US corporate bonds symbology data\n",
    "\n",
    "Load the `corp_symbology` Excel file into a dataframe. \n",
    "\n",
    "Create a new (filtered) dataframe for \n",
    "* bullet/non-callable (mty_typ=\"AT MATURITY\"), \n",
    "* senior unsecured (rank = \"Sr Unsecured\"),\n",
    "* fixed coupon (cpn_type=\"FIXED\")\n",
    "\n",
    "bonds only, with following columns:\n",
    "\n",
    "\n",
    "\n",
    "| ticker | figi | security | name | coupon | start_date | maturity | term | TTM |\n",
    "|----------|-------|-------------|-----|----------|---------|---------|---------|---------|\n",
    "\n",
    "where \n",
    "* `term` refers to the initial term/time-to-maturity in years\n",
    "* `TTM` refers to the current time-to-maturity in years\n",
    "\n",
    "Create a separate dataframe for VZ issuer only."
   ]
  },
  {
   "attachments": {},
   "cell_type": "markdown",
   "id": "88994748",
   "metadata": {},
   "source": [
    "# Problem 2: Explore EOD market prices and yields"
   ]
  },
  {
   "attachments": {},
   "cell_type": "markdown",
   "id": "6a31f7a6",
   "metadata": {},
   "source": [
    "## a. Load and explore treasury market prices and yields\n",
    "\n",
    "Load the `market_prices_eod` Excel file into a dataframe. It provides market data for US treasuries and corporate bonds of 2023-04-14.\n",
    "\n",
    "Join the treasuries symbology dataframe with the market data, to add the following columns:\n",
    "\n",
    "\n",
    "| date | bid | ask | mid | bid_yield | ask_yield | mid_yield | term | TTM |\n",
    "|----------|-------|-------------|-----|----------|---------|---------|---------|---------|\n",
    "\n",
    "Plot a graph/scatter plot of treasury mid yields by TTM.\n"
   ]
  },
  {
   "attachments": {},
   "cell_type": "markdown",
   "id": "feef5b5b",
   "metadata": {},
   "source": [
    "## b. Explore on-the-run treasuries only\n",
    "Create a separate joint dataframe for on-the-run treasuries only.\n",
    "\n",
    "Plot a graph/scatter plot of on-the-run treasury mid yields by TTM."
   ]
  },
  {
   "attachments": {},
   "cell_type": "markdown",
   "id": "c012c6d0",
   "metadata": {},
   "source": [
    "## c. Load and explore corporate bond market prices and yields\n",
    "\n",
    "Join the filtered corporate bonds symbology dataframe with the market data, to add the following columns:\n",
    "\n",
    "\n",
    "| date | bid | ask | mid | bid_yield | ask_yield | mid_yield | term | TTM |\n",
    "|----------|-------|-------------|-----|----------|---------|---------|---------|---------|\n",
    "\n",
    "List the unique tickers/issuers available in the dataframe."
   ]
  },
  {
   "attachments": {},
   "cell_type": "markdown",
   "id": "3928bcf3",
   "metadata": {},
   "source": [
    "## d. Yield curve plots\n",
    "\n",
    "Plot a graph/scatter plot of mid yield curves by TTM (one line per ticker/issuer).\n",
    "\n",
    "Add a separate line for on-the-run US treasury yield curve (risk free curve).\n",
    "\n",
    "What can you say about the credit issuer yields, compared to US treasury yields?"
   ]
  },
  {
   "attachments": {},
   "cell_type": "markdown",
   "id": "2faf5756",
   "metadata": {},
   "source": [
    "# Problem 3: Underying treasury benchmarks and credit spreads"
   ]
  },
  {
   "attachments": {},
   "cell_type": "markdown",
   "id": "7abd24b6",
   "metadata": {},
   "source": [
    "## a. Add underlying benchmark bond mid yields\n",
    "\n",
    "Use the column 'und_bench_yield' to identify the underlying benchmark bond for each issue.\n",
    "\n",
    "Add two new columns to the joint corporate bond dataframe:\n",
    "\n",
    "| und_bench_yield | credit_spread |\n",
    "|----------|-------|\n",
    "\n",
    "where \n",
    "\n",
    "*  `und_bench_yield` = underlying benchmark bond mid yield and\n",
    "*  `credit_spread` = issue yield - underlying benchmark bond mid yield."
   ]
  },
  {
   "attachments": {},
   "cell_type": "markdown",
   "id": "de37fc66",
   "metadata": {},
   "source": [
    "## b. Credit spread curve plots\n",
    "\n",
    "Plot a graph/scatter plot of credit spread curves by TTM (one line per issuer).\n"
   ]
  },
  {
   "attachments": {},
   "cell_type": "markdown",
   "id": "72a89906",
   "metadata": {},
   "source": [
    "## c. Add g-spreads\n",
    "\n",
    "Add two new columns to the joint corporate bond dataframe:\n",
    "\n",
    "| interp_tsy_yield | g_spread |\n",
    "|----------|-------|\n",
    "\n",
    "where \n",
    "\n",
    "*  `interp_tsy_yield` = interpolated treasury yield (using on-the-run treasuries only), matching the issue maturity\n",
    "*  `g_spread` = issue yield - interp_tsy_yield."
   ]
  },
  {
   "attachments": {},
   "cell_type": "markdown",
   "id": "a86e5379",
   "metadata": {},
   "source": [
    "## d. G-spread curve plots\n",
    "\n",
    "Plot a graph/scatter plot of g-spread curves by TTM (one line per issuer).\n"
   ]
  },
  {
   "attachments": {},
   "cell_type": "markdown",
   "id": "904f222d",
   "metadata": {},
   "source": [
    "# Problem 4: Explore the QuantLib introductory notebook\n",
    "\n",
    "Try to link concepts discussed in Session 1 to various sections in the notebook. \n",
    "\n",
    "Address open questions by consulting the library documentation.\n",
    "\n",
    "Going forward, we will be using QuantLib for curve calibration (US Treasury + SOFR), as well as pricing and risk of various cash and synthetic credit instruments."
   ]
  }
 ],
 "metadata": {
  "hide_input": false,
  "kernelspec": {
   "display_name": "Python 3 (ipykernel)",
   "language": "python",
   "name": "python3"
  },
  "language_info": {
   "codemirror_mode": {
    "name": "ipython",
    "version": 3
   },
   "file_extension": ".py",
   "mimetype": "text/x-python",
   "name": "python",
   "nbconvert_exporter": "python",
   "pygments_lexer": "ipython3",
   "version": "3.9.7"
  }
 },
 "nbformat": 4,
 "nbformat_minor": 5
}
