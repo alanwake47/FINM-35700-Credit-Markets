{
 "cells": [
  {
   "cell_type": "code",
   "execution_count": 4,
   "metadata": {},
   "outputs": [],
   "source": [
    "from credit_helper import *\n",
    "import os"
   ]
  },
  {
   "cell_type": "code",
   "execution_count": 5,
   "metadata": {},
   "outputs": [],
   "source": [
    "mydir = os.getcwd()"
   ]
  },
  {
   "attachments": {},
   "cell_type": "markdown",
   "metadata": {},
   "source": [
    "---\n",
    "---"
   ]
  },
  {
   "attachments": {},
   "cell_type": "markdown",
   "metadata": {},
   "source": [
    "### HW1Q1 - Explore symbology for US treasuries and corporate bonds\n",
    "1. Load the `govt_symbology` Excel file into a dataframe. For each government bond issue, calculate its initial term/time-to-maturity in years (based on issue date and maturity date), as well as the current time-to-maturity. Assume a year has 365.25 days, or use QuantLib yearFraction() function.\n",
    "2. Plot the time series of coupons for for US treasury notes/bonds issued in the last 10 years (indexed by issue date). What can you say about the overall level of the coupons in the last 2 years?\n",
    "3. Load the `govt_on_the_run` Excel file into a dataframe. Select the current on-the-run 2Y, 3Y, 5Y, 7Y, 10Y, 20Y and 30Y issues (off-the-run issues have the B & C suffix). Create a separate symbology dataframe for on-the-run treasuries only, to be used later on for the on-the-run government yield curve bootstrapping.\n",
    "4. Load the `corp_symbology` Excel file into a dataframe. \n",
    "5. Create a new (filtered) dataframe for \n",
    "   * bullet/non-callable (mty_typ=\"AT MATURITY\"), \n",
    "   * senior unsecured (rank = \"Sr Unsecured\"),\n",
    "   * fixed coupon (cpn_type=\"FIXED\") <br>\n",
    " \n",
    "where, \n",
    "   * `term` refers to the initial term/time-to-maturity in years\n",
    "   * `TTM` refers to the current time-to-maturity in years\n",
    ">\n"
   ]
  },
  {
   "attachments": {},
   "cell_type": "markdown",
   "metadata": {},
   "source": [
    "### HW1Q2 - Explore EOD market prices and yields\n",
    "1. Load the `market_prices_eod` Excel file into a dataframe. It provides market data for US treasuries and corporate bonds of 2023-04-14. Join the treasuries symbology dataframe with the market data\n",
    "2. Plot a graph/scatter plot of treasury mid yields by TTM.\n",
    "3. Create a separate joint dataframe for on-the-run treasuries only.\n",
    "4. Plot a graph/scatter plot of on-the-run treasury mid yields by TTM.\n",
    "5. Join the filtered corporate bonds symbology dataframe with the market data.\n",
    "6. Plot a graph/scatter plot of mid yield curves by TTM (one line per ticker/issuer).\n",
    "7. Add a separate line for on-the-run US treasury yield curve (risk free curve). What can you say about the credit issuer yields, compared to US treasury yields?"
   ]
  },
  {
   "attachments": {},
   "cell_type": "markdown",
   "metadata": {},
   "source": [
    "### HW1Q3 - Underying treasury benchmarks and credit spreads\n",
    "1. Use the column 'und_bench_yield' to identify the underlying benchmark bond for each issue. Add two new columns to the joint corporate bond dataframe.\n",
    "*  `und_bench_yield` = underlying benchmark bond mid yield and\n",
    "*  `credit_spread` = issue yield - underlying benchmark bond mid yield.\n",
    "2. Plot a graph/scatter plot of credit spread curves by TTM (one line per issuer).\n",
    "3. Add two new columns to the joint corporate bond dataframe:\n",
    "*  `interp_tsy_yield` = interpolated treasury yield (using on-the-run treasuries only), matching the issue maturity\n",
    "*  `g_spread` = issue yield - interp_tsy_yield.\n",
    "4. Plot a graph/scatter plot of g-spread curves by TTM (one line per issuer)."
   ]
  },
  {
   "attachments": {},
   "cell_type": "markdown",
   "metadata": {},
   "source": [
    "### HW2Q1 - Constructing fixed rate bonds\n",
    "1. Load the `govt_symbology` and `corp_symbology` Excel files into one common dataframe, using the `corp_symbology` columns. Filter the dataframe and keep fixed rate bonds only: (cpn_type=\"FIXED\").\n",
    "2. Add function to construct generic fixed rate cashflow schedules from symbology data.\n",
    "   1. Use one row of the symbology dataframe as input  to the function. Use the helper function to convert a date string to a QuantLib date object. `get_ql_date(date_str)` , `create_schedule_from_symbology(row)`.\n",
    "   2. Use one row of the symbology dataframe as input to the function. Use `create_schedule_from_symbology(row)` internally to create the cashflow schedule.\n",
    "3. Add function that returns a dataframe with (future) cash flows details for a bond object - `get_bond_cashflows(bond, calc_date)`."
   ]
  },
  {
   "attachments": {},
   "cell_type": "markdown",
   "metadata": {},
   "source": [
    "### HW2Q2 HW2Q3 -  US Treasury yield curve calibration (On-The-Runs) | Pricing and risk metrics for US Treasury bonds\n",
    "1. Restrict the symbology + market data dataframe to on-the-run US treasury notes only (excluding Treasury Bills) and create the treasury bond objects.\n",
    "2. Calibrate the on-the-run treasury yield curve (bootstrapping). The function below shows how to calibrate a smooth yield/discount factor curve from the on-the-run treasury dataframe. `calibrate_yield_curve_from_frame(calc_date, treasury_details, price_quote_column_name)`.\n",
    "3. Create a graph/scatter plot of the newly computed mid yields by maturity.\n",
    "4. Plot the discount factor curve up to the 30 years point, using a 6 months discretization grid.\n",
    "5. US Treasury pricing on the calibrated discount factor curve. You will need to switch the bond_engine to use the new on-the-run treasury yield curve:\n",
    "`bond_engine = ql.DiscountingBondEngine(treasury_yield_curve_mid_handle)`\n",
    "6. Compute analytical DV01, Duration and Convexity for US on-the-run treasuries (using flat yield). Remember that DV01 = Dirty_Price * Duration\n",
    "7. Compute scenario DV01, Duration and Convexity for US on-the-run treasuries (using calibrated yield curve)"
   ]
  },
  {
   "attachments": {},
   "cell_type": "markdown",
   "metadata": {},
   "source": [
    "### HW2Q4 - Pricing and risk metrics for corporate bonds\n",
    "1. Create the on-the-run corporate bond objects\n",
    "2. Compute analytical Yields and Z-Spreads\n",
    "3. Validate Z-Spread computation for a few fixed rate corporate bonds\n",
    "4. Compute Duration and Convexity for fixed rate corporate bonds (using flat yield)"
   ]
  },
  {
   "attachments": {},
   "cell_type": "markdown",
   "metadata": {},
   "source": [
    "### HW3Q1 - More details on callable bonds: \"workout-date\" and \"yield-to-worst\" calculations\n",
    "1. Load the `call_schedules` Excel file into a dataframe. It contains call schedules for fixed-rate, callable corporate bonds.For each bond in the dataframe, compute the total number of outstanding calls.\n",
    "2. Load symbology dataframe and extend it with the fixed-rate callable corporate bond details from 1a.\n",
    "3. Add a function to compute \"workout date\" and \"yield-to-worst\" for a fixed-rate callable bond\n",
    "4. Compute \"workout dates\" and \"yields-to-worst\" for all fixed-rate callable bonds.For each fixed-rate callable bond in the symbology dataframe from 1b (using calc_date = '2023-04-14' and clean market prices):\n",
    "   1. Compute the yield to maturity \n",
    "   2. Use the function from 1c to compute \"workout date\" and \"yield-to-worst\"."
   ]
  },
  {
   "attachments": {},
   "cell_type": "markdown",
   "metadata": {},
   "source": [
    "### HW3Q3 - US SOFR swap curve calibration as of 2023-04-28\n",
    "1. Load and explore US SOFR swaps symbology and market data\n",
    "2. Load the `sofr_swap_symbology`. Load the `sofr_swaps_market_data_eod`. Plot the historial time series of SOFR rates for the available [1Y, 2Y, 3Y, 5Y, 7Y, 10Y, 20Y, 30Y] tenors.\n",
    "3. Calibrate the US SOFR yield curve (via bootstrapping). Calibrate a smooth yield/discount factor curve from SOFR swaps.\n",
    "4. Display the calibrated SOFR discount curve dataframe. Display the calibration details dataframe.\n",
    "5. Plot the calibrated US SOFR Zero Interest Rates and Discount Factor curves. Plot the SOFR zero rates and discount factor curves by maturity"
   ]
  },
  {
   "attachments": {},
   "cell_type": "markdown",
   "metadata": {},
   "source": [
    "### HW3Q4 - CDS Hazard Rate calibration and valuation\n",
    "1. Follow Section \"12. CDS Hazard Rate calibration + Pricing\" in the QuantLib Intro notebook. Load and explore the CDS market data. Plot the historical time series of CDS Par Spreads for the available tenors.\n",
    "2. Calibrate the IBM hazard rate curve as of 2023-04-28. Follow section 12a. Use the calibrated SOFR discount curve from 2b.\n",
    "3. Plot the calibrated Hazard Rates and Survival Probability curves. Follow section 12b. Use the calibrated SOFR discount curve from 2b.\n",
    "4. Compute the fair/par spread and PV of a CDS. Follow section 12c. Construct a CDS object with 100 bps coupon and 2027-06-20 maturity. Compute the fair/par spread and PV."
   ]
  }
 ],
 "metadata": {
  "kernelspec": {
   "display_name": "base",
   "language": "python",
   "name": "python3"
  },
  "language_info": {
   "codemirror_mode": {
    "name": "ipython",
    "version": 3
   },
   "file_extension": ".py",
   "mimetype": "text/x-python",
   "name": "python",
   "nbconvert_exporter": "python",
   "pygments_lexer": "ipython3",
   "version": "3.9.13"
  },
  "orig_nbformat": 4
 },
 "nbformat": 4,
 "nbformat_minor": 2
}
