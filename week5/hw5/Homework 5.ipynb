{
 "cells": [
  {
   "attachments": {},
   "cell_type": "markdown",
   "id": "3e013a68",
   "metadata": {},
   "source": [
    "# Homework 5\n",
    "\n",
    "## FINM 35700 - Spring 2023\n",
    "\n",
    "### UChicago Financial Mathematics\n",
    "\n",
    "* Alex Popovici\n",
    "* alex.popovici@uchicago.edu"
   ]
  },
  {
   "attachments": {},
   "cell_type": "markdown",
   "id": "97d4c3b4",
   "metadata": {},
   "source": [
    "This homework relies on following symbology & data files, as of 2023-05-12.\n",
    "\n",
    "US government bonds:\n",
    "- the US government bonds symbology file `govt_symbology`, \n",
    "- the \"on-the-run\" treasuries data file `govt_on_the_run`,\n",
    "- the US Government bonds market data file `govt_market_prices_eod`,\n",
    "\n",
    "SOFR OIS swaps:\n",
    "- the SOFR OIS swaps symbology file (for hyg basket) `sofr_swaps_symbology`,\n",
    "- the SOFR OIS swaps market data file `sofr_swaps_market_data_eod`,\n",
    "\n",
    "CDX Index:\n",
    "- the CDX Index symbology file (for hyg basket) `cdx_symbology`,\n",
    "- the CDX Index basket composition file `cdx_basket_composition`,\n",
    "\n",
    "HYG ETF:\n",
    "- the corporate  bonds symbology file (for HYG basket) `hyg_corp_symbology`,\n",
    "- the HYG ETF basket composition file  `hyg_basket_composition`,\n"
   ]
  },
  {
   "attachments": {},
   "cell_type": "markdown",
   "id": "da521790",
   "metadata": {},
   "source": [
    "## Scoring: Total of 100 points\n",
    "\n",
    "| Problem | Points |\n",
    "|---------|--------|\n",
    "| 1       | 10     |\n",
    "| 2       | 10     |\n",
    "| 3       | 15     |\n",
    "| 4       | 30     |\n",
    "| 5       | 35     |"
   ]
  },
  {
   "attachments": {},
   "cell_type": "markdown",
   "id": "27e68a4e",
   "metadata": {},
   "source": [
    "# Problem 1: Fixed rate Bond prices and sensitivities (bond yield model)"
   ]
  },
  {
   "attachments": {},
   "cell_type": "markdown",
   "id": "e07bfd7c",
   "metadata": {},
   "source": [
    "## a. True or False (fixed rate bond prices)\n",
    "\n",
    "1. Fixed rate bond price is increasing in yield\n",
    "2. Fixed rate bond price is increasing in coupon\n",
    "3. Fixed rate bond price is increasing in bond maturity\n",
    "4. Fixed rate callable bond prices are higher or equal to their \"bullet\" (non-callable) version."
   ]
  },
  {
   "attachments": {},
   "cell_type": "markdown",
   "id": "f35a4c28",
   "metadata": {},
   "source": [
    "## b. True or False (fixed rate bond yields)\n",
    "\n",
    "1. Fixed rate bond yield is increasing in interest rate\n",
    "1. Fixed rate bond yield is increasing in credit spread\n",
    "2. Fixed rate bond yield is increasing in coupon\n",
    "3. Fixed rate bond yield is increasing in bond maturity\n",
    "4. Fixed rate callable bond yields are lower or equal to their \"bullet\" (non-callable) version."
   ]
  },
  {
   "attachments": {},
   "cell_type": "markdown",
   "id": "b55f5008",
   "metadata": {},
   "source": [
    "## c. True or False (fixed rate bond durations)\n",
    "\n",
    "1. Fixed rate bond duration is increasing with yield\n",
    "2. Fixed rate bond duration is increasing in coupon\n",
    "3. Fixed rate bond duration is increasing with bond maturity\n",
    "4. Fixed rate callable bond durations are higher or equal to their \"bullet\" (non-callable) version .\n"
   ]
  },
  {
   "attachments": {},
   "cell_type": "markdown",
   "id": "bcd04674",
   "metadata": {},
   "source": [
    "## d. True or False (fixed rate bond convexities)\n",
    "\n",
    "1. Fixed rate bond convexity is increasing with yield\n",
    "2. Fixed rate bond convexity is increasing in coupon\n",
    "3. Fixed rate bond convexity is increasing with bond maturity\n",
    "4. Fixed rate callable bond convexities are higher or equal to their \"bullet\" (non-callable) version .\n"
   ]
  },
  {
   "attachments": {},
   "cell_type": "markdown",
   "id": "f293d23e",
   "metadata": {},
   "source": [
    "# Problem 2: Credit Default Swaps (hazard rate model)\n",
    "## a. True or False (CDS Premium Leg PV)\n",
    "\n",
    "1. CDS premium leg PV is increasing in CDS Par Spread\n",
    "2. CDS premium leg PV is increasing in interest rate\n",
    "2. CDS premium leg PV is increasing in hazard rate\n",
    "3. CDS premium leg PV is increasing in recovery rate\n",
    "4. CDS premium leg PV is increasing in coupon\n",
    "5. CDS premium leg PV is increasing in CDS maturity\n"
   ]
  },
  {
   "attachments": {},
   "cell_type": "markdown",
   "id": "d921375c",
   "metadata": {},
   "source": [
    "## b. True or False (CDS Default Leg PV)\n",
    "\n",
    "1. CDS default leg PV is increasing in CDS Par Spread\n",
    "2. CDS default leg PV is increasing in interest rate\n",
    "3. CDS default leg PV is increasing in hazard rate\n",
    "4. CDS default leg PV is increasing in recovery rate\n",
    "5. CDS default leg PV is increasing in coupon\n",
    "6. CDS default leg PV is increasing in CDS maturity"
   ]
  },
  {
   "attachments": {},
   "cell_type": "markdown",
   "id": "77064349",
   "metadata": {},
   "source": [
    "## c. True or False (CDS PV)\n",
    "\n",
    "\n",
    "1. CDS PV is increasing in CDS Par Spread\n",
    "2. CDS PV is increasing in interest rate\n",
    "3. CDS PV is increasing in hazard rate\n",
    "4. CDS PV is increasing in recovery rate\n",
    "5. CDS PV is increasing in coupon\n",
    "6. CDS PV is increasing in CDS maturity"
   ]
  },
  {
   "attachments": {},
   "cell_type": "markdown",
   "id": "58ac74be",
   "metadata": {},
   "source": [
    "## d. True or False (CDS Par Spread)\n",
    "\n",
    "\n",
    "1. CDS Par Spread is increasing in interest rates\n",
    "2. CDS Par Spread is increasing in hazard rate\n",
    "3. CDS Par Spread is increasing in recovery rate\n",
    "4. CDS Par Spread is increasing in coupon\n",
    "5. CDS Par Spread is increasing in CDS maturity"
   ]
  },
  {
   "attachments": {},
   "cell_type": "markdown",
   "id": "d3f2d550",
   "metadata": {},
   "source": [
    "# Problem 3: Perpetual CDS\n",
    "We are interested in a perpetual CDS contract (infinite maturity) on a face notional of $100, flat interest rate of 4% and coupon of 5% (quarterly payments).\n",
    "\n",
    "For simplicity, we assuming a flat hazard rate of 1% per annum, a rcovery of 40%, T+0 settlement and zero accrued."
   ]
  },
  {
   "attachments": {},
   "cell_type": "markdown",
   "id": "5868e51a",
   "metadata": {},
   "source": [
    "## a. What is the fair value of the CDS premium leg?\n"
   ]
  },
  {
   "attachments": {},
   "cell_type": "markdown",
   "id": "3ea18d24",
   "metadata": {},
   "source": [
    "## b. Compute the fair value of the CDS default leg and the CDS Par Spread."
   ]
  },
  {
   "attachments": {},
   "cell_type": "markdown",
   "id": "6bdbf185",
   "metadata": {},
   "source": [
    "## c. Compute the following CDS risk sensitivities:\n",
    "- IR01\n",
    "- HR01\n",
    "- CS01 and\n",
    "- REC01\n",
    "\n",
    "using the scenario method.\n"
   ]
  },
  {
   "attachments": {},
   "cell_type": "markdown",
   "id": "1fbffdec",
   "metadata": {},
   "source": [
    "## d. At what time to maturity T does the (implied) default probability over next 5 years drop to 1%?\n",
    "\n",
    "\\begin{align}\n",
    "\\mathbb{P} \\left(\\tau \\in [T, T+5] \\right) = 1/100\n",
    "\\end{align}\n"
   ]
  },
  {
   "attachments": {},
   "cell_type": "markdown",
   "id": "2dac64a2",
   "metadata": {},
   "source": [
    "# Problem 4: CDS Intrinisc Index analysis on CDX IG 5Y\n"
   ]
  },
  {
   "cell_type": "code",
   "execution_count": 2,
   "id": "27fb2935",
   "metadata": {},
   "outputs": [],
   "source": [
    "import QuantLib as ql\n",
    "import numpy as np\n",
    "import pandas as pd\n",
    "import datetime as dt\n",
    "\n",
    "import matplotlib.pyplot as plt\n",
    "%matplotlib inline"
   ]
  },
  {
   "cell_type": "code",
   "execution_count": 4,
   "id": "35534d7d",
   "metadata": {},
   "outputs": [],
   "source": [
    "# Use static calculation/valuation date of 2023-05-12, matching data available in the market prices EOD file\n",
    "calc_date = ql.Date(12, 5, 2023)\n",
    "ql.Settings.instance().evaluationDate = calc_date"
   ]
  },
  {
   "attachments": {},
   "cell_type": "markdown",
   "id": "b74a4cd1",
   "metadata": {},
   "source": [
    "## a. Load and explore the CDX IG 5Y symbology, basket composition and market data\n",
    "\n",
    "Load the `cdx_symbology` Excel file into a dataframe. Identify the CDX IG 5Y Series 40 index.\n",
    "\n",
    "Load the `cdx_basket_composition` Excel file into a dataframe. It contains the CDX IG 5Y Series 40 basket composition and CDS Par Spread quotes as of 2023-05-12.\n",
    "\n",
    "How many CDS contracts are in the CDX index basket? What are the contractual specs and weights of each CDS? Remember that each CDS is identical to the CDX index and the basket has uniform weights.\n",
    "\n",
    "Compute mean, median and standard deviation of CDS Par Spreads in the basket.\n",
    "\n",
    "Sort the basket dataframe by CDS Par Spreads and plot the chart of CDS Par Spreads."
   ]
  },
  {
   "attachments": {},
   "cell_type": "markdown",
   "id": "30fcd104",
   "metadata": {},
   "source": [
    "## b. Calibrate the US SOFR yield curve (via bootstrapping)\n",
    "Load the `sofr_swap_symbology` Excel file into a dataframe.\n",
    "\n",
    "Load the `sofr_swaps_market_data_eod` Excel file into a dataframe. Print all dates available.\n",
    "\n",
    "Follow Homework 3, Problem 3 and calibrate the SOFR discount curve as of 2023-05-12. You can use the SOFR calibration function below."
   ]
  },
  {
   "cell_type": "code",
   "execution_count": 5,
   "id": "f01dbe1f",
   "metadata": {},
   "outputs": [],
   "source": [
    "def calibrate_sofr_curve_from_frame(\n",
    "        calc_date: ql.Date,\n",
    "        sofr_details: pd.DataFrame,\n",
    "        rate_quote_column: str):\n",
    "    '''Create a calibrated yield curve from a SOFR details dataframe which includes rate quotes.\n",
    "    '''\n",
    "    ql.Settings.instance().evaluationDate = calc_date\n",
    "\n",
    "    # Sort dataframe by maturity\n",
    "    sorted_details_frame = sofr_details.sort_values(by='term')    \n",
    "    \n",
    "    # settle_days\n",
    "    settle_days = 2\n",
    "    \n",
    "    # For US SOFR OIS Swaps \n",
    "    day_count = ql.Actual360()\n",
    "\n",
    "    # For US SOFR Swaps     \n",
    "    calendar = ql.UnitedStates(ql.UnitedStates.GovernmentBond)\n",
    "    \n",
    "    sofr_helpers = []\n",
    "    \n",
    "    for index, row in sorted_details_frame.iterrows():\n",
    "        sofr_quote = row[rate_quote_column]\n",
    "        tenor_in_years = row['term']\n",
    "        sofr_tenor = ql.Period(tenor_in_years, ql.Years)\n",
    "        \n",
    "        # create sofr_rate_helper\n",
    "        sofr_helper = ql.OISRateHelper(settle_days, sofr_tenor, ql.QuoteHandle(ql.SimpleQuote(sofr_quote/100)), ql.Sofr())\n",
    "                        \n",
    "        sofr_helpers.append(sofr_helper)\n",
    "        \n",
    "    sofr_yield_curve = ql.PiecewiseLinearZero(settle_days, calendar, sofr_helpers, day_count)\n",
    "    sofr_yield_curve.enableExtrapolation()\n",
    "    \n",
    "    return sofr_yield_curve"
   ]
  },
  {
   "attachments": {},
   "cell_type": "markdown",
   "id": "1eb13b3a",
   "metadata": {},
   "source": [
    "## c. Compute the intrinsic Premium Leg PV of the CDX index basket\n",
    "\n",
    "For each instrument in the basket, create the CDS object and calibrate the corresponding hazard rate / survival probability curve.\n",
    "\n",
    "Compute the Premium Leg PV for each CDS and determine the intrinsic Premium Leg PV of the basket (using basket weights)."
   ]
  },
  {
   "attachments": {},
   "cell_type": "markdown",
   "id": "d9706e38",
   "metadata": {},
   "source": [
    "## d. Compute the intrinsic Default Leg PV of the CDX index basket\n",
    "\n",
    "Compute the Default Leg PV for each CDS and determine the intrinsic Default Leg PV of the basket (using basket weights)."
   ]
  },
  {
   "attachments": {},
   "cell_type": "markdown",
   "id": "f44e3443",
   "metadata": {},
   "source": [
    "## e. Compute the intrinsic PV and Par Spread of the CDX index basket\n",
    "\n",
    "Compute the intrinsic index PV. \n",
    "\n",
    "Compute the CDX instrinsic index Par Spread (using ratio of CDX default vs premium legs)."
   ]
  },
  {
   "attachments": {},
   "cell_type": "markdown",
   "id": "b7c42c12",
   "metadata": {},
   "source": [
    "# Problem 5: Credit ETF analysis on HYG"
   ]
  },
  {
   "attachments": {},
   "cell_type": "markdown",
   "id": "61d843a8",
   "metadata": {},
   "source": [
    "## a. Load and explore the HYG basket composition and market data\n",
    "\n",
    "Load the `hyg_basket_composition` Excel file into a dataframe. It contains the HYG basket constituent face notionals, weights and yields-to-maturities as of 2023-05-12.\n",
    "\n",
    "Load the `hyg_corp_symbology` Excel file into a dataframe. It contains the corporate bond details for HYG constituents.\n",
    "\n",
    "How many corporate bonds are in the HYG basket?  What are the average and median face notionals for a bond?\n",
    "\n",
    "How many unique tickers are in the HYG basket? What are the average and median face notionals for a ticker?\n",
    "\n",
    "Compute mean, median and standard deviation of yields-to-maturity of bonds in the basket."
   ]
  },
  {
   "attachments": {},
   "cell_type": "markdown",
   "id": "06f2e605",
   "metadata": {},
   "source": [
    "## b. Compute the NAV of the HYG basket and the intrinsic price of one ETF share.\n",
    "\n",
    "Create the bond objects for all constituents of HYG. Compute the dirty price for each bond (from yield-to-maturity).\n",
    "\n",
    "Aggregate the ETF NAV value (intrisic value of bond basket) as the weighted sum of dirty prices times basket weights. Keep in mind that the resulting ETF NAV will be on a face of $100, since the basket face notional weights add up to 100 percent.\n",
    "\n",
    "Compute the intrinisc market capitalization of the HYG ETF by scaling the ETF NAV price to the ETF total face notional. \n",
    "\n",
    "Divide by 195,800,000 (the number of ETF shared outstanding as of 2023-05-12) to obtain the intrinsic price of one HYG ETF share."
   ]
  },
  {
   "attachments": {},
   "cell_type": "markdown",
   "id": "0ab41951",
   "metadata": {},
   "source": [
    "## c. Compute the ETF yield using the ACF (Aggregated Cash-Flows) method\n",
    "\n",
    "Create the bond objects for all constituents of HYG. \n",
    "\n",
    "Write a function that computes the ETF NAV for a given flat yield y.\n",
    "\n",
    "Solve for \n",
    "\n",
    "ETF_NAV(yield) = ETF_NAV_Price \n",
    "\n",
    "to obtain the ETF yield.\n",
    "\n",
    "\n",
    "\n"
   ]
  },
  {
   "attachments": {},
   "cell_type": "markdown",
   "id": "4f762792",
   "metadata": {},
   "source": [
    "## d. Compute the ETF DV01, Duration and Convexity\n",
    "\n",
    "Treat the ETF basket as a synthetic bond.\n",
    "\n",
    "Use +/- 1 bp scenarios in ETF yield space to compute the ETF DV01, Duration and Convexity.\n"
   ]
  },
  {
   "attachments": {},
   "cell_type": "markdown",
   "id": "ce267203",
   "metadata": {},
   "source": [
    "## e. Compute the ETF z-spread\n",
    "\n",
    "Load and calibrate the US Treasury discount curve as of 2023-05-12. Follow Homework 2, Problem 2.\n",
    "\n",
    "Write a function that computes the ETF NAV for a given flat z-spread (parallel shift on the top of the US Treasury yield curve)\n",
    "\n",
    "Solve for \n",
    "\n",
    "ETF_NAV(z-spread) = ETF_NAV_Price \n",
    "\n",
    "to obtain the ETF z-spread.\n",
    "\n",
    "Use Section 9 \"Analytical Duration, Convexity and Z-Spread\" of the QuantLib as a template for applying the flat z-spread to the US Treasury yield curve."
   ]
  }
 ],
 "metadata": {
  "hide_input": false,
  "kernelspec": {
   "display_name": "Python 3 (ipykernel)",
   "language": "python",
   "name": "python3"
  },
  "language_info": {
   "codemirror_mode": {
    "name": "ipython",
    "version": 3
   },
   "file_extension": ".py",
   "mimetype": "text/x-python",
   "name": "python",
   "nbconvert_exporter": "python",
   "pygments_lexer": "ipython3",
   "version": "3.8.2"
  }
 },
 "nbformat": 4,
 "nbformat_minor": 5
}
